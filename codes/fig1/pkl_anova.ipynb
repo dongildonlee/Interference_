{
 "cells": [
  {
   "cell_type": "code",
   "execution_count": 1,
   "id": "cfd5ff57",
   "metadata": {
    "tags": []
   },
   "outputs": [],
   "source": [
    "import numpy as np\n",
    "import pandas as pd\n",
    "import time\n",
    "import sys\n",
    "import os\n",
    "import h5py\n",
    "from joblib import Parallel, delayed\n",
    "sys.path.append('../')\n",
    "from packages import actv_analysis, svm, load_csv, stats, objects\n",
    "import pickle"
   ]
  },
  {
   "cell_type": "code",
   "execution_count": null,
   "id": "c5555736",
   "metadata": {
    "tags": []
   },
   "outputs": [
    {
     "name": "stdout",
     "output_type": "stream",
     "text": [
      "Network1 Relu2 Epoch0\n",
      "9098 units for a task completion.\n",
      "Less than 90% of units are incomplete. 0.04875042866941015% units incomplete!\n",
      "Skipping ANOVA2...\n",
      "Network1 Relu2 Epoch10\n",
      "77578 units for a task completion.\n",
      "Less than 90% of units are incomplete. 0.41569144375857336% units incomplete!\n",
      "Skipping ANOVA2...\n",
      "Network1 Relu2 Epoch20\n",
      "71737 units for a task completion.\n",
      "Less than 90% of units are incomplete. 0.3843932184499314% units incomplete!\n",
      "Skipping ANOVA2...\n",
      "Network1 Relu2 Epoch30\n",
      "60962 units for a task completion.\n",
      "Less than 90% of units are incomplete. 0.3266568072702332% units incomplete!\n",
      "Skipping ANOVA2...\n",
      "Network1 Relu2 Epoch40\n",
      "Pickle file network1_Relu2_epoch40.pkl not found. Creating a new pkl..\n",
      "--- 209.7750289440155 seconds ---\n",
      "10.142318244170095% of units have zero responses.\n",
      "Processing net 1, relu 2, epoch 40, block 1/85\n",
      "--- 198.6518428325653 seconds ---\n",
      "Processing net 1, relu 2, epoch 40, block 2/85\n",
      "--- 228.82766008377075 seconds ---\n",
      "Processing net 1, relu 2, epoch 40, block 3/85\n",
      "--- 233.86967778205872 seconds ---\n",
      "Processing net 1, relu 2, epoch 40, block 4/85\n",
      "--- 246.65350604057312 seconds ---\n",
      "Processing net 1, relu 2, epoch 40, block 5/85\n",
      "--- 227.10538482666016 seconds ---\n",
      "Processing net 1, relu 2, epoch 40, block 6/85\n",
      "--- 217.25686383247375 seconds ---\n",
      "Processing net 1, relu 2, epoch 40, block 7/85\n",
      "--- 219.71558284759521 seconds ---\n",
      "Processing net 1, relu 2, epoch 40, block 8/85\n",
      "--- 219.86557483673096 seconds ---\n",
      "Processing net 1, relu 2, epoch 40, block 9/85\n",
      "--- 217.18010663986206 seconds ---\n",
      "Processing net 1, relu 2, epoch 40, block 10/85\n",
      "--- 220.73005986213684 seconds ---\n",
      "Processing net 1, relu 2, epoch 40, block 11/85\n",
      "--- 223.53436493873596 seconds ---\n",
      "Processing net 1, relu 2, epoch 40, block 12/85\n",
      "--- 220.66709804534912 seconds ---\n",
      "Processing net 1, relu 2, epoch 40, block 13/85\n",
      "--- 222.37792897224426 seconds ---\n",
      "Processing net 1, relu 2, epoch 40, block 14/85\n",
      "--- 223.48483109474182 seconds ---\n",
      "Processing net 1, relu 2, epoch 40, block 15/85\n",
      "--- 221.96587896347046 seconds ---\n",
      "Processing net 1, relu 2, epoch 40, block 16/85\n",
      "--- 220.3176827430725 seconds ---\n",
      "Processing net 1, relu 2, epoch 40, block 17/85\n",
      "--- 220.9385688304901 seconds ---\n",
      "Processing net 1, relu 2, epoch 40, block 18/85\n",
      "--- 220.43043899536133 seconds ---\n",
      "Processing net 1, relu 2, epoch 40, block 19/85\n",
      "--- 221.29507303237915 seconds ---\n",
      "Processing net 1, relu 2, epoch 40, block 20/85\n",
      "--- 222.4324107170105 seconds ---\n",
      "Processing net 1, relu 2, epoch 40, block 21/85\n",
      "--- 216.8693811893463 seconds ---\n",
      "Processing net 1, relu 2, epoch 40, block 22/85\n",
      "--- 219.10966777801514 seconds ---\n",
      "Processing net 1, relu 2, epoch 40, block 23/85\n",
      "--- 220.83912014961243 seconds ---\n",
      "Processing net 1, relu 2, epoch 40, block 24/85\n",
      "An error occurred: SVD did not converge\n",
      "Processing net 1, relu 2, epoch 40, block 25/85\n",
      "--- 223.53278803825378 seconds ---\n",
      "Processing net 1, relu 2, epoch 40, block 26/85\n",
      "--- 219.66275310516357 seconds ---\n",
      "Processing net 1, relu 2, epoch 40, block 27/85\n",
      "--- 220.28884625434875 seconds ---\n",
      "Processing net 1, relu 2, epoch 40, block 28/85\n",
      "--- 220.298810005188 seconds ---\n",
      "Processing net 1, relu 2, epoch 40, block 29/85\n",
      "--- 218.63157415390015 seconds ---\n",
      "Processing net 1, relu 2, epoch 40, block 30/85\n",
      "--- 223.48695492744446 seconds ---\n",
      "Processing net 1, relu 2, epoch 40, block 31/85\n",
      "--- 218.51380610466003 seconds ---\n",
      "Processing net 1, relu 2, epoch 40, block 32/85\n",
      "--- 218.31300926208496 seconds ---\n",
      "Processing net 1, relu 2, epoch 40, block 33/85\n",
      "--- 216.7713119983673 seconds ---\n",
      "Processing net 1, relu 2, epoch 40, block 34/85\n",
      "--- 220.71710801124573 seconds ---\n",
      "Processing net 1, relu 2, epoch 40, block 35/85\n",
      "--- 219.47949123382568 seconds ---\n",
      "Processing net 1, relu 2, epoch 40, block 36/85\n",
      "--- 224.38338088989258 seconds ---\n",
      "Processing net 1, relu 2, epoch 40, block 37/85\n"
     ]
    }
   ],
   "source": [
    "for net in range(1,11):\n",
    "    for relu in range(2,3):\n",
    "        for epoch in range(0,91,10):\n",
    "            try:\n",
    "                stats.pkl_anova2(net, relu, epoch)\n",
    "            except Exception as e:\n",
    "                print(f\"An error occurred: {e}\")"
   ]
  },
  {
   "cell_type": "code",
   "execution_count": null,
   "id": "e6c8c4bd",
   "metadata": {},
   "outputs": [],
   "source": []
  }
 ],
 "metadata": {
  "kernelspec": {
   "display_name": "Python 3 (ipykernel)",
   "language": "python",
   "name": "python3"
  },
  "language_info": {
   "codemirror_mode": {
    "name": "ipython",
    "version": 3
   },
   "file_extension": ".py",
   "mimetype": "text/x-python",
   "name": "python",
   "nbconvert_exporter": "python",
   "pygments_lexer": "ipython3",
   "version": "3.8.12"
  },
  "varInspector": {
   "cols": {
    "lenName": 16,
    "lenType": 16,
    "lenVar": 40
   },
   "kernels_config": {
    "python": {
     "delete_cmd_postfix": "",
     "delete_cmd_prefix": "del ",
     "library": "var_list.py",
     "varRefreshCmd": "print(var_dic_list())"
    },
    "r": {
     "delete_cmd_postfix": ") ",
     "delete_cmd_prefix": "rm(",
     "library": "var_list.r",
     "varRefreshCmd": "cat(var_dic_list()) "
    }
   },
   "types_to_exclude": [
    "module",
    "function",
    "builtin_function_or_method",
    "instance",
    "_Feature"
   ],
   "window_display": false
  }
 },
 "nbformat": 4,
 "nbformat_minor": 5
}
