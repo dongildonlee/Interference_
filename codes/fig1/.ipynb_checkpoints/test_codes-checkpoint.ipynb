{
 "cells": [
  {
   "cell_type": "code",
   "execution_count": 1,
   "id": "1f0475ff",
   "metadata": {},
   "outputs": [
    {
     "name": "stdout",
     "output_type": "stream",
     "text": [
      "Intel MKL WARNING: Support of Intel(R) Streaming SIMD Extensions 4.2 (Intel(R) SSE4.2) enabled only processors has been deprecated. Intel oneAPI Math Kernel Library 2025.0 will require Intel(R) Advanced Vector Extensions (Intel(R) AVX) instructions.\n",
      "Intel MKL WARNING: Support of Intel(R) Streaming SIMD Extensions 4.2 (Intel(R) SSE4.2) enabled only processors has been deprecated. Intel oneAPI Math Kernel Library 2025.0 will require Intel(R) Advanced Vector Extensions (Intel(R) AVX) instructions.\n"
     ]
    },
    {
     "name": "stderr",
     "output_type": "stream",
     "text": [
      "/Users/dongillee/opt/anaconda3/envs/myenv/lib/python3.9/site-packages/umap/distances.py:1063: NumbaDeprecationWarning: The 'nopython' keyword argument was not supplied to the 'numba.jit' decorator. The implicit default value for this argument is currently False, but it will be changed to True in Numba 0.59.0. See https://numba.readthedocs.io/en/stable/reference/deprecation.html#deprecation-of-object-mode-fall-back-behaviour-when-using-jit for details.\n",
      "  @numba.jit()\n",
      "/Users/dongillee/opt/anaconda3/envs/myenv/lib/python3.9/site-packages/umap/distances.py:1071: NumbaDeprecationWarning: The 'nopython' keyword argument was not supplied to the 'numba.jit' decorator. The implicit default value for this argument is currently False, but it will be changed to True in Numba 0.59.0. See https://numba.readthedocs.io/en/stable/reference/deprecation.html#deprecation-of-object-mode-fall-back-behaviour-when-using-jit for details.\n",
      "  @numba.jit()\n",
      "/Users/dongillee/opt/anaconda3/envs/myenv/lib/python3.9/site-packages/umap/distances.py:1086: NumbaDeprecationWarning: The 'nopython' keyword argument was not supplied to the 'numba.jit' decorator. The implicit default value for this argument is currently False, but it will be changed to True in Numba 0.59.0. See https://numba.readthedocs.io/en/stable/reference/deprecation.html#deprecation-of-object-mode-fall-back-behaviour-when-using-jit for details.\n",
      "  @numba.jit()\n",
      "/Users/dongillee/opt/anaconda3/envs/myenv/lib/python3.9/site-packages/tqdm/auto.py:21: TqdmWarning: IProgress not found. Please update jupyter and ipywidgets. See https://ipywidgets.readthedocs.io/en/stable/user_install.html\n",
      "  from .autonotebook import tqdm as notebook_tqdm\n",
      "/Users/dongillee/opt/anaconda3/envs/myenv/lib/python3.9/site-packages/umap/umap_.py:660: NumbaDeprecationWarning: The 'nopython' keyword argument was not supplied to the 'numba.jit' decorator. The implicit default value for this argument is currently False, but it will be changed to True in Numba 0.59.0. See https://numba.readthedocs.io/en/stable/reference/deprecation.html#deprecation-of-object-mode-fall-back-behaviour-when-using-jit for details.\n",
      "  @numba.jit()\n"
     ]
    }
   ],
   "source": [
    "import numpy as np\n",
    "import pandas as pd\n",
    "import time\n",
    "import sys\n",
    "import os\n",
    "import h5py\n",
    "from joblib import Parallel, delayed\n",
    "sys.path.append('../')\n",
    "from packages import actv_analysis, svm, load_csv, stats, objects, test_codes\n",
    "import pickle\n",
    "import re\n",
    "import glob"
   ]
  },
  {
   "cell_type": "code",
   "execution_count": 2,
   "id": "2d4b3226",
   "metadata": {},
   "outputs": [
    {
     "name": "stdout",
     "output_type": "stream",
     "text": [
      "Network1 Relu5 Epoch0\n"
     ]
    }
   ],
   "source": [
    "net=1\n",
    "relu=5\n",
    "epoch=0\n",
    "\n",
    "print(f'Network{net} Relu{relu} Epoch{epoch}')\n",
    "pickle_filename = f'network{net}_Relu{relu}_epoch{epoch}.pkl'\n",
    "\n",
    "if os.path.exists(pickle_filename):\n",
    "    try:\n",
    "        with open(pickle_filename, 'rb') as f:\n",
    "            units = pickle.load(f)\n",
    "    except EOFError:\n",
    "        print(f\"Pickle file {pickle_filename} failed to load. Looking for backup...\")"
   ]
  },
  {
   "cell_type": "code",
   "execution_count": null,
   "id": "a4c50714",
   "metadata": {},
   "outputs": [
    {
     "name": "stdout",
     "output_type": "stream",
     "text": [
      "--- 61.50849723815918 seconds ---\n"
     ]
    }
   ],
   "source": [
    "stats.dim_reduct(technique, net, relu, epoch, units, units_sample_size)"
   ]
  },
  {
   "cell_type": "code",
   "execution_count": null,
   "id": "ec386d8e",
   "metadata": {},
   "outputs": [],
   "source": [
    "PNs"
   ]
  },
  {
   "cell_type": "code",
   "execution_count": null,
   "id": "8790bbac",
   "metadata": {},
   "outputs": [],
   "source": [
    "actv_sums = actv_2D.sum(axis=1)\n",
    "\n",
    "# Get the indices of units with non-zero responses\n",
    "active_units = np.nonzero(actv_sums)[0]"
   ]
  },
  {
   "cell_type": "code",
   "execution_count": null,
   "id": "36b36feb",
   "metadata": {},
   "outputs": [],
   "source": [
    "len(active_units)"
   ]
  },
  {
   "cell_type": "code",
   "execution_count": null,
   "id": "5182cb51",
   "metadata": {},
   "outputs": [],
   "source": [
    "actv_net.shape[0]"
   ]
  },
  {
   "cell_type": "code",
   "execution_count": null,
   "id": "bd0f1365",
   "metadata": {},
   "outputs": [],
   "source": [
    "np.arange(800)"
   ]
  },
  {
   "cell_type": "code",
   "execution_count": null,
   "id": "e1b49b67",
   "metadata": {},
   "outputs": [],
   "source": [
    "np.arange(0,800,100)"
   ]
  },
  {
   "cell_type": "code",
   "execution_count": null,
   "id": "f787707f",
   "metadata": {},
   "outputs": [],
   "source": []
  }
 ],
 "metadata": {
  "kernelspec": {
   "display_name": "Python 3 (ipykernel)",
   "language": "python",
   "name": "python3"
  },
  "language_info": {
   "codemirror_mode": {
    "name": "ipython",
    "version": 3
   },
   "file_extension": ".py",
   "mimetype": "text/x-python",
   "name": "python",
   "nbconvert_exporter": "python",
   "pygments_lexer": "ipython3",
   "version": "3.9.16"
  },
  "varInspector": {
   "cols": {
    "lenName": 16,
    "lenType": 16,
    "lenVar": 40
   },
   "kernels_config": {
    "python": {
     "delete_cmd_postfix": "",
     "delete_cmd_prefix": "del ",
     "library": "var_list.py",
     "varRefreshCmd": "print(var_dic_list())"
    },
    "r": {
     "delete_cmd_postfix": ") ",
     "delete_cmd_prefix": "rm(",
     "library": "var_list.r",
     "varRefreshCmd": "cat(var_dic_list()) "
    }
   },
   "types_to_exclude": [
    "module",
    "function",
    "builtin_function_or_method",
    "instance",
    "_Feature"
   ],
   "window_display": false
  }
 },
 "nbformat": 4,
 "nbformat_minor": 5
}
