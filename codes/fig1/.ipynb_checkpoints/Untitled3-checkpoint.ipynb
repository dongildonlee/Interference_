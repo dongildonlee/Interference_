{
 "cells": [
  {
   "cell_type": "code",
   "execution_count": 1,
   "id": "42d793a4-de31-42eb-9865-c3f5a7200528",
   "metadata": {
    "tags": []
   },
   "outputs": [],
   "source": [
    "from PIL import Image, ImageDraw\n",
    "\n",
    "# Create a blank 224x224 image\n",
    "img_size = (224, 224)\n",
    "img = Image.new('RGB', img_size, color = (255, 255, 255))\n",
    "\n",
    "# Create a draw object\n",
    "draw = ImageDraw.Draw(img)\n",
    "\n",
    "# Define circle attributes\n",
    "center = (img_size[0] // 2, img_size[1] // 2)\n",
    "radius = 4\n",
    "\n",
    "# Draw the circle\n",
    "draw.ellipse((center[0]-radius, center[1]-radius, center[0]+radius, center[1]+radius), fill=(0, 0, 0))\n",
    "\n",
    "# Show the image\n",
    "img.show()\n"
   ]
  },
  {
   "cell_type": "code",
   "execution_count": null,
   "id": "d753ca5e-9b72-4568-9e81-b198aa4acd09",
   "metadata": {},
   "outputs": [],
   "source": [
    "import random\n",
    "\n",
    "# Number of images to generate\n",
    "n_images = 10\n",
    "\n",
    "for i in range(n_images):\n",
    "    # Create a blank 224x224 image\n",
    "    img_size = (224, 224)\n",
    "    img = Image.new('RGB', img_size, color = (255, 255, 255))\n",
    "\n",
    "    # Create a draw object\n",
    "    draw = ImageDraw.Draw(img)\n",
    "\n",
    "    # Define circle attributes\n",
    "    # Generate random center within the image boundaries, considering the radius of the circle\n",
    "    center = (random.randint(radius, img_size[0] - radius), random.randint(radius, img_size[1] - radius))\n",
    "    radius = 4\n",
    "\n",
    "    # Draw the circle\n",
    "    draw.ellipse((center[0]-radius, center[1]-radius, center[0]+radius, center[1]+radius), fill=(0, 0, 0))\n",
    "\n",
    "    # Save the image\n",
    "    img.save(f'image_{i+1}.pdf')\n"
   ]
  },
  {
   "cell_type": "code",
   "execution_count": 6,
   "id": "1a31a900-22b2-42e2-a05b-b99cd32102db",
   "metadata": {
    "tags": []
   },
   "outputs": [],
   "source": [
    "import random\n",
    "\n",
    "def generate_dot_images(num_dots, inst):\n",
    "    for i in range(inst):\n",
    "        # Create a blank 224x224 image\n",
    "        img_size = (224, 224)\n",
    "        img = Image.new('RGB', img_size, color = (255, 255, 255))\n",
    "\n",
    "        # Create a draw object\n",
    "        draw = ImageDraw.Draw(img)\n",
    "\n",
    "        # Define circle attributes\n",
    "        radius = 4\n",
    "\n",
    "        # Draw num_dots number of dots at random positions\n",
    "        for _ in range(num_dots):\n",
    "            # Generate random center within the image boundaries, considering the radius of the circle\n",
    "            center = (random.randint(radius, img_size[0] - radius), random.randint(radius, img_size[1] - radius))\n",
    "\n",
    "            # Draw the circle\n",
    "            draw.ellipse((center[0]-radius, center[1]-radius, center[0]+radius, center[1]+radius), fill=(0, 0, 0))\n",
    "\n",
    "        # Save the image\n",
    "        img.save(f'image_{i+1}.png')\n",
    "\n",
    "# Call the function\n",
    "generate_dot_images(num_dots=5, inst=10)\n"
   ]
  },
  {
   "cell_type": "code",
   "execution_count": 7,
   "id": "fbc0debe-6253-4924-a29d-39d3fb0a3a97",
   "metadata": {
    "tags": []
   },
   "outputs": [],
   "source": [
    "generate_dot_images(1,5)"
   ]
  },
  {
   "cell_type": "code",
   "execution_count": null,
   "id": "5bcf36ad-4e4f-4c38-a48e-f070b0af2f72",
   "metadata": {},
   "outputs": [],
   "source": []
  }
 ],
 "metadata": {
  "kernelspec": {
   "display_name": "Python 3 (ipykernel)",
   "language": "python",
   "name": "python3"
  },
  "language_info": {
   "codemirror_mode": {
    "name": "ipython",
    "version": 3
   },
   "file_extension": ".py",
   "mimetype": "text/x-python",
   "name": "python",
   "nbconvert_exporter": "python",
   "pygments_lexer": "ipython3",
   "version": "3.8.12"
  }
 },
 "nbformat": 4,
 "nbformat_minor": 5
}
