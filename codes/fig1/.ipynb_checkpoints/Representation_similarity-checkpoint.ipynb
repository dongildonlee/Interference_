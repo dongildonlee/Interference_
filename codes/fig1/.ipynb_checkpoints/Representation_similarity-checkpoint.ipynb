{
 "cells": [
  {
   "cell_type": "code",
   "execution_count": 1,
   "id": "f27a4825",
   "metadata": {
    "tags": []
   },
   "outputs": [],
   "source": [
    "import numpy as np\n",
    "import pandas as pd\n",
    "import time\n",
    "import sys\n",
    "import os\n",
    "from joblib import Parallel, delayed\n",
    "sys.path.append('../')\n",
    "from packages import actv_analysis, svm, load_csv, stats, objects\n",
    "import pickle\n",
    "\n",
    "# from IPython.core.display import display, HTML\n",
    "# display(HTML(\"<style>.container { width:100% !important; }</style>\"))"
   ]
  },
  {
   "cell_type": "code",
   "execution_count": null,
   "id": "0bea3a3f-0682-4720-9c27-6c2a4c86cd96",
   "metadata": {
    "tags": []
   },
   "outputs": [],
   "source": [
    "min_sz_idx=3\n",
    "max_sz_idx=9 \n",
    "min_num_idx=0\n",
    "max_num_idx=9\n",
    "numbers=range(2,21,2)\n",
    "sizes=range(4,14)\n",
    "PN=[]\n",
    "PS=[]\n",
    "\n",
    "units, avg_response_vectors = actv_analysis.get_selective_units(net=1, relu=5, epoch=0, min_sz_idx=min_sz_idx, max_sz_idx=max_sz_idx, PN=PN,PS=PS)"
   ]
  },
  {
   "cell_type": "code",
   "execution_count": null,
   "id": "e2efb06a-f1ab-4074-b040-6081d325859f",
   "metadata": {
    "tags": []
   },
   "outputs": [],
   "source": [
    "net=1; relu=5; epoch=0;\n",
    "\n",
    "actv_net = actv_analysis.get_actv_net(net=1, relu=5, epoch=0)\n",
    "    \n",
    "# Load units\n",
    "with open(f'network{net}_Relu{relu}_epoch{epoch}.pkl', 'rb') as f:\n",
    "    units = pickle.load(f)"
   ]
  },
  {
   "cell_type": "code",
   "execution_count": null,
   "id": "97834e37-17ec-4710-b1de-edfb93b26b3a",
   "metadata": {
    "tags": []
   },
   "outputs": [],
   "source": [
    "# Subset actv_net based on size range\n",
    "if min_sz_idx != max_sz_idx:\n",
    "    take = np.arange(0,100).reshape(10,10)[:,min_sz_idx:max_sz_idx+1].reshape(len(numbers)*(max_sz_idx-min_sz_idx+1))\n",
    "else:\n",
    "    take = np.arange(0,100).reshape(10,10)[:,min_sz_idx:max_sz_idx+1].flatten()\n",
    "\n",
    "actv_szAtoB = actv_net[:,take,:]\n",
    "\n",
    "# Calculate response rates\n",
    "response_rate = np.mean(actv_szAtoB > 0, axis=(1, 2))"
   ]
  },
  {
   "cell_type": "code",
   "execution_count": null,
   "id": "eb05c68f-371c-4bc4-8cb4-2c73888b9722",
   "metadata": {
    "tags": []
   },
   "outputs": [],
   "source": [
    "p_val = 0.01\n",
    "selective_units = [unit for unit in units if (unit.anova2_numbers is not None and unit.anova2_numbers < p_val) and \n",
    "                                           (unit.anova2_sizes is not None and unit.anova2_sizes < p_val)]"
   ]
  },
  {
   "cell_type": "code",
   "execution_count": null,
   "id": "c887f5ae-abb1-42aa-8ac6-cedd1ce081f7",
   "metadata": {
    "tags": []
   },
   "outputs": [],
   "source": [
    "selective_units"
   ]
  },
  {
   "cell_type": "code",
   "execution_count": null,
   "id": "51427fd2",
   "metadata": {
    "tags": []
   },
   "outputs": [],
   "source": [
    "from joblib import Parallel, delayed\n",
    "\n",
    "results = []\n",
    "for relu in range(2,3):\n",
    "    for epoch in range(0,91,10):\n",
    "        labels = stats.generate_labels()\n",
    "        cos_sim_matrix = stats.cos_similarity(relu, epoch)  # Assume relu and epoch are defined\n",
    "        stats.plot_mds(cos_sim_matrix, relu, epoch, labels=labels)"
   ]
  },
  {
   "cell_type": "markdown",
   "id": "e0f25bf2-2493-465e-b4f4-59a51e655ca5",
   "metadata": {},
   "source": [
    "## MDS + PCA"
   ]
  },
  {
   "cell_type": "code",
   "execution_count": null,
   "id": "2adbf404-440d-40a0-9f2a-cb2898553e70",
   "metadata": {
    "tags": []
   },
   "outputs": [
    {
     "name": "stdout",
     "output_type": "stream",
     "text": [
      "Processing epochs...\n"
     ]
    }
   ],
   "source": [
    "from sklearn.decomposition import PCA\n",
    "import numpy as np\n",
    "import joblib\n",
    "\n",
    "# Instantiate PCA\n",
    "pca = PCA(n_components=2)\n",
    "\n",
    "xmin, ymin, xmax, ymax = None, None, None, None\n",
    "\n",
    "for relu in range(2,3):\n",
    "    for epoch in range(90,-1,-10):  # go backwards in epochs\n",
    "        print(f'relu{relu} epoch{epoch}')\n",
    "        labels = stats.generate_labels()\n",
    "        cos_sim_matrix = stats.cos_similarity(relu, epoch)  # Assume relu and epoch are defined\n",
    "\n",
    "        # Perform MDS\n",
    "        mds_results = stats.perform_mds(cos_sim_matrix, relu, epoch, labels=labels)\n",
    "\n",
    "        # Perform PCA on MDS results\n",
    "        pca_results = pca.fit_transform(mds_results)\n",
    "\n",
    "        # Update the min/max values\n",
    "        if xmin is None:\n",
    "            xmin, ymin = np.min(pca_results, axis=0)\n",
    "            xmax, ymax = np.max(pca_results, axis=0)\n",
    "        else:\n",
    "            xmin, ymin = np.minimum((xmin, ymin), np.min(pca_results, axis=0))\n",
    "            xmax, ymax = np.maximum((xmax, ymax), np.max(pca_results, axis=0))\n",
    "        \n",
    "        # Save MDS results, PCA results, and labels\n",
    "        joblib.dump((mds_results, pca_results, labels, (xmin, xmax), (ymin, ymax)), f'MDS_PCA_results_relu{relu}_epoch{epoch}.pkl')\n",
    "\n",
    "print(\"All MDS and PCA results saved.\")"
   ]
  },
  {
   "cell_type": "code",
   "execution_count": null,
   "id": "2d7115ce",
   "metadata": {},
   "outputs": [],
   "source": [
    "from sklearn.manifold import MDS\n",
    "import matplotlib.pyplot as plt\n",
    "import numpy as np\n",
    "from matplotlib.cm import get_cmap\n",
    "\n",
    "# Assuming results[0] and results[1] are your cosine similarity matrices\n",
    "matrices = [results[0], results[1]]\n",
    "labels = np.array(range(2,21,2))  # Labels corresponding to numbers 2,4,6,...,20\n",
    "\n",
    "# create a colormap\n",
    "cmap = get_cmap('rainbow')\n",
    "\n",
    "# normalize labels to 0-1 for color mapping\n",
    "norm_labels = (labels - labels.min()) / (labels.max() - labels.min())\n",
    "\n",
    "plt.figure(figsize=(10, 10))\n",
    "\n",
    "for i, matrix in enumerate(matrices):\n",
    "    mds = MDS(n_components=2, dissimilarity='precomputed', random_state=42)\n",
    "    mds_result = mds.fit_transform(1 - matrix)  # 1 - matrix because we want dissimilarity\n",
    "    \n",
    "    plt.scatter(mds_result[:,0], mds_result[:,1], c=cmap(norm_labels), label=f'Matrix {i+1}',s=100)\n",
    "    \n",
    "for label, x, y in zip(labels, mds_result[:, 0], mds_result[:, 1]):\n",
    "    plt.annotate(label, (x, y), textcoords=\"offset points\", xytext=(0,10), ha='center')\n",
    "        \n",
    "plt.title('MDS for matrices')\n",
    "#plt.legend()\n",
    "plt.tight_layout()\n",
    "plt.savefig('mds_matrices.pdf')\n",
    "plt.show()"
   ]
  },
  {
   "cell_type": "code",
   "execution_count": null,
   "id": "6bb42d2b",
   "metadata": {
    "tags": []
   },
   "outputs": [],
   "source": []
  },
  {
   "cell_type": "code",
   "execution_count": null,
   "id": "f6bacaa2",
   "metadata": {
    "tags": []
   },
   "outputs": [],
   "source": [
    "labels"
   ]
  },
  {
   "cell_type": "code",
   "execution_count": null,
   "id": "06ee7240-fe22-4755-a5a3-867601ab11b8",
   "metadata": {},
   "outputs": [],
   "source": []
  }
 ],
 "metadata": {
  "kernelspec": {
   "display_name": "Python 3 (ipykernel)",
   "language": "python",
   "name": "python3"
  },
  "language_info": {
   "codemirror_mode": {
    "name": "ipython",
    "version": 3
   },
   "file_extension": ".py",
   "mimetype": "text/x-python",
   "name": "python",
   "nbconvert_exporter": "python",
   "pygments_lexer": "ipython3",
   "version": "3.8.12"
  },
  "varInspector": {
   "cols": {
    "lenName": 16,
    "lenType": 16,
    "lenVar": 40
   },
   "kernels_config": {
    "python": {
     "delete_cmd_postfix": "",
     "delete_cmd_prefix": "del ",
     "library": "var_list.py",
     "varRefreshCmd": "print(var_dic_list())"
    },
    "r": {
     "delete_cmd_postfix": ") ",
     "delete_cmd_prefix": "rm(",
     "library": "var_list.r",
     "varRefreshCmd": "cat(var_dic_list()) "
    }
   },
   "types_to_exclude": [
    "module",
    "function",
    "builtin_function_or_method",
    "instance",
    "_Feature"
   ],
   "window_display": false
  }
 },
 "nbformat": 4,
 "nbformat_minor": 5
}
