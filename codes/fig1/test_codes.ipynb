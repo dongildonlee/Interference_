{
 "cells": [
  {
   "cell_type": "code",
   "execution_count": 4,
   "id": "1f0475ff",
   "metadata": {},
   "outputs": [],
   "source": [
    "import numpy as np\n",
    "import pandas as pd\n",
    "import time\n",
    "import sys\n",
    "import os\n",
    "import h5py\n",
    "from joblib import Parallel, delayed\n",
    "sys.path.append('../')\n",
    "from packages import actv_analysis, svm, load_csv, stats, objects, test_codes\n",
    "import pickle\n",
    "import re\n",
    "import glob"
   ]
  },
  {
   "cell_type": "code",
   "execution_count": null,
   "id": "2d4b3226",
   "metadata": {},
   "outputs": [],
   "source": [
    "net=1\n",
    "relu=5\n",
    "epoch=0\n",
    "\n",
    "print(f'Network{net} Relu{relu} Epoch{epoch}')\n",
    "pickle_filename = f'network{net}_Relu{relu}_epoch{epoch}.pkl'\n",
    "\n",
    "if os.path.exists(pickle_filename):\n",
    "    try:\n",
    "        with open(pickle_filename, 'rb') as f:\n",
    "            units = pickle.load(f)\n",
    "    except EOFError:\n",
    "        print(f\"Pickle file {pickle_filename} failed to load. Looking for backup...\")"
   ]
  },
  {
   "cell_type": "code",
   "execution_count": null,
   "id": "a4c50714",
   "metadata": {},
   "outputs": [],
   "source": [
    "stats.dim_reduct(technique='both', net=net, relu=relu, epoch=epoch, units=units, units_sample_size=1000)"
   ]
  },
  {
   "cell_type": "code",
   "execution_count": null,
   "id": "ec386d8e",
   "metadata": {},
   "outputs": [],
   "source": [
    "net=1\n",
    "relu=5\n",
    "epoch=0\n",
    "n_comp=2;min_sz_idx=3; max_sz_idx=9; numbers=range(2,21,2)\n",
    "\n",
    "sizes = np.arange(4,14)[min_sz_idx: max_sz_idx+1]\n",
    "actv_net = actv_analysis.get_actv_net(net=net,relu=relu,epoch=epoch)\n",
    "take = np.arange(0,100).reshape(10,10)[:,min_sz_idx:max_sz_idx+1].reshape(len(numbers)*(max_sz_idx-min_sz_idx+1))\n",
    "avg_actv_szAtoB = np.mean(actv_net[:,take,:],axis=2)"
   ]
  },
  {
   "cell_type": "code",
   "execution_count": null,
   "id": "8790bbac",
   "metadata": {},
   "outputs": [],
   "source": [
    "# Sample a subset of your data. \n",
    "units_sample_size=1000\n",
    "random_state=42\n",
    "\n",
    "np.random.seed(random_state)  # for reproducibility\n",
    "idx = np.random.choice(avg_actv_szAtoB.shape[0], units_sample_size, replace=False)\n",
    "data_sample = avg_actv_szAtoB[idx, :]\n",
    "pn_sample = [units[i].PN for i in idx]  "
   ]
  },
  {
   "cell_type": "code",
   "execution_count": null,
   "id": "36b36feb",
   "metadata": {},
   "outputs": [],
   "source": [
    "from umap import UMAP\n",
    "from sklearn.manifold import TSNE\n",
    "\n",
    "tsne = TSNE(n_components=n_comp, random_state=random_state)\n",
    "tsne_results = tsne.fit_transform(data_sample)"
   ]
  },
  {
   "cell_type": "code",
   "execution_count": null,
   "id": "5182cb51",
   "metadata": {},
   "outputs": [],
   "source": [
    "data_sample"
   ]
  },
  {
   "cell_type": "code",
   "execution_count": null,
   "id": "bd0f1365",
   "metadata": {},
   "outputs": [],
   "source": [
    "# Suppose your data is in variable data_sample\n",
    "has_nan = np.isnan(data_sample)\n",
    "\n",
    "if np.any(has_nan):\n",
    "    print(\"The data_sample contains NaN values.\")\n",
    "else:\n",
    "    print(\"The data_sample does not contain any NaN values.\")"
   ]
  },
  {
   "cell_type": "code",
   "execution_count": null,
   "id": "e1b49b67",
   "metadata": {},
   "outputs": [],
   "source": [
    "data_sample.shape"
   ]
  },
  {
   "cell_type": "code",
   "execution_count": null,
   "id": "f787707f",
   "metadata": {},
   "outputs": [],
   "source": [
    "net=1\n",
    "\n",
    "for relu in range(2,6):\n",
    "    \n",
    "    ns_up_or_down = []\n",
    "    for epoch in range(0,91,10):\n",
    "    \n",
    "        pkl_filename = f'pkl/network{net}_Relu{relu}_epoch{epoch}.pkl'\n",
    "        if os.path.exists(pkl_filename):\n",
    "            try:\n",
    "                with open(pkl_filename, 'rb') as f:\n",
    "                    units = pickle.load(f)\n",
    "            except Exception as e:\n",
    "                    print(f\"Pickle file {pkl_filename} failed to load due to error: {e}\")\n",
    "\n",
    "            responsive_units = np.array([units[i].id for i in range(len(units)) if units[i].no_response_subset==False]) \n",
    "\n",
    "            nb_mon = np.array([units[i].num_monotonicity for i in range(len(responsive_units))])\n",
    "            sz_mon = np.array([units[i].size_monotonicity for i in range(len(responsive_units))])\n",
    "            prfd_num = np.array([units[i].PN for i in range(len(responsive_units))])\n",
    "            prfd_sz = np.array([units[i].PS for i in range(len(responsive_units))])\n",
    "\n",
    "            nusu = np.sum((nb_mon == 1) & (sz_mon == 1) & (prfd_num == 20) & (prfd_sz == 13))/len(units) \n",
    "            nusd = np.sum((nb_mon == 1) & (sz_mon == -1) & (prfd_num == 20) & (prfd_sz == 7))/len(units)  \n",
    "            ndsu = np.sum((nb_mon == -1) & (sz_mon == 1) & (prfd_num == 2) & (prfd_sz == 13))/len(units)  \n",
    "            ndsd = np.sum((nb_mon == -1) & (sz_mon == -1) & (prfd_num == 2) & (prfd_sz == 7))/len(units)  \n",
    "            \n",
    "            # save this numbers as 2x2 dataframe where rows represent nu and nd and columns represent su and sd\n",
    "            # append it to ns_up_or_down\n",
    "    # Plot a figure with subplots each representing epoch. Arrange them in 5x2 format.\n",
    "    # set axes label size to 14, title 20\n",
    "    # tight_layout\n",
    "    # plt.show\n",
    "    # save the fig in pdf format\n",
    "            "
   ]
  },
  {
   "cell_type": "code",
   "execution_count": null,
   "id": "a0ae9d31-dba2-4317-8afb-6ea919d4bf6f",
   "metadata": {
    "tags": []
   },
   "outputs": [],
   "source": [
    "responsive_units = np.array([units[i].id for i in range(len(units)) if units[i].no_response_subset==False]) \n",
    "\n",
    "nb_mon = np.array([units[i].num_monotonicity for i in range(len(responsive_units))])\n",
    "sz_mon = np.array([units[i].size_monotonicity for i in range(len(responsive_units))])\n",
    "prfd_num = np.array([units[i].PN for i in range(len(responsive_units))])\n",
    "prfd_sz = np.array([units[i].PS for i in range(len(responsive_units))])\n",
    "\n",
    "nusu = np.sum((nb_mon == 1) & (sz_mon == 1) & (prfd_num == 20) & (prfd_sz == 13))/len(units) \n",
    "nusd = np.sum((nb_mon == 1) & (sz_mon == -1) & (prfd_num == 20) & (prfd_sz == 7))/len(units)  \n",
    "ndsu = np.sum((nb_mon == -1) & (sz_mon == 1) & (prfd_num == 2) & (prfd_sz == 13))/len(units)  \n",
    "ndsd = np.sum((nb_mon == -1) & (sz_mon == -1) & (prfd_num == 2) & (prfd_sz == 7))/len(units)  "
   ]
  },
  {
   "cell_type": "code",
   "execution_count": null,
   "id": "d565c56e-b408-40d4-95c7-26bb1c49ea62",
   "metadata": {
    "tags": []
   },
   "outputs": [],
   "source": [
    "ndsd"
   ]
  },
  {
   "cell_type": "code",
   "execution_count": 3,
   "id": "69cf8a56-60c9-490a-994d-fe624a9a7ab3",
   "metadata": {
    "tags": []
   },
   "outputs": [
    {
     "name": "stdout",
     "output_type": "stream",
     "text": [
      "--- 112.70572710037231 seconds ---\n"
     ]
    }
   ],
   "source": [
    "net=2;relu=3;epoch=0\n",
    "min_sz_idx=3\n",
    "max_sz_idx=9\n",
    "numbers = np.arange(2,21,2)\n",
    "sizes = np.arange(4,14)[min_sz_idx: max_sz_idx+1]\n",
    "\n",
    "pkl_filename = f'pkl/network{net}_Relu{relu}_epoch{epoch}.pkl'\n",
    "if os.path.exists(pkl_filename):\n",
    "    try:\n",
    "        with open(pkl_filename, 'rb') as f:\n",
    "            units = pickle.load(f)\n",
    "    except Exception as e:\n",
    "        print(f\"Pickle file {pkl_filename} failed to load due to error: {e}\")\n",
    "        \n",
    "actv_net = actv_analysis.get_actv_net(net=net, relu=relu, epoch=epoch)\n",
    "take = np.arange(0,100).reshape(10,10)[:,min_sz_idx:max_sz_idx+1].reshape(len(numbers)*(max_sz_idx-min_sz_idx+1))\n",
    "actv_szAtoB = actv_net[:,take,:]\n",
    "actv_2D = actv_szAtoB.reshape(actv_szAtoB.shape[0], actv_szAtoB.shape[1]*actv_szAtoB.shape[2])"
   ]
  },
  {
   "cell_type": "code",
   "execution_count": 7,
   "id": "7f179c54-9b6f-4a63-a559-335fc5432d49",
   "metadata": {
    "tags": []
   },
   "outputs": [],
   "source": [
    "incomplete_units = np.array([i for i in range(len(units)) \n",
    "                             if not units[i].no_response_subset and \n",
    "                             all(attr is None for attr in [units[i].anova2_numbers, units[i].anova2_sizes, units[i].selectivity_number])])"
   ]
  },
  {
   "cell_type": "code",
   "execution_count": 6,
   "id": "100f1092-24ff-41e3-a4bf-c0f9c06cf65e",
   "metadata": {
    "tags": []
   },
   "outputs": [],
   "source": [
    "_ = [units[u].add_anova2(actv_2D, numbers,sizes, inst=500, parallel=0) for u in incomplete_units]"
   ]
  },
  {
   "cell_type": "code",
   "execution_count": 8,
   "id": "9d801d52-5f9e-4741-bb89-152aadfa07c8",
   "metadata": {
    "tags": []
   },
   "outputs": [
    {
     "data": {
      "text/plain": [
       "array([], dtype=float64)"
      ]
     },
     "execution_count": 8,
     "metadata": {},
     "output_type": "execute_result"
    }
   ],
   "source": [
    "incomplete_units"
   ]
  },
  {
   "cell_type": "code",
   "execution_count": 43,
   "id": "236e6761-bab4-45d1-8c67-b6ed1815f2df",
   "metadata": {},
   "outputs": [],
   "source": [
    "net=1\n",
    "relu=4\n",
    "epoch=0\n",
    "\n",
    "pkl_filename = f'pkl/network{net}_Relu{relu}_epoch{epoch}.pkl'\n",
    "with open(pkl_filename, 'rb') as f:\n",
    "    units = pickle.load(f)"
   ]
  },
  {
   "cell_type": "code",
   "execution_count": 44,
   "id": "e7dcd57d-b2b5-4c84-85c9-3883ab5eaa7f",
   "metadata": {
    "tags": []
   },
   "outputs": [],
   "source": [
    "# Create a dictionary with your data\n",
    "data = {\n",
    "    'spearman_number': [units[i].spearmanr_number for i in range(len(units))],\n",
    "    'spearman_size': [units[i].spearmanr_size for i in range(len(units))],\n",
    "}\n",
    "\n",
    "# Convert the dictionary to a DataFrame\n",
    "df = pd.DataFrame(data)"
   ]
  },
  {
   "cell_type": "code",
   "execution_count": 45,
   "id": "513a7157-48f6-4a4a-a225-a749204bac32",
   "metadata": {
    "tags": []
   },
   "outputs": [
    {
     "data": {
      "image/png": "[encoded data removed]",
      "text/plain": [
       "<Figure size 1000x800 with 2 Axes>"
      ]
     },
     "metadata": {},
     "output_type": "display_data"
    }
   ],
   "source": [
    "import matplotlib.colors as colors\n",
    "\n",
    "# Create weights for each pair of (spearman_number, spearman_size)\n",
    "weights = np.ones_like(df['spearman_number']) / len(df['spearman_number'])\n",
    "\n",
    "plt.figure(figsize=(10, 8))\n",
    "cmap = plt.get_cmap('viridis')\n",
    "cmap.set_bad(cmap(0))\n",
    "sns.histplot(df, x='spearman_number', y='spearman_size', bins=20, cbar=True, cmap=cmap,\n",
    "             cbar_kws={'label': 'Proportion', 'norm': colors.LogNorm()}, weights=weights)\n",
    "\n",
    "plt.title(f'Spearman rank correlation b/w number/size and activation relu{relu} epoch{epoch}')\n",
    "plt.xlabel('Spearman Number')\n",
    "plt.ylabel('Spearman Size')\n",
    "plt.tight_layout()\n",
    "plt.savefig(f'Spearman rank correlation bw number_size and activation relu{relu} epoch{epoch}.pdf')\n",
    "plt.show()"
   ]
  },
  {
   "cell_type": "code",
   "execution_count": 12,
   "id": "0180561f-f83d-41cc-92a2-9235600701d6",
   "metadata": {},
   "outputs": [
    {
     "name": "stdout",
     "output_type": "stream",
     "text": [
      "Current working directory:  /Users/dongillee/Interference/codes/fig1\n",
      "Source directory:  svm_results\n",
      "Destination directory:  svm_results/4to20\n"
     ]
    }
   ],
   "source": [
    "import os\n",
    "import shutil\n",
    "\n",
    "# Print the current working directory\n",
    "print(\"Current working directory: \", os.getcwd())\n",
    "\n",
    "# Source folder\n",
    "src_dir = \"svm_results\"\n",
    "print(\"Source directory: \", src_dir)\n",
    "\n",
    "# Destination folder\n",
    "dst_dir = \"svm_results/4to20\"\n",
    "print(\"Destination directory: \", dst_dir)\n",
    "\n",
    "# Create destination directory if it doesn't exist\n",
    "os.makedirs(dst_dir, exist_ok=True)\n",
    "\n",
    "# Loop through all files in the source directory\n",
    "for root, dirs, files in os.walk(src_dir):\n",
    "    for filename in files:\n",
    "        if filename.endswith(\"4to20.csv\"):  # If the filename matches the pattern\n",
    "            print(\"Moving file: \", filename)\n",
    "            # Full path to the source file\n",
    "            src_file = os.path.join(root, filename)\n",
    "            # Full path to the destination file\n",
    "            dst_file = os.path.join(dst_dir, filename)\n",
    "            # Move the file to the destination directory\n",
    "            shutil.move(src_file, dst_file)"
   ]
  },
  {
   "cell_type": "code",
   "execution_count": 2,
   "id": "5624a3d0-9a2b-4ea9-8da6-d2c513c31d19",
   "metadata": {},
   "outputs": [
    {
     "name": "stdout",
     "output_type": "stream",
     "text": [
      "--- 102.15391731262207 seconds ---\n"
     ]
    }
   ],
   "source": [
    "actv_ = actv_analysis.get_actv_net(net=1, relu=5, epoch=0)"
   ]
  },
  {
   "cell_type": "code",
   "execution_count": 4,
   "id": "6120dfe1-5f57-45af-9438-e2715beec66b",
   "metadata": {
    "tags": []
   },
   "outputs": [
    {
     "data": {
      "text/plain": [
       "(43264, 100, 500)"
      ]
     },
     "execution_count": 4,
     "metadata": {},
     "output_type": "execute_result"
    }
   ],
   "source": [
    "actv_.shape"
   ]
  },
  {
   "cell_type": "code",
   "execution_count": 6,
   "id": "15882653-6886-4bbb-9993-8fd58d841913",
   "metadata": {},
   "outputs": [
    {
     "name": "stdout",
     "output_type": "stream",
     "text": [
      "Network1 Relu4 Epoch0\n"
     ]
    }
   ],
   "source": [
    "net=1\n",
    "relu=4\n",
    "epoch=0\n",
    "\n",
    "print(f'Network{net} Relu{relu} Epoch{epoch}')\n",
    "pickle_filename = f'pkl/4to20/network{net}_Relu{relu}_epoch{epoch}_4to20.pkl'\n",
    "\n",
    "if os.path.exists(pickle_filename):\n",
    "    try:\n",
    "        with open(pickle_filename, 'rb') as f:\n",
    "            units = pickle.load(f)\n",
    "    except EOFError:\n",
    "        print(f\"Pickle file {pickle_filename} failed to load. Looking for backup...\")"
   ]
  },
  {
   "cell_type": "code",
   "execution_count": 8,
   "id": "9b371568-0afd-4370-9ee9-944856d8af53",
   "metadata": {
    "tags": []
   },
   "outputs": [],
   "source": [
    "units[0].p"
   ]
  },
  {
   "cell_type": "code",
   "execution_count": null,
   "id": "5d402bae-86cc-4d4a-a696-8a64f3ab42f0",
   "metadata": {},
   "outputs": [],
   "source": []
  }
 ],
 "metadata": {
  "kernelspec": {
   "display_name": "Python 3 (ipykernel)",
   "language": "python",
   "name": "python3"
  },
  "language_info": {
   "codemirror_mode": {
    "name": "ipython",
    "version": 3
   },
   "file_extension": ".py",
   "mimetype": "text/x-python",
   "name": "python",
   "nbconvert_exporter": "python",
   "pygments_lexer": "ipython3",
   "version": "3.8.12"
  },
  "varInspector": {
   "cols": {
    "lenName": 16,
    "lenType": 16,
    "lenVar": 40
   },
   "kernels_config": {
    "python": {
     "delete_cmd_postfix": "",
     "delete_cmd_prefix": "del ",
     "library": "var_list.py",
     "varRefreshCmd": "print(var_dic_list())"
    },
    "r": {
     "delete_cmd_postfix": ") ",
     "delete_cmd_prefix": "rm(",
     "library": "var_list.r",
     "varRefreshCmd": "cat(var_dic_list()) "
    }
   },
   "types_to_exclude": [
    "module",
    "function",
    "builtin_function_or_method",
    "instance",
    "_Feature"
   ],
   "window_display": false
  }
 },
 "nbformat": 4,
 "nbformat_minor": 5
}
