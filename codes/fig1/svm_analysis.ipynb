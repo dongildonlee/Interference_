{
 "cells": [
  {
   "cell_type": "code",
   "execution_count": 1,
   "id": "c39e8202-9a5c-4d50-b2b2-bf1b0dee21ef",
   "metadata": {
    "tags": []
   },
   "outputs": [],
   "source": [
    "import os\n",
    "import sys\n",
    "import matplotlib.pyplot as plt\n",
    "import numpy as np\n",
    "import pandas as pd\n",
    "import pickle\n",
    "import seaborn as sns\n",
    "from joblib import Parallel, delayed\n",
    "sys.path.append('../')\n",
    "\n",
    "from packages import actv_analysis, svm, stats"
   ]
  },
  {
   "cell_type": "markdown",
   "id": "d64290e6-6d08-4b12-9bfe-078fe0f858db",
   "metadata": {},
   "source": [
    "## plot barplot (relu 2,3,4,5 vs shuffled counterparts)"
   ]
  },
  {
   "cell_type": "code",
   "execution_count": null,
   "id": "96007552-accb-46e0-8e7c-33030ef368a7",
   "metadata": {
    "tags": []
   },
   "outputs": [],
   "source": [
    "from itertools import product\n",
    "import numpy as np\n",
    "import pandas as pd\n",
    "\n",
    "# Set up the ranges\n",
    "nets = np.arange(1,3)\n",
    "relus = np.arange(2,6)\n",
    "epochs = np.arange(0,1,10)\n",
    "num_units = 200\n",
    "num_dist = np.arange(2,19,2)\n",
    "\n",
    "# Create a DataFrame from the product of the ranges\n",
    "df_svm_accuracy = pd.DataFrame(product(nets, relus, epochs), columns=['net', 'relu', 'epoch'])\n",
    "df_svm_accuracy_shuffled = pd.DataFrame(product(nets, relus, epochs), columns=['net', 'relu', 'epoch'])\n",
    "df_numdist_vs_accuracy = pd.DataFrame(product(nets, relus, epochs, num_dist), columns=['net', 'relu', 'epoch', 'num_dist'])\n",
    "\n",
    "# Initialize the 'accuracy' column with NaNs or zeros (depending on your needs)\n",
    "df_svm_accuracy['accuracy'] = np.nan\n",
    "df_svm_accuracy_shuffled['accuracy'] = np.nan\n",
    "\n",
    "for net in nets:\n",
    "    for relu in relus:\n",
    "        for epoch in epochs:\n",
    "            for dist in num_dist:\n",
    "                exp_results=[]\n",
    "                exp_results_shuffled=[]\n",
    "                exp_results_numdist=[]\n",
    "                for exp in range(10):\n",
    "                    # ...you should replace this with your actual csv file paths...\n",
    "                    test_csv = f'csv/svm_test_set{exp}.csv'\n",
    "                    pred_csv = f'csv/svm_results/SVM prediction of He untrained net{net} relu{relu} epoch{epoch} {num_units} nonzero activity units exp{exp} June2023.csv'\n",
    "                    pred_csv_shuffled = f'csv/svm_results/SVM prediction of He untrained net{net} relu{relu} epoch{epoch} {num_units} nonzero activity units SHUFFLED exp{exp} June2023.csv'\n",
    "\n",
    "                    test_exp = pd.read_csv(test_csv, index_col=0)\n",
    "                    num_dists=np.abs(test_exp['num1']-test_exp['num2'])*2\n",
    "\n",
    "                    # ...replace svm.get_y(test_exp) with your actual function to get y...\n",
    "                    correct_answers = svm.get_y(test_exp).to_numpy()\n",
    "                    svm_answers = pd.read_csv(pred_csv)['0'].to_numpy()\n",
    "                    svm_answers_shuffled = pd.read_csv(pred_csv_shuffled)['0'].to_numpy()\n",
    "\n",
    "                    is_equal = np.equal(correct_answers, svm_answers)\n",
    "                    df_num_dist_correct = pd.DataFrame({'num_dists':num_dists, 'correct': is_equal}).groupby(['num_dists'])['correct'].mean().reset_index()\n",
    "\n",
    "                    exp_results.append(np.sum(is_equal)/len(svm_answers)) \n",
    "                    exp_results_shuffled.append(np.sum(np.equal(correct_answers, svm_answers_shuffled))/len(svm_answers_shuffled)) \n",
    "                    exp_results_numdist.append(df_num_dist_correct)\n",
    "\n",
    "                accuracy = np.mean(exp_results) \n",
    "                accuracy_shuffled = np.mean(exp_results_shuffled)\n",
    "                exp_results_numdist_concat = pd.concat(exp_results_numdist).groupby(['num_dists'])['correct'].mean().reset_index()\n",
    "\n",
    "                df_svm_accuracy.loc[(df_svm_accuracy['net'] == net) & \n",
    "                                    (df_svm_accuracy['relu'] == relu) & \n",
    "                                    (df_svm_accuracy['epoch'] == epoch), \n",
    "                                    'accuracy'] = accuracy\n",
    "\n",
    "                df_svm_accuracy_shuffled.loc[(df_svm_accuracy_shuffled['net'] == net) & \n",
    "                                    (df_svm_accuracy_shuffled['relu'] == relu) & \n",
    "                                    (df_svm_accuracy_shuffled['epoch'] == epoch), \n",
    "                                    'accuracy'] = accuracy_shuffled\n",
    "\n",
    "                df_numdist_vs_accuracy.loc[(df_numdist_vs_accuracy['net'] == net) & \n",
    "                                           (df_numdist_vs_accuracy['relu'] == relu) & \n",
    "                                           (df_numdist_vs_accuracy['epoch'] == epoch) &\n",
    "                                           (df_numdist_vs_accuracy['num_dist'] == dist),\n",
    "                                           'accuracy'] = exp_results_numdist_concat.loc[exp_results_numdist_concat['num_dists'] == dist, 'correct'].values[0] if not exp_results_numdist_concat.loc[exp_results_numdist_concat['num_dists'] == dist, 'correct'].empty else np.nan\n",
    "\n",
    "            \n",
    "# Add a 'source' column to each DataFrame to distinguish between them\n",
    "df_svm_accuracy['source'] = 'Unshuffled'\n",
    "df_svm_accuracy_shuffled['source'] = 'Shuffled'\n",
    "\n",
    "# Concatenate the two DataFrames along the row axis\n",
    "df_combined = pd.concat([df_svm_accuracy, df_svm_accuracy_shuffled], ignore_index=True)\n",
    "\n",
    "# Use seaborn to create a bar plot with hue='source'\n",
    "sns.barplot(data=df_combined, x='relu', y='accuracy', hue='source')\n",
    "\n",
    "\n",
    "from scipy.stats import ttest_ind\n",
    "\n",
    "# Get current axis\n",
    "ax = plt.gca()\n",
    "\n",
    "# Iterate over the unique \"relu\" values and their indices\n",
    "for i, relu in enumerate(df_combined['relu'].unique()):\n",
    "\n",
    "    # Filter dataframe by \"relu\"\n",
    "    df_relu = df_combined[df_combined['relu'] == relu]\n",
    "\n",
    "    # Calculate p-value\n",
    "    t_stat, p_value = ttest_ind(df_relu[df_relu['source'] == \"Unshuffled\"]['accuracy'], df_relu[df_relu['source'] == \"Shuffled\"]['accuracy'])\n",
    "\n",
    "    # Find position of bars\n",
    "    x1 = i - 0.2  # Adjust these values as needed for your specific plot\n",
    "    x2 = i + 0.2  # Adjust these values as needed for your specific plot\n",
    "    y = df_relu['accuracy'].max() + 0.01\n",
    "\n",
    "    # Draw the bracket\n",
    "    ax.plot([x1, x1, x2, x2], [y, y+0.02, y+0.02, y], c='k')\n",
    "\n",
    "    # Add p-value\n",
    "    ax.text((x1+x2)*.5, y+0.02, f\"p = {p_value:.3f}\", ha='center', va='bottom', color='k')\n",
    "    \n",
    "plt.savefig('relu 2 3 4 5 svm results vs shuffled.pdf')    \n",
    "plt.show()\n"
   ]
  },
  {
   "cell_type": "markdown",
   "id": "826ddee2-a728-4de9-86f7-ab0da077ed1e",
   "metadata": {
    "tags": []
   },
   "source": [
    "## plot lineplot (relu 2,3,4,5 vs number distance)\n"
   ]
  },
  {
   "cell_type": "code",
   "execution_count": null,
   "id": "d89c54c5-8f08-4a70-8cdf-0b5ba3b6d5a2",
   "metadata": {
    "tags": []
   },
   "outputs": [],
   "source": [
    "sns.set_palette('tab10')  # 'deep' is the default color palette\n",
    "ax = sns.lineplot(data=df_numdist_vs_accuracy, x='num_dist', y='accuracy',hue='relu', palette='tab10')\n",
    "ax.set_xlabel('numerical distance')"
   ]
  },
  {
   "cell_type": "markdown",
   "id": "a599b4e6-83ca-4128-8862-271919006153",
   "metadata": {},
   "source": [
    "## barplot congruent vs incongruent in fully trained (epoch90) relu5 networks"
   ]
  },
  {
   "cell_type": "code",
   "execution_count": 2,
   "id": "eae6de5c-ec69-4623-ac74-206ae71c7832",
   "metadata": {
    "tags": []
   },
   "outputs": [
    {
     "ename": "FileNotFoundError",
     "evalue": "[Errno 2] No such file or directory: 'csv/svm_results/SVM prediction of He untrained net1 relu3 epoch0 200 nonzero activity units exp0 July2023_4to20.csv'",
     "output_type": "error",
     "traceback": [
      "\u001b[0;31m---------------------------------------------------------------------------\u001b[0m",
      "\u001b[0;31mFileNotFoundError\u001b[0m                         Traceback (most recent call last)",
      "Cell \u001b[0;32mIn[2], line 17\u001b[0m\n\u001b[1;32m     14\u001b[0m test_exp \u001b[38;5;241m=\u001b[39m pd\u001b[38;5;241m.\u001b[39mread_csv(test_csv, index_col\u001b[38;5;241m=\u001b[39m\u001b[38;5;241m0\u001b[39m)\n\u001b[1;32m     16\u001b[0m correct_answers \u001b[38;5;241m=\u001b[39m svm\u001b[38;5;241m.\u001b[39mget_y(test_exp)\u001b[38;5;241m.\u001b[39mto_numpy()\n\u001b[0;32m---> 17\u001b[0m svm_answers \u001b[38;5;241m=\u001b[39m \u001b[43mpd\u001b[49m\u001b[38;5;241;43m.\u001b[39;49m\u001b[43mread_csv\u001b[49m\u001b[43m(\u001b[49m\u001b[43mpred_csv\u001b[49m\u001b[43m)\u001b[49m[\u001b[38;5;124m'\u001b[39m\u001b[38;5;124m0\u001b[39m\u001b[38;5;124m'\u001b[39m]\u001b[38;5;241m.\u001b[39mto_numpy()\n\u001b[1;32m     18\u001b[0m svm_answers_shuffled \u001b[38;5;241m=\u001b[39m pd\u001b[38;5;241m.\u001b[39mread_csv(pred_csv_shuffled)[\u001b[38;5;124m'\u001b[39m\u001b[38;5;124m0\u001b[39m\u001b[38;5;124m'\u001b[39m]\u001b[38;5;241m.\u001b[39mto_numpy()\n\u001b[1;32m     19\u001b[0m is_equal \u001b[38;5;241m=\u001b[39m np\u001b[38;5;241m.\u001b[39mequal(correct_answers, svm_answers)\n",
      "File \u001b[0;32m~/opt/anaconda3/lib/python3.8/site-packages/pandas/io/parsers/readers.py:912\u001b[0m, in \u001b[0;36mread_csv\u001b[0;34m(filepath_or_buffer, sep, delimiter, header, names, index_col, usecols, dtype, engine, converters, true_values, false_values, skipinitialspace, skiprows, skipfooter, nrows, na_values, keep_default_na, na_filter, verbose, skip_blank_lines, parse_dates, infer_datetime_format, keep_date_col, date_parser, date_format, dayfirst, cache_dates, iterator, chunksize, compression, thousands, decimal, lineterminator, quotechar, quoting, doublequote, escapechar, comment, encoding, encoding_errors, dialect, on_bad_lines, delim_whitespace, low_memory, memory_map, float_precision, storage_options, dtype_backend)\u001b[0m\n\u001b[1;32m    899\u001b[0m kwds_defaults \u001b[38;5;241m=\u001b[39m _refine_defaults_read(\n\u001b[1;32m    900\u001b[0m     dialect,\n\u001b[1;32m    901\u001b[0m     delimiter,\n\u001b[0;32m   (...)\u001b[0m\n\u001b[1;32m    908\u001b[0m     dtype_backend\u001b[38;5;241m=\u001b[39mdtype_backend,\n\u001b[1;32m    909\u001b[0m )\n\u001b[1;32m    910\u001b[0m kwds\u001b[38;5;241m.\u001b[39mupdate(kwds_defaults)\n\u001b[0;32m--> 912\u001b[0m \u001b[38;5;28;01mreturn\u001b[39;00m \u001b[43m_read\u001b[49m\u001b[43m(\u001b[49m\u001b[43mfilepath_or_buffer\u001b[49m\u001b[43m,\u001b[49m\u001b[43m \u001b[49m\u001b[43mkwds\u001b[49m\u001b[43m)\u001b[49m\n",
      "File \u001b[0;32m~/opt/anaconda3/lib/python3.8/site-packages/pandas/io/parsers/readers.py:577\u001b[0m, in \u001b[0;36m_read\u001b[0;34m(filepath_or_buffer, kwds)\u001b[0m\n\u001b[1;32m    574\u001b[0m _validate_names(kwds\u001b[38;5;241m.\u001b[39mget(\u001b[38;5;124m\"\u001b[39m\u001b[38;5;124mnames\u001b[39m\u001b[38;5;124m\"\u001b[39m, \u001b[38;5;28;01mNone\u001b[39;00m))\n\u001b[1;32m    576\u001b[0m \u001b[38;5;66;03m# Create the parser.\u001b[39;00m\n\u001b[0;32m--> 577\u001b[0m parser \u001b[38;5;241m=\u001b[39m \u001b[43mTextFileReader\u001b[49m\u001b[43m(\u001b[49m\u001b[43mfilepath_or_buffer\u001b[49m\u001b[43m,\u001b[49m\u001b[43m \u001b[49m\u001b[38;5;241;43m*\u001b[39;49m\u001b[38;5;241;43m*\u001b[39;49m\u001b[43mkwds\u001b[49m\u001b[43m)\u001b[49m\n\u001b[1;32m    579\u001b[0m \u001b[38;5;28;01mif\u001b[39;00m chunksize \u001b[38;5;129;01mor\u001b[39;00m iterator:\n\u001b[1;32m    580\u001b[0m     \u001b[38;5;28;01mreturn\u001b[39;00m parser\n",
      "File \u001b[0;32m~/opt/anaconda3/lib/python3.8/site-packages/pandas/io/parsers/readers.py:1407\u001b[0m, in \u001b[0;36mTextFileReader.__init__\u001b[0;34m(self, f, engine, **kwds)\u001b[0m\n\u001b[1;32m   1404\u001b[0m     \u001b[38;5;28mself\u001b[39m\u001b[38;5;241m.\u001b[39moptions[\u001b[38;5;124m\"\u001b[39m\u001b[38;5;124mhas_index_names\u001b[39m\u001b[38;5;124m\"\u001b[39m] \u001b[38;5;241m=\u001b[39m kwds[\u001b[38;5;124m\"\u001b[39m\u001b[38;5;124mhas_index_names\u001b[39m\u001b[38;5;124m\"\u001b[39m]\n\u001b[1;32m   1406\u001b[0m \u001b[38;5;28mself\u001b[39m\u001b[38;5;241m.\u001b[39mhandles: IOHandles \u001b[38;5;241m|\u001b[39m \u001b[38;5;28;01mNone\u001b[39;00m \u001b[38;5;241m=\u001b[39m \u001b[38;5;28;01mNone\u001b[39;00m\n\u001b[0;32m-> 1407\u001b[0m \u001b[38;5;28mself\u001b[39m\u001b[38;5;241m.\u001b[39m_engine \u001b[38;5;241m=\u001b[39m \u001b[38;5;28;43mself\u001b[39;49m\u001b[38;5;241;43m.\u001b[39;49m\u001b[43m_make_engine\u001b[49m\u001b[43m(\u001b[49m\u001b[43mf\u001b[49m\u001b[43m,\u001b[49m\u001b[43m \u001b[49m\u001b[38;5;28;43mself\u001b[39;49m\u001b[38;5;241;43m.\u001b[39;49m\u001b[43mengine\u001b[49m\u001b[43m)\u001b[49m\n",
      "File \u001b[0;32m~/opt/anaconda3/lib/python3.8/site-packages/pandas/io/parsers/readers.py:1661\u001b[0m, in \u001b[0;36mTextFileReader._make_engine\u001b[0;34m(self, f, engine)\u001b[0m\n\u001b[1;32m   1659\u001b[0m     \u001b[38;5;28;01mif\u001b[39;00m \u001b[38;5;124m\"\u001b[39m\u001b[38;5;124mb\u001b[39m\u001b[38;5;124m\"\u001b[39m \u001b[38;5;129;01mnot\u001b[39;00m \u001b[38;5;129;01min\u001b[39;00m mode:\n\u001b[1;32m   1660\u001b[0m         mode \u001b[38;5;241m+\u001b[39m\u001b[38;5;241m=\u001b[39m \u001b[38;5;124m\"\u001b[39m\u001b[38;5;124mb\u001b[39m\u001b[38;5;124m\"\u001b[39m\n\u001b[0;32m-> 1661\u001b[0m \u001b[38;5;28mself\u001b[39m\u001b[38;5;241m.\u001b[39mhandles \u001b[38;5;241m=\u001b[39m \u001b[43mget_handle\u001b[49m\u001b[43m(\u001b[49m\n\u001b[1;32m   1662\u001b[0m \u001b[43m    \u001b[49m\u001b[43mf\u001b[49m\u001b[43m,\u001b[49m\n\u001b[1;32m   1663\u001b[0m \u001b[43m    \u001b[49m\u001b[43mmode\u001b[49m\u001b[43m,\u001b[49m\n\u001b[1;32m   1664\u001b[0m \u001b[43m    \u001b[49m\u001b[43mencoding\u001b[49m\u001b[38;5;241;43m=\u001b[39;49m\u001b[38;5;28;43mself\u001b[39;49m\u001b[38;5;241;43m.\u001b[39;49m\u001b[43moptions\u001b[49m\u001b[38;5;241;43m.\u001b[39;49m\u001b[43mget\u001b[49m\u001b[43m(\u001b[49m\u001b[38;5;124;43m\"\u001b[39;49m\u001b[38;5;124;43mencoding\u001b[39;49m\u001b[38;5;124;43m\"\u001b[39;49m\u001b[43m,\u001b[49m\u001b[43m \u001b[49m\u001b[38;5;28;43;01mNone\u001b[39;49;00m\u001b[43m)\u001b[49m\u001b[43m,\u001b[49m\n\u001b[1;32m   1665\u001b[0m \u001b[43m    \u001b[49m\u001b[43mcompression\u001b[49m\u001b[38;5;241;43m=\u001b[39;49m\u001b[38;5;28;43mself\u001b[39;49m\u001b[38;5;241;43m.\u001b[39;49m\u001b[43moptions\u001b[49m\u001b[38;5;241;43m.\u001b[39;49m\u001b[43mget\u001b[49m\u001b[43m(\u001b[49m\u001b[38;5;124;43m\"\u001b[39;49m\u001b[38;5;124;43mcompression\u001b[39;49m\u001b[38;5;124;43m\"\u001b[39;49m\u001b[43m,\u001b[49m\u001b[43m \u001b[49m\u001b[38;5;28;43;01mNone\u001b[39;49;00m\u001b[43m)\u001b[49m\u001b[43m,\u001b[49m\n\u001b[1;32m   1666\u001b[0m \u001b[43m    \u001b[49m\u001b[43mmemory_map\u001b[49m\u001b[38;5;241;43m=\u001b[39;49m\u001b[38;5;28;43mself\u001b[39;49m\u001b[38;5;241;43m.\u001b[39;49m\u001b[43moptions\u001b[49m\u001b[38;5;241;43m.\u001b[39;49m\u001b[43mget\u001b[49m\u001b[43m(\u001b[49m\u001b[38;5;124;43m\"\u001b[39;49m\u001b[38;5;124;43mmemory_map\u001b[39;49m\u001b[38;5;124;43m\"\u001b[39;49m\u001b[43m,\u001b[49m\u001b[43m \u001b[49m\u001b[38;5;28;43;01mFalse\u001b[39;49;00m\u001b[43m)\u001b[49m\u001b[43m,\u001b[49m\n\u001b[1;32m   1667\u001b[0m \u001b[43m    \u001b[49m\u001b[43mis_text\u001b[49m\u001b[38;5;241;43m=\u001b[39;49m\u001b[43mis_text\u001b[49m\u001b[43m,\u001b[49m\n\u001b[1;32m   1668\u001b[0m \u001b[43m    \u001b[49m\u001b[43merrors\u001b[49m\u001b[38;5;241;43m=\u001b[39;49m\u001b[38;5;28;43mself\u001b[39;49m\u001b[38;5;241;43m.\u001b[39;49m\u001b[43moptions\u001b[49m\u001b[38;5;241;43m.\u001b[39;49m\u001b[43mget\u001b[49m\u001b[43m(\u001b[49m\u001b[38;5;124;43m\"\u001b[39;49m\u001b[38;5;124;43mencoding_errors\u001b[39;49m\u001b[38;5;124;43m\"\u001b[39;49m\u001b[43m,\u001b[49m\u001b[43m \u001b[49m\u001b[38;5;124;43m\"\u001b[39;49m\u001b[38;5;124;43mstrict\u001b[39;49m\u001b[38;5;124;43m\"\u001b[39;49m\u001b[43m)\u001b[49m\u001b[43m,\u001b[49m\n\u001b[1;32m   1669\u001b[0m \u001b[43m    \u001b[49m\u001b[43mstorage_options\u001b[49m\u001b[38;5;241;43m=\u001b[39;49m\u001b[38;5;28;43mself\u001b[39;49m\u001b[38;5;241;43m.\u001b[39;49m\u001b[43moptions\u001b[49m\u001b[38;5;241;43m.\u001b[39;49m\u001b[43mget\u001b[49m\u001b[43m(\u001b[49m\u001b[38;5;124;43m\"\u001b[39;49m\u001b[38;5;124;43mstorage_options\u001b[39;49m\u001b[38;5;124;43m\"\u001b[39;49m\u001b[43m,\u001b[49m\u001b[43m \u001b[49m\u001b[38;5;28;43;01mNone\u001b[39;49;00m\u001b[43m)\u001b[49m\u001b[43m,\u001b[49m\n\u001b[1;32m   1670\u001b[0m \u001b[43m\u001b[49m\u001b[43m)\u001b[49m\n\u001b[1;32m   1671\u001b[0m \u001b[38;5;28;01massert\u001b[39;00m \u001b[38;5;28mself\u001b[39m\u001b[38;5;241m.\u001b[39mhandles \u001b[38;5;129;01mis\u001b[39;00m \u001b[38;5;129;01mnot\u001b[39;00m \u001b[38;5;28;01mNone\u001b[39;00m\n\u001b[1;32m   1672\u001b[0m f \u001b[38;5;241m=\u001b[39m \u001b[38;5;28mself\u001b[39m\u001b[38;5;241m.\u001b[39mhandles\u001b[38;5;241m.\u001b[39mhandle\n",
      "File \u001b[0;32m~/opt/anaconda3/lib/python3.8/site-packages/pandas/io/common.py:859\u001b[0m, in \u001b[0;36mget_handle\u001b[0;34m(path_or_buf, mode, encoding, compression, memory_map, is_text, errors, storage_options)\u001b[0m\n\u001b[1;32m    854\u001b[0m \u001b[38;5;28;01melif\u001b[39;00m \u001b[38;5;28misinstance\u001b[39m(handle, \u001b[38;5;28mstr\u001b[39m):\n\u001b[1;32m    855\u001b[0m     \u001b[38;5;66;03m# Check whether the filename is to be opened in binary mode.\u001b[39;00m\n\u001b[1;32m    856\u001b[0m     \u001b[38;5;66;03m# Binary mode does not support 'encoding' and 'newline'.\u001b[39;00m\n\u001b[1;32m    857\u001b[0m     \u001b[38;5;28;01mif\u001b[39;00m ioargs\u001b[38;5;241m.\u001b[39mencoding \u001b[38;5;129;01mand\u001b[39;00m \u001b[38;5;124m\"\u001b[39m\u001b[38;5;124mb\u001b[39m\u001b[38;5;124m\"\u001b[39m \u001b[38;5;129;01mnot\u001b[39;00m \u001b[38;5;129;01min\u001b[39;00m ioargs\u001b[38;5;241m.\u001b[39mmode:\n\u001b[1;32m    858\u001b[0m         \u001b[38;5;66;03m# Encoding\u001b[39;00m\n\u001b[0;32m--> 859\u001b[0m         handle \u001b[38;5;241m=\u001b[39m \u001b[38;5;28;43mopen\u001b[39;49m\u001b[43m(\u001b[49m\n\u001b[1;32m    860\u001b[0m \u001b[43m            \u001b[49m\u001b[43mhandle\u001b[49m\u001b[43m,\u001b[49m\n\u001b[1;32m    861\u001b[0m \u001b[43m            \u001b[49m\u001b[43mioargs\u001b[49m\u001b[38;5;241;43m.\u001b[39;49m\u001b[43mmode\u001b[49m\u001b[43m,\u001b[49m\n\u001b[1;32m    862\u001b[0m \u001b[43m            \u001b[49m\u001b[43mencoding\u001b[49m\u001b[38;5;241;43m=\u001b[39;49m\u001b[43mioargs\u001b[49m\u001b[38;5;241;43m.\u001b[39;49m\u001b[43mencoding\u001b[49m\u001b[43m,\u001b[49m\n\u001b[1;32m    863\u001b[0m \u001b[43m            \u001b[49m\u001b[43merrors\u001b[49m\u001b[38;5;241;43m=\u001b[39;49m\u001b[43merrors\u001b[49m\u001b[43m,\u001b[49m\n\u001b[1;32m    864\u001b[0m \u001b[43m            \u001b[49m\u001b[43mnewline\u001b[49m\u001b[38;5;241;43m=\u001b[39;49m\u001b[38;5;124;43m\"\u001b[39;49m\u001b[38;5;124;43m\"\u001b[39;49m\u001b[43m,\u001b[49m\n\u001b[1;32m    865\u001b[0m \u001b[43m        \u001b[49m\u001b[43m)\u001b[49m\n\u001b[1;32m    866\u001b[0m     \u001b[38;5;28;01melse\u001b[39;00m:\n\u001b[1;32m    867\u001b[0m         \u001b[38;5;66;03m# Binary mode\u001b[39;00m\n\u001b[1;32m    868\u001b[0m         handle \u001b[38;5;241m=\u001b[39m \u001b[38;5;28mopen\u001b[39m(handle, ioargs\u001b[38;5;241m.\u001b[39mmode)\n",
      "\u001b[0;31mFileNotFoundError\u001b[0m: [Errno 2] No such file or directory: 'csv/svm_results/SVM prediction of He untrained net1 relu3 epoch0 200 nonzero activity units exp0 July2023_4to20.csv'"
     ]
    }
   ],
   "source": [
    "nets = np.arange(1,11)\n",
    "relus = np.arange(3,6)\n",
    "epochs = np.arange(0,91,90)\n",
    "num_units =200\n",
    "\n",
    "exp_results = []\n",
    "for net in nets:\n",
    "    for relu in relus:\n",
    "        for epoch in epochs:\n",
    "            for exp in range(10):\n",
    "                test_csv = f'csv/svm_test_set{exp}_4to20.csv'\n",
    "                pred_csv = f'csv/svm_results/SVM prediction of He untrained net{net} relu{relu} epoch{epoch} {num_units} nonzero activity units exp{exp} July2023_4to20.csv'\n",
    "                pred_csv_shuffled = f'csv/svm_results/SVM prediction of He untrained net{net} relu{relu} epoch{epoch} {num_units} nonzero activity units exp{exp} July2023_4to20_SHUFFLED.csv'\n",
    "                test_exp = pd.read_csv(test_csv, index_col=0)\n",
    "\n",
    "                correct_answers = svm.get_y(test_exp).to_numpy()\n",
    "                svm_answers = pd.read_csv(pred_csv)['0'].to_numpy()\n",
    "                svm_answers_shuffled = pd.read_csv(pred_csv_shuffled)['0'].to_numpy()\n",
    "                is_equal = np.equal(correct_answers, svm_answers)\n",
    "                is_equal_shuffled = np.equal(correct_answers, svm_answers_shuffled)\n",
    "\n",
    "                cong = test_exp.index[((test_exp['num1']<test_exp['num2'])&(test_exp['sz1']<test_exp['sz2']))|((test_exp['num1']>test_exp['num2'])&(test_exp['sz1']>test_exp['sz2']))]\n",
    "                incong = np.setdiff1d(range(len(test_exp)), cong)\n",
    "                test_exp['net']=net\n",
    "                test_exp['relu']=relu\n",
    "                test_exp['epoch']=epoch\n",
    "                test_exp['exp']=exp\n",
    "                test_exp['number_ratio']=stats.number_ratio(np.arange(2,21,2), test_exp['num1'], test_exp['num2'])\n",
    "                test_exp.loc[cong, 'congruence'] = 'C'\n",
    "                test_exp.loc[incong, 'congruence'] = 'IC'\n",
    "                test_exp['correct'] = is_equal\n",
    "                test_exp['correct_shuffled'] = is_equal_shuffled  # add this line\n",
    "                \n",
    "                c_vs_ic = test_exp[['congruence', 'net', 'relu','epoch','exp','number_ratio','correct','correct_shuffled']].groupby(['congruence', 'net', 'relu','epoch','number_ratio','exp']).mean().reset_index()  # include 'correct_shuffled' here\n",
    "                exp_results.append(c_vs_ic)\n",
    "\n",
    "exp_results_concat = pd.concat(exp_results)[['congruence', 'net', 'relu','epoch','number_ratio','correct','correct_shuffled']].groupby(['congruence', 'net', 'relu','epoch']).mean().reset_index()  # include 'correct_shuffled' here too\n"
   ]
  },
  {
   "cell_type": "markdown",
   "id": "d62b6e06-58e1-4bde-9370-5376a86b4768",
   "metadata": {},
   "source": [
    "### Plot"
   ]
  },
  {
   "cell_type": "code",
   "execution_count": null,
   "id": "b7bc94be-620b-4259-874c-7fcf416f11f5",
   "metadata": {
    "tags": []
   },
   "outputs": [],
   "source": [
    "from scipy.stats import ttest_ind\n",
    "\n",
    "\n",
    "# Filter your dataframe based on 'relu' and 'epoch' conditions\n",
    "exp_results_sub = exp_results_concat[(exp_results_concat['relu']==5)&(exp_results_concat['epoch']==90)]\n",
    "\n",
    "# Reshape the dataframe to long format\n",
    "exp_results_long = exp_results_sub.melt(id_vars=['congruence'], \n",
    "                                        value_vars=['correct', 'correct_shuffled'], \n",
    "                                        var_name='correct_type', \n",
    "                                        value_name='value')\n",
    "\n",
    "# Sort correct_type in desired order\n",
    "exp_results_long['correct_type'] = pd.Categorical(exp_results_long['correct_type'], \n",
    "                                                  categories=['correct', 'correct_shuffled'], \n",
    "                                                  ordered=True)\n",
    "\n",
    "# Calculate the p-values for the difference between 'C' and 'IC' within each 'correct_type'\n",
    "p_values = exp_results_long.groupby('correct_type').apply(lambda x: ttest_ind(\n",
    "    x.loc[x['congruence'] == 'C', 'value'],\n",
    "    x.loc[x['congruence'] == 'IC', 'value']\n",
    ").pvalue)\n",
    "\n",
    "# Now create a paired barplot\n",
    "plt.figure(figsize=(10, 6))\n",
    "sns.barplot(data=exp_results_long, \n",
    "            x='correct_type', \n",
    "            y='value', \n",
    "            hue='congruence', \n",
    "            ci='sd')\n",
    "\n",
    "plt.title('Comparison of Regular and Shuffled Data')\n",
    "plt.xlabel('')\n",
    "plt.ylabel('Average Value')\n",
    "plt.ylim(0.4, None)\n",
    "\n",
    "# Add horizontal red dotted line at y=0.5\n",
    "plt.axhline(y=0.5, color='r', linestyle='--')\n",
    "\n",
    "# Define positions for brackets and text\n",
    "y_bracket = exp_results_long['value'].max() + 0.01  # adjust this value as needed\n",
    "y_text = y_bracket + 0.01  # adjust this value as needed\n",
    "\n",
    "# Add the p-values to the plot with brackets\n",
    "for i, correct_type in enumerate(exp_results_long['correct_type'].cat.categories):\n",
    "    plt.text(i, y_text, f'p = {p_values[correct_type]:.2e}', ha='center')\n",
    "    plt.plot([i - 0.2, i - 0.2, i + 0.2, i + 0.2], [y_bracket, y_bracket + 0.01, y_bracket + 0.01, y_bracket], lw=1.5, color='black')\n",
    "\n",
    "plt.savefig(f'barplot for SVM prediction of He untrained relu{relu} epoch{epoch} {num_units} nonzero activity units July2023_4to20.pdf')\n",
    "plt.show()"
   ]
  },
  {
   "cell_type": "markdown",
   "id": "40a2e2c0-cd05-411e-9f12-57d203a1aaad",
   "metadata": {},
   "source": [
    "### Plot lineplot"
   ]
  },
  {
   "cell_type": "code",
   "execution_count": null,
   "id": "3de2ca7e-db93-4574-b9dd-9e2861a31e91",
   "metadata": {
    "tags": []
   },
   "outputs": [],
   "source": [
    "df_num_ratio = pd.concat(exp_results)[['congruence', 'net', 'relu','epoch','number_ratio','correct']]\n",
    "df_num_ratio['incorrect'] = 1-df_num_ratio['correct']\n",
    "sns.lineplot(data=df_num_ratio, x='number_ratio',y='incorrect', hue='congruence')\n",
    "plt.tight_layout()\n",
    "plt.savefig(f'lineplot for numdist vs incorrect in SVM prediction of He untrained relu{relu} epoch{epoch} {num_units} nonzero activity units July2023_4to20.pdf')"
   ]
  },
  {
   "cell_type": "markdown",
   "id": "f20c646f-9eb6-4e57-85a0-238f99983661",
   "metadata": {},
   "source": [
    "## plot accuracy heatmap"
   ]
  },
  {
   "cell_type": "code",
   "execution_count": null,
   "id": "c5444f43-e617-4d33-9d7a-6aefed9d0491",
   "metadata": {
    "tags": []
   },
   "outputs": [],
   "source": [
    "import matplotlib.pyplot as plt\n",
    "import seaborn as sns\n",
    "\n",
    "net=1\n",
    "num_units=200\n",
    "\n",
    "for relu in range(5,6):\n",
    "    epoch_results = []\n",
    "    for epoch in np.arange(90,91,10):\n",
    "        exp_results = []\n",
    "        for exp in range(10):\n",
    "            test_csv = f'csv/svm_test_set{exp}.csv'\n",
    "            pred_csv = f'csv/svm_results/SVM prediction of He untrained net{net} relu{relu} epoch{epoch} {num_units} nonzero activity units exp{exp} June2023.csv'\n",
    "            exp_results.append(svm.get_svm_matrix(test_csv, pred_csv))\n",
    "        # Convert list of dataframes to 3D numpy array\n",
    "        data_3d = np.array([df.to_numpy() for df in exp_results])\n",
    "\n",
    "        # Compute mean along the first axis (the one representing different dataframes)\n",
    "        with np.errstate(invalid='ignore'):\n",
    "            avg_svm_matrix = np.nanmean(data_3d, axis=0)\n",
    "\n",
    "        # Convert back to DataFrame (if desired)\n",
    "        avg_svm_matrix_df = pd.DataFrame(avg_svm_matrix, index=exp_results[0].index, columns=exp_results[0].columns)\n",
    "        epoch_results.append(avg_svm_matrix_df)\n",
    "\n",
    "    # Create figure with 10 subplots arranged in a 5x2 grid\n",
    "    fig, axes = plt.subplots(5, 2, figsize=(10,20))\n",
    "\n",
    "    for i, ax in enumerate(axes.flat):\n",
    "        df = epoch_results[i]\n",
    "        sns.heatmap(df, cmap=\"rocket\", ax=ax, annot=True, cbar_kws={'label': 'accuracy'})\n",
    "        ax.set_xticklabels(np.arange(2, 21, 2))\n",
    "        ax.set_yticklabels(np.arange(2, 21, 2))\n",
    "        ax.set_title(f'Epoch {i*10}')\n",
    "        ax.set_aspect('equal')\n",
    "\n",
    "    plt.tight_layout()\n",
    "    #plt.savefig(f'svm_heatmap_for_relu{relu}_all_epochs_top{num_units}_monotonic_response_units.pdf')\n",
    "    plt.show()"
   ]
  },
  {
   "cell_type": "markdown",
   "id": "75e45345-c684-4b49-afab-0ac1f9663f4e",
   "metadata": {
    "tags": []
   },
   "source": [
    "## number of units used in SVM vs accuracy"
   ]
  },
  {
   "cell_type": "code",
   "execution_count": null,
   "id": "6bf25d87-b668-4a8e-8cf7-3082317e04c5",
   "metadata": {
    "tags": []
   },
   "outputs": [],
   "source": [
    "net=1\n",
    "relu=2\n",
    "epoch=90\n",
    "num_units=2000"
   ]
  },
  {
   "cell_type": "code",
   "execution_count": null,
   "id": "79074998-7409-4e4f-b1ed-ca66bc0e209d",
   "metadata": {
    "tags": []
   },
   "outputs": [],
   "source": [
    "accuracy_epochs = []\n",
    "for epoch in range(0,91,10):\n",
    "    accuracies = []\n",
    "    for exp in range(10):\n",
    "        test_csv = f'csv/svm_test_set{exp}.csv'\n",
    "        pred_csv = f'csv/svm_results/SVM prediction of He untrained net{net} relu{relu} epoch{epoch} {num_units} nonzero activity units exp{exp} June2023.csv'\n",
    "\n",
    "        test = pd.read_csv(test_csv).drop('Unnamed: 0', axis=1)\n",
    "        pred = pd.read_csv(pred_csv)['0'].to_numpy()\n",
    "        ans = svm.get_y(pd.read_csv(test_csv).drop('Unnamed: 0', axis=1))  # Assumes that get_y is defined elsewhere\n",
    "        # Check for equality element-wise:\n",
    "        equal_elements = np.equal(pred, ans)\n",
    "        accuracies.append(np.sum(equal_elements)/len(test))\n",
    "    accuracy = np.mean(accuracies)\n",
    "    accuracy_epochs.append(accuracy)"
   ]
  },
  {
   "cell_type": "code",
   "execution_count": null,
   "id": "fe97b910-a20d-4c3a-a6a6-7aa1d6c217e4",
   "metadata": {
    "tags": []
   },
   "outputs": [],
   "source": [
    "from itertools import product\n",
    "# define the range for each variable\n",
    "nets = np.arange(1,3)\n",
    "relus = np.arange(5, 6, 1).astype(int)\n",
    "epochs = np.arange(0, 91, 10).astype(int)\n",
    "num_units = np.arange(200, 2001, 400).astype(int)\n",
    "\n",
    "# Create a cartesian product of all three lists\n",
    "all_combinations = list(product(nets, relus, epochs, num_units))\n",
    "\n",
    "# Convert the combinations into a dataframe\n",
    "df = pd.DataFrame(all_combinations, columns=['net', 'relu', 'epoch', 'num_units'])\n",
    "\n",
    "# Initially set accuracy to NaN (or some other default value)\n",
    "df['accuracy'] = np.nan"
   ]
  },
  {
   "cell_type": "code",
   "execution_count": null,
   "id": "052555eb-d37a-498e-aa2f-5df459ce675d",
   "metadata": {
    "tags": []
   },
   "outputs": [],
   "source": [
    "for idx, row in df.iterrows():\n",
    "    net = int(row['net'])\n",
    "    relu = int(row['relu'])\n",
    "    epoch = int(row['epoch'])\n",
    "    num_units = int(row['num_units'])\n",
    "\n",
    "    accuracies = []\n",
    "    for exp in range(10):\n",
    "        test_csv = f'csv/svm_test_set{exp}.csv'\n",
    "        pred_csv = f'csv/svm_results/SVM prediction of He untrained net{net} relu{relu} epoch{epoch} {num_units} nonzero activity units exp{exp} June2023.csv'\n",
    "\n",
    "        test = pd.read_csv(test_csv).drop('Unnamed: 0', axis=1)\n",
    "        pred = pd.read_csv(pred_csv)['0'].to_numpy()\n",
    "        ans = svm.get_y(pd.read_csv(test_csv).drop('Unnamed: 0', axis=1))  # Assumes that get_y is defined elsewhere\n",
    "\n",
    "        # Check for equality element-wise:\n",
    "        equal_elements = np.equal(pred, ans)\n",
    "        accuracies.append(np.sum(equal_elements)/len(test))\n",
    "\n",
    "    df.at[idx, 'accuracy'] = np.mean(accuracies)\n"
   ]
  },
  {
   "cell_type": "code",
   "execution_count": null,
   "id": "4a3cd19a-a417-422b-84d6-944563ab565f",
   "metadata": {
    "tags": []
   },
   "outputs": [],
   "source": [
    "# Convert 'num_units' to a categorical type\n",
    "df['num_units'] = df['num_units'].astype('category')\n",
    "\n",
    "# Create a cubehelix color palette\n",
    "palette = sns.color_palette(\"cubehelix\", len(df['num_units'].unique()))\n",
    "\n",
    "sns.lineplot(data=df, x='epoch', y='accuracy', hue='num_units', palette=palette)\n",
    "plt.yticks = np.arange(0,91,10)\n",
    "plt.title(f'Relu{relu} epoch vs accuracy per number of units used in svm')\n",
    "plt.tight_layout()\n",
    "plt.savefig(f'Relu{relu} epoch vs accuracy per number of units used in svm.pdf')\n",
    "plt.show()"
   ]
  },
  {
   "cell_type": "markdown",
   "id": "bc74e52f-246c-4593-b364-dafdeeaea1a5",
   "metadata": {},
   "source": [
    "## Epoch vs accuracy in Relu5"
   ]
  },
  {
   "cell_type": "code",
   "execution_count": 4,
   "id": "2beffb45-6199-466c-ba6e-8124d397476c",
   "metadata": {
    "tags": []
   },
   "outputs": [],
   "source": [
    "nets = np.arange(1,11)\n",
    "relus = np.arange(2,6)\n",
    "epochs = np.arange(0,91,10)\n",
    "num_units =np.arange(200,201,200)\n",
    "\n",
    "exp_results = []\n",
    "for num_unit in num_units:\n",
    "    for net in nets:\n",
    "        for relu in relus:\n",
    "            for epoch in epochs:\n",
    "                for exp in range(10):\n",
    "                    test_csv = f'csv/svm_test_set{exp}_4to20.csv'\n",
    "                    pred_csv = f'csv/svm_results/4to20/SVM prediction of He untrained net{net} relu{relu} epoch{epoch} {num_unit} nonzero activity units exp{exp} July2023_4to20.csv'\n",
    "                    #pred_csv_shuffled = f'csv/svm_results/SVM prediction of He untrained net{net} relu{relu} epoch{epoch} {num_units} nonzero activity units exp{exp} July2023_4to20_SHUFFLED.csv'\n",
    "                    test_exp = pd.read_csv(test_csv, index_col=0)\n",
    "\n",
    "                    correct_answers = svm.get_y(test_exp).to_numpy()\n",
    "                    svm_answers = pd.read_csv(pred_csv)['0'].to_numpy()\n",
    "                    #svm_answers_shuffled = pd.read_csv(pred_csv_shuffled)['0'].to_numpy()\n",
    "                    is_equal = np.equal(correct_answers, svm_answers)\n",
    "                    #is_equal_shuffled = np.equal(correct_answers, svm_answers_shuffled)\n",
    "\n",
    "                    cong = test_exp.index[((test_exp['num1']<test_exp['num2'])&(test_exp['sz1']<test_exp['sz2']))|((test_exp['num1']>test_exp['num2'])&(test_exp['sz1']>test_exp['sz2']))]\n",
    "                    incong = np.setdiff1d(range(len(test_exp)), cong)\n",
    "                    test_exp['num_unit']=num_unit\n",
    "                    test_exp['net']=net\n",
    "                    test_exp['relu']=relu\n",
    "                    test_exp['epoch']=epoch\n",
    "                    test_exp['exp']=exp\n",
    "                    test_exp['number_ratio']=stats.number_ratio(np.arange(2,21,2), test_exp['num1'], test_exp['num2'])\n",
    "                    test_exp['number_dist']=np.abs(test_exp['num1']-test_exp['num2'])*2\n",
    "                    test_exp.loc[cong, 'congruence'] = 'C'\n",
    "                    test_exp.loc[incong, 'congruence'] = 'IC'\n",
    "                    test_exp['correct'] = is_equal\n",
    "                    #test_exp['correct_shuffled'] = is_equal_shuffled  # add this line\n",
    "\n",
    "                    c_vs_ic = test_exp[['congruence', 'net', 'relu','epoch','exp','number_ratio','number_dist','correct', 'num_unit']].groupby(['congruence', 'net', 'relu','epoch','number_ratio','number_dist','exp','num_unit']).mean('accuracy').reset_index()  # include 'correct_shuffled' here\n",
    "                    exp_results.append(c_vs_ic)\n",
    "\n",
    "exp_results_concat = pd.concat(exp_results)"
   ]
  },
  {
   "cell_type": "code",
   "execution_count": 6,
   "id": "f2862f81-df59-4337-9bb7-0d3d395b40cc",
   "metadata": {
    "tags": []
   },
   "outputs": [],
   "source": [
    "ff = exp_results_concat[['congruence','net','relu','epoch','number_ratio','number_dist','num_unit','correct']].groupby(['congruence','net','relu','number_ratio','number_dist','epoch','num_unit']).mean('correct').reset_index()\n",
    "\n",
    "# Pivot the dataframe to have 'congruence' as columns\n",
    "pivot_df = ff.pivot_table(index=['net', 'relu', 'epoch', 'number_ratio','number_dist','num_unit'], columns='congruence', values='correct').reset_index()\n",
    "\n",
    "# Compute the difference between 'C' and 'IC'\n",
    "pivot_df['cong_diff'] = pivot_df['C'] - pivot_df['IC']"
   ]
  },
  {
   "cell_type": "markdown",
   "id": "854205e9-5a10-4a99-a2b5-f4987f88120f",
   "metadata": {},
   "source": [
    "## Heatmap: epoch vs relu for congruence effect"
   ]
  },
  {
   "cell_type": "code",
   "execution_count": 36,
   "id": "75d8311b-d5c9-4e8e-badf-14afc2115ead",
   "metadata": {
    "tags": []
   },
   "outputs": [
    {
     "data": {
      "image/png": "[encoded data removed]",
      "text/plain": [
       "<Figure size 1000x800 with 2 Axes>"
      ]
     },
     "metadata": {},
     "output_type": "display_data"
    }
   ],
   "source": [
    "import seaborn as sns\n",
    "import matplotlib.pyplot as plt\n",
    "\n",
    "# Reshape the dataframe using pivot_table function\n",
    "heatmap_data = pivot_df.pivot_table(index='relu', columns='epoch', values='cong_diff', aggfunc='mean')\n",
    "\n",
    "plt.figure(figsize=(10,8))\n",
    "# Create the heatmap\n",
    "sns.heatmap(heatmap_data, cmap=\"YlGnBu\")\n",
    "\n",
    "plt.title('Heatmap of cong_diff')\n",
    "plt.show()"
   ]
  },
  {
   "cell_type": "markdown",
   "id": "701d0a82-2826-4a3b-b144-2f74c582d6f8",
   "metadata": {},
   "source": [
    "## Lineplot: epoch vs relu for congruence effect"
   ]
  },
  {
   "cell_type": "code",
   "execution_count": 9,
   "id": "52c47097-e543-4b69-96e2-1c62b6fa17e0",
   "metadata": {
    "tags": []
   },
   "outputs": [
    {
     "data": {
      "image/png": "[encoded data removed]",
      "text/plain": [
       "<Figure size 640x480 with 1 Axes>"
      ]
     },
     "metadata": {},
     "output_type": "display_data"
    }
   ],
   "source": [
    "from matplotlib.ticker import MultipleLocator\n",
    "\n",
    "sns.lineplot(data=pivot_df, x='epoch', y='cong_diff', hue='relu', palette='tab10')\n",
    "# Set major ticks\n",
    "plt.xticks([0,30,60,90])\n",
    "plt.yticks(np.arange(0,0.16,0.02))\n",
    "\n",
    "# Set minor ticks\n",
    "ax = plt.gca()  # Get the current Axes instance\n",
    "ax.xaxis.set_minor_locator(MultipleLocator(10))  # Set minor ticks for x-axis every 10 units\n",
    "ax.yaxis.set_minor_locator(MultipleLocator(0.01))  # Set minor ticks for y-axis every 0.01 units\n",
    "plt.savefig('Lineplot for Epoch vs congruency effect.pdf')\n",
    "plt.show()"
   ]
  },
  {
   "cell_type": "code",
   "execution_count": 38,
   "id": "6f123cc2-efdf-4406-8a92-df153b27dc54",
   "metadata": {
    "tags": []
   },
   "outputs": [
    {
     "data": {
      "image/png": "[encoded data removed]",
      "text/plain": [
       "<Figure size 640x480 with 1 Axes>"
      ]
     },
     "metadata": {},
     "output_type": "display_data"
    },
    {
     "name": "stdout",
     "output_type": "stream",
     "text": [
      "Paired t-test for 'C': t = -7.867172049891708, p = 4.309062045355783e-14\n",
      "Wilcoxon signed-rank test for 'C': W = 15.5, p = 1.3326400775369559e-21\n"
     ]
    }
   ],
   "source": [
    "# Filter pivot_df to include only relu 4 and epoch 0 and 90\n",
    "df_sub = pivot_df[(pivot_df['epoch'].isin([0, 90])) & (pivot_df['relu'] == 4)]\n",
    "\n",
    "# \"Melt\" the 'C' and 'IC' columns into rows\n",
    "df_melted = pd.melt(df_sub, id_vars=['net', 'relu', 'epoch'], value_vars=['C', 'IC'], var_name='condition', value_name='value')\n",
    "\n",
    "# Create lineplot\n",
    "sns.lineplot(data=df_melted, x='epoch', y='value', hue='condition')\n",
    "\n",
    "# Set xticks\n",
    "plt.xticks([0, 90])\n",
    "\n",
    "# Show plot\n",
    "plt.show()\n",
    "\n",
    "from scipy import stats\n",
    "\n",
    "# For paired t-test\n",
    "t_stat, p_val = stats.ttest_rel(df_sub[df_sub['epoch'] == 0]['C'], df_sub[df_sub['epoch'] == 90]['C'])\n",
    "print(f\"Paired t-test for 'C': t = {t_stat}, p = {p_val}\")\n",
    "\n",
    "# For Wilcoxon signed-rank test\n",
    "w_stat, p_val = stats.wilcoxon(df_sub[df_sub['epoch'] == 0]['C'], df_sub[df_sub['epoch'] == 90]['C'])\n",
    "print(f\"Wilcoxon signed-rank test for 'C': W = {w_stat}, p = {p_val}\")"
   ]
  },
  {
   "cell_type": "code",
   "execution_count": null,
   "id": "2ebf6169-05e6-49ee-a544-ca5d1ac11007",
   "metadata": {
    "tags": []
   },
   "outputs": [],
   "source": [
    "import matplotlib.ticker as mtick\n",
    "\n",
    "ff = exp_results_concat[['congruence','net','relu','epoch','number_ratio','num_unit','correct']].groupby(['congruence','net','relu','number_ratio','epoch','num_unit']).mean('correct').reset_index()\n",
    "\n",
    "# Pivot the dataframe to have 'congruence' as columns\n",
    "pivot_df = ff[ff['number_ratio']>=0.2].pivot_table(index=['net', 'relu', 'epoch', 'number_ratio','num_unit'], columns='congruence', values='correct')\n",
    "\n",
    "# Compute the difference between 'C' and 'IC'\n",
    "pivot_df['cong_diff'] = pivot_df['C'] - pivot_df['IC']\n",
    "\n",
    "# Reset the index\n",
    "pivot_df = pivot_df.reset_index()\n",
    "\n",
    "# Reshape the dataframe\n",
    "reshaped_df = pivot_df.pivot_table(index=['net','num_unit'], columns='epoch', values='cong_diff').reset_index()\n",
    "\n",
    "# Get the unique num_units\n",
    "num_units = reshaped_df['num_unit'].unique()\n",
    "\n",
    "# Create a dictionary to store the p-values for each num_unit\n",
    "p_values = {}\n",
    "\n",
    "# For each num_unit, perform a t-test comparing 'cong_effect' at epoch0 and epoch90\n",
    "for unit in num_units:\n",
    "    unit_data = reshaped_df[reshaped_df['num_unit'] == unit]\n",
    "    t_stat, p_value = stats.ttest_rel(unit_data[0], unit_data[90])\n",
    "    p_values[unit] = p_value\n",
    "\n",
    "# Create a DataFrame from the p_values dictionary\n",
    "p_values_df = pd.DataFrame(list(p_values.items()), columns=['num_unit', 'p_value'])\n",
    "\n",
    "# Annotate significance\n",
    "p_values_df['significant'] = p_values_df['p_value'] < 0.01\n",
    "\n",
    "# Merge p_values_df back with pivot_df\n",
    "pivot_df = pd.merge(pivot_df, p_values_df, how='left', on='num_unit')\n",
    "\n",
    "# Plotting\n",
    "color_dict = dict(zip(pivot_df['epoch'].unique(), ['blue', 'red']))\n",
    "sns.lineplot(data=pivot_df, x='num_unit', y='cong_diff', hue='epoch', palette=color_dict)\n",
    "\n",
    "plt.ylim(0,)  # Set y-axis to start from 0\n",
    "plt.xticks(np.arange(200, 2001, 200))  # Set x-ticks from 200 to 2000 with step size of 200\n",
    "plt.xlabel('number of units used for SVM')\n",
    "plt.ylabel('congruency effect')\n",
    "\n",
    "# Convert y-axis values to percentages\n",
    "plt.gca().yaxis.set_major_formatter(mtick.PercentFormatter(1.0))\n",
    "plt.savefig('congruency_effect_epoch0_vs_epoch90.pdf')\n",
    "plt.show()\n",
    "\n",
    "# Print p-values\n",
    "print(p_values_df)"
   ]
  },
  {
   "cell_type": "code",
   "execution_count": null,
   "id": "3b9b2ab9-e3a2-4d85-bdfe-66a1521d410d",
   "metadata": {
    "tags": []
   },
   "outputs": [],
   "source": [
    "sns.lineplot(data= exp_results_concat, x='epoch', y='correct', hue='congruence')"
   ]
  },
  {
   "cell_type": "code",
   "execution_count": null,
   "id": "8ff7b230-314b-454b-b20b-73704d3c7d79",
   "metadata": {
    "tags": []
   },
   "outputs": [],
   "source": [
    "exp_results_concat"
   ]
  },
  {
   "cell_type": "markdown",
   "id": "0f10815a-442e-494b-8899-27599ecf0246",
   "metadata": {
    "tags": []
   },
   "source": [
    "## epoch & number distance vs congruency effect (accuracy of congruent - incongruent)"
   ]
  },
  {
   "cell_type": "code",
   "execution_count": null,
   "id": "19ff60cd-ce5a-42a4-84c9-dcf938b4a2fa",
   "metadata": {
    "tags": []
   },
   "outputs": [],
   "source": [
    "def get_num_sz_dist(test):\n",
    "    df_num_sz_dist = pd.DataFrame(index=range(len(test)), columns=['num_dist', 'sz_dist', 'congruency']) \n",
    "    df_num_sz_dist['num_dist'] = (test['num1'] - test['num2']) * 2\n",
    "    df_num_sz_dist['sz_dist'] = test['sz1'] - test['sz2']\n",
    "    df_num_sz_dist['congruency'] = np.sign(df_num_sz_dist['num_dist']) == np.sign(df_num_sz_dist['sz_dist']) \n",
    "    return df_num_sz_dist"
   ]
  },
  {
   "cell_type": "code",
   "execution_count": null,
   "id": "eef5c406-484d-4c45-a409-0c8d53bc03d7",
   "metadata": {
    "tags": []
   },
   "outputs": [],
   "source": [
    "from itertools import product\n",
    "# define the range for each variable\n",
    "nets = np.arange(1,3)\n",
    "relus = np.arange(5, 6, 1).astype(int)\n",
    "epochs = np.arange(0, 91, 10).astype(int)\n",
    "num_units = np.arange(200, 2001, 400).astype(int)\n",
    "\n",
    "# Create a cartesian product of all three lists\n",
    "all_combinations = list(product(nets, relus, epochs, num_units))\n",
    "\n",
    "# Convert the combinations into a dataframe\n",
    "df = pd.DataFrame(all_combinations, columns=['net', 'relu', 'epoch', 'num_units'])\n",
    "\n",
    "# Initially set accuracy to NaN (or some other default value)\n",
    "df['accuracy'] = np.nan\n",
    "\n",
    "\n",
    "for idx, row in df.iterrows():\n",
    "    net = int(row['net'])\n",
    "    relu = int(row['relu'])\n",
    "    epoch = int(row['epoch'])\n",
    "    num_units = int(row['num_units'])\n",
    "\n",
    "    accuracies = []\n",
    "    for exp in range(10):\n",
    "        test_csv = f'csv/svm_test_set{exp}.csv'\n",
    "        pred_csv = f'csv/svm_results/SVM prediction of He untrained net{net} relu{relu} epoch{epoch} {num_units} nonzero activity units exp{exp} June2023.csv'\n",
    "\n",
    "        test = pd.read_csv(test_csv).drop('Unnamed: 0', axis=1)\n",
    "        df_num_sz_dist = get_num_sz_dist(test)\n",
    "        pred = pd.read_csv(pred_csv)['0'].to_numpy()\n",
    "        ans = svm.get_y(pd.read_csv(test_csv).drop('Unnamed: 0', axis=1))  # Assumes that get_y is defined elsewhere\n",
    "\n",
    "        # Check for equality element-wise:\n",
    "        equal_elements = np.equal(pred, ans)\n",
    "        df_num_sz_dist['correctly_predicted'] = equal_elements"
   ]
  },
  {
   "cell_type": "code",
   "execution_count": null,
   "id": "97d540b1-4b8f-4166-90ca-3ec947a8e5d9",
   "metadata": {
    "tags": []
   },
   "outputs": [],
   "source": [
    "from itertools import product\n",
    "\n",
    "# Define the ranges\n",
    "nets = range(1, 2)\n",
    "relus = range(5, 6)\n",
    "num_units_values = range(2000, 2001, 200)\n",
    "epochs = range(0, 91, 10)\n",
    "\n",
    "# Generate all combinations\n",
    "combinations = product(nets, relus, num_units_values, epochs)\n",
    "\n",
    "# Convert to a DataFrame\n",
    "df = pd.DataFrame(combinations, columns=['net', 'relu', 'num_units', 'epoch'])\n",
    "\n",
    "# Add the 'cong_effect' column\n",
    "df['cong_effect'] = np.nan\n",
    "\n",
    "for net in range(1,2):\n",
    "    for relu in range(5,6):\n",
    "        for num_units in range(2000,2001,200):\n",
    "            for epoch in range(0,91,10):\n",
    "                test_csv = f'csv/svm_test_set{exp}.csv'\n",
    "                pred_csv = f'csv/svm_results/SVM prediction of He untrained net{net} relu{relu} epoch{epoch} {num_units} nonzero activity units exp{exp} June2023.csv'\n",
    "\n",
    "                test = pd.read_csv(test_csv).drop('Unnamed: 0', axis=1)\n",
    "                df_num_sz_dist = get_num_sz_dist(test)\n",
    "                pred = pd.read_csv(pred_csv)['0'].to_numpy()\n",
    "                ans = svm.get_y(pd.read_csv(test_csv).drop('Unnamed: 0', axis=1))  # Assumes that get_y is defined elsewhere\n",
    "\n",
    "                # Check for equality element-wise:\n",
    "                equal_elements = np.equal(pred, ans)\n",
    "                df_num_sz_dist['correctly_predicted'] = equal_elements\n",
    "\n",
    "                #accs  = []\n",
    "                for nd in range(2,19,2):\n",
    "                    df_numdist = df_num_sz_dist[np.abs(df_num_sz_dist['num_dist']) == nd]\n",
    "                    df_numdist_cong = df_numdist[df_numdist['congruency']==True]\n",
    "                    accuracy_cong = np.sum(df_numdist_cong['correctly_predicted'])/len(df_numdist_cong)\n",
    "                    df_numdist_incong = df_numdist[df_numdist['congruency']==False]\n",
    "                    accuracy_incong = np.sum(df_numdist_incong['correctly_predicted'])/len(df_numdist_incong)\n",
    "                    cong_effect = accuracy_cong - accuracy_incong\n",
    "                    #accs.append(cong_effect)\n",
    "                    # Fill df at the appropriate location            "
   ]
  },
  {
   "cell_type": "code",
   "execution_count": null,
   "id": "75bd770d-d6aa-487e-ad8e-595f85a3c7c1",
   "metadata": {
    "tags": []
   },
   "outputs": [],
   "source": [
    "# Define the ranges\n",
    "nets = range(1, 3)\n",
    "relus = range(2, 6)\n",
    "num_units_values = range(200, 2001, 200)\n",
    "epochs = range(0, 91, 10)\n",
    "num_dists = range(2, 19, 2)\n",
    "\n",
    "# Generate all combinations\n",
    "combinations = product(nets, relus, num_units_values, epochs, num_dists)\n",
    "\n",
    "# Convert to a DataFrame\n",
    "df = pd.DataFrame(combinations, columns=['net', 'relu', 'num_units', 'epoch', 'num_dist'])\n",
    "\n",
    "# Add the 'cong_effect' column\n",
    "df['cong_effect'] = np.nan\n",
    "\n",
    "for index, row in df.iterrows():\n",
    "    net = int(row['net'])\n",
    "    relu = int(row['relu'])\n",
    "    num_units = int(row['num_units'])\n",
    "    epoch = int(row['epoch'])\n",
    "    num_dist = int(row['num_dist'])\n",
    "    \n",
    "    test_csv = f'csv/svm_test_set{exp}.csv'\n",
    "    pred_csv = f'csv/svm_results/SVM prediction of He untrained net{net} relu{relu} epoch{epoch} {num_units} nonzero activity units exp{exp} June2023.csv'\n",
    "\n",
    "    test = pd.read_csv(test_csv).drop('Unnamed: 0', axis=1)\n",
    "    df_num_sz_dist = get_num_sz_dist(test)\n",
    "    pred = pd.read_csv(pred_csv)['0'].to_numpy()\n",
    "    ans = svm.get_y(pd.read_csv(test_csv).drop('Unnamed: 0', axis=1))  # Assumes that get_y is defined elsewhere\n",
    "\n",
    "    # Check for equality element-wise:\n",
    "    equal_elements = np.equal(pred, ans)\n",
    "    df_num_sz_dist['correctly_predicted'] = equal_elements\n",
    "\n",
    "    df_numdist = df_num_sz_dist[np.abs(df_num_sz_dist['num_dist']) == num_dist]\n",
    "    df_numdist_cong = df_numdist[df_numdist['congruency']==True]\n",
    "    accuracy_cong = np.sum(df_numdist_cong['correctly_predicted'])/len(df_numdist_cong)\n",
    "    df_numdist_incong = df_numdist[df_numdist['congruency']==False]\n",
    "    accuracy_incong = np.sum(df_numdist_incong['correctly_predicted'])/len(df_numdist_incong)\n",
    "    cong_effect = accuracy_cong - accuracy_incong\n",
    "\n",
    "    # Fill df at the appropriate location\n",
    "    df.at[index, 'cong_effect'] = cong_effect"
   ]
  },
  {
   "cell_type": "markdown",
   "id": "94acefc3-af71-402c-a347-73d6f367a08b",
   "metadata": {},
   "source": [
    "### Generate congruency effect heatmap per network and relu"
   ]
  },
  {
   "cell_type": "code",
   "execution_count": null,
   "id": "5bf06613-d18a-4bd2-8b38-2d4d689334d7",
   "metadata": {
    "tags": []
   },
   "outputs": [],
   "source": [
    "min_val = df['cong_effect'].min()\n",
    "max_val = df['cong_effect'].max()\n",
    "\n",
    "for net in nets:\n",
    "    for relu in relus:\n",
    "        for num_unit in num_units_values:\n",
    "            df_sub = df[(df['net']==net) & (df['relu']==relu) & (df['num_units']==num_unit)]\n",
    "            \n",
    "            # Reshape the dataframe\n",
    "            pivot_df = df_sub.pivot(index='num_dist', columns='epoch', values='cong_effect')\n",
    "\n",
    "            # Create the heatmap\n",
    "            plt.figure(figsize=(10, 8))\n",
    "            sns.heatmap(pivot_df, annot=True, cmap='rocket', vmin=min_val, vmax=max_val)\n",
    "            plt.title(f'Congruency effect net{net} relu {relu} {num_unit} units')\n",
    "            plt.savefig(f'heatmap for congruency effect of net{net} relu{relu} epoch{epoch} {num_unit} nonzero activity units July2023.pdf')\n",
    "            #plt.show()"
   ]
  },
  {
   "cell_type": "markdown",
   "id": "5bf9e78c-bd5c-4043-b5a2-1c9f5bc16331",
   "metadata": {
    "tags": []
   },
   "source": [
    "### Generate congruency effect heatmap per relu (averaged across networks)"
   ]
  },
  {
   "cell_type": "code",
   "execution_count": null,
   "id": "786fd8b3-b676-478f-9245-fb5c7eebe9b8",
   "metadata": {
    "tags": []
   },
   "outputs": [],
   "source": [
    "# Calculate average 'cong_effect' across all nets\n",
    "df_avg = df.groupby(['num_dist', 'epoch', 'relu', 'num_units']).mean().reset_index()\n",
    "\n",
    "# Find global min and max of 'cong_effect'\n",
    "min_val = df_avg['cong_effect'].min()\n",
    "max_val = df_avg['cong_effect'].max()\n",
    "\n",
    "for relu in range(3,6):\n",
    "    for num_unit in num_units_values:\n",
    "        df_sub = df_avg[(df_avg['relu']==relu) & (df_avg['num_units']==num_unit)]\n",
    "\n",
    "        # Reshape the dataframe\n",
    "        pivot_df = df_sub.pivot(index='num_dist', columns='epoch', values='cong_effect')\n",
    "\n",
    "        # Create the heatmap\n",
    "        plt.figure(figsize=(10, 8))\n",
    "        sns.heatmap(pivot_df, annot=True, cmap='rocket', vmin=min_val, vmax=max_val)\n",
    "        plt.title(f'Average congruency effect for relu {relu} with {num_unit} units')\n",
    "        plt.savefig(f'heatmap for average congruency effect of relu{relu} with {num_unit} units July2023.pdf')\n",
    "        #plt.show()"
   ]
  },
  {
   "cell_type": "code",
   "execution_count": null,
   "id": "f02b8b57-8f72-477b-937d-ca91458a35e9",
   "metadata": {
    "tags": []
   },
   "outputs": [],
   "source": [
    "import math\n",
    "\n",
    "# Calculate average 'cong_effect' across all nets\n",
    "df_avg = df.groupby(['num_dist', 'epoch', 'relu', 'num_units']).mean().reset_index()\n",
    "\n",
    "# Find global min and max of 'cong_effect'\n",
    "min_val = df_avg['cong_effect'].min()\n",
    "max_val = df_avg['cong_effect'].max()\n",
    "\n",
    "for relu in range(2, 6):\n",
    "    # Define number of rows and columns for subplot\n",
    "    num_unit_len = len(num_units_values)\n",
    "    num_cols = 2\n",
    "    num_rows = math.ceil(num_unit_len / num_cols)\n",
    "\n",
    "    # Create figure and axes for each relu\n",
    "    fig, axs = plt.subplots(num_rows, num_cols, figsize=(10 * num_cols, 8 * num_rows))  # Adjust the figure size\n",
    "\n",
    "    # To handle cases when the number of subplots is not exactly filling the grid\n",
    "    axs = axs.ravel()\n",
    "\n",
    "    for i, num_unit in enumerate(num_units_values):\n",
    "        df_sub = df_avg[(df_avg['relu'] == relu) & (df_avg['num_units'] == num_unit)]\n",
    "\n",
    "        # Reshape the dataframe\n",
    "        pivot_df = df_sub.pivot(index='num_dist', columns='epoch', values='cong_effect')\n",
    "\n",
    "        # Create the heatmap on specific subplot\n",
    "        sns.heatmap(pivot_df, annot=True, cmap='rocket', vmin=min_val, vmax=max_val, ax=axs[i])\n",
    "        axs[i].set_title(f'Average congruency effect for relu {relu} with {num_unit} units')\n",
    "\n",
    "    # Remove unused subplots\n",
    "    for j in range(i+1, num_rows * num_cols):\n",
    "        fig.delaxes(axs[j])\n",
    "\n",
    "    # Save the full figure for each relu\n",
    "    plt.tight_layout()\n",
    "    plt.savefig(f'heatmaps for average congruency effect of relu {relu} July2023.pdf')\n",
    "    plt.show()"
   ]
  },
  {
   "cell_type": "markdown",
   "id": "88dec819-0576-48e2-940e-e12ed5e19c60",
   "metadata": {},
   "source": [
    "### Lineplot for epoch vs congruency effect (for num units used 200)"
   ]
  },
  {
   "cell_type": "code",
   "execution_count": null,
   "id": "aa0b7da1-4fd9-4853-a563-a33c7c87fe60",
   "metadata": {
    "tags": []
   },
   "outputs": [],
   "source": [
    "# Get unique num_dist values\n",
    "num_dist_values = df['num_dist'].unique()\n",
    "\n",
    "# Define number of rows and columns for subplot\n",
    "num_dist_len = len(num_dist_values)\n",
    "num_cols = 3  # Number of columns in the subplot grid\n",
    "num_rows = int(np.ceil(num_dist_len / num_cols))  # Calculate number of rows needed\n",
    "\n",
    "# Create figure and axes for each num_dist\n",
    "fig, axs = plt.subplots(num_rows, num_cols, figsize=(10*num_cols, 8*num_rows))  # Adjust the figure size\n",
    "\n",
    "# Flatten axs for easy iteration\n",
    "axs = axs.flatten()\n",
    "\n",
    "# Determine the global y-axis limits\n",
    "global_y_min = df['cong_effect'].min()\n",
    "global_y_max = df['cong_effect'].max()\n",
    "\n",
    "# Get the unique 'relu' values and create a color map for them\n",
    "relu_values = df['relu'].unique()\n",
    "\n",
    "# Make sure the length of relu_values does not exceed the number of specified colors\n",
    "assert len(relu_values) <= 4, \"There are more 'relu' values than colors specified\"\n",
    "\n",
    "colors = ['red', 'orange', 'green', 'blue']\n",
    "color_dict = dict(zip(relu_values, colors))\n",
    "\n",
    "for i, num_dist in enumerate(num_dist_values):\n",
    "    df_sub = df[(df['num_dist']==num_dist)&(df['num_units']==200)]\n",
    "\n",
    "    # Create the line plot on specific subplot\n",
    "    sns.lineplot(data=df_sub, x='epoch', y='cong_effect', hue='relu', palette=color_dict, ax=axs[i])\n",
    "    axs[i].set_title(f'Congruency effect for num_dist {num_dist}', fontsize=20)\n",
    "\n",
    "    # Set the same y-axis limit for all subplots\n",
    "    axs[i].set_ylim(global_y_min, global_y_max)\n",
    "\n",
    "    # Set the x-ticks\n",
    "    axs[i].set_xticks(range(0, 91, 10))\n",
    "    \n",
    "    # Set x-axis and y-axis label size\n",
    "    axs[i].tick_params(axis='x', labelsize=16)\n",
    "    axs[i].tick_params(axis='y', labelsize=16)\n",
    "\n",
    "    # Increase legend size\n",
    "    leg = axs[i].legend()\n",
    "    for t in leg.texts:\n",
    "        t.set_fontsize(16)\n",
    "        \n",
    "    # Increase axes label size\n",
    "    axs[i].xaxis.label.set_size(16)\n",
    "    axs[i].yaxis.label.set_size(16)\n",
    "    \n",
    "    axs[i].set_ylabel(\"congruency effect\", fontsize=16)\n",
    "\n",
    "# Remove empty subplots\n",
    "if num_dist_len % num_cols != 0:\n",
    "    for ax in axs[num_dist_len:]:\n",
    "        fig.delaxes(ax)\n",
    "\n",
    "# Set the layout to tight to avoid overlapping\n",
    "plt.tight_layout()\n",
    "plt.show()"
   ]
  },
  {
   "cell_type": "markdown",
   "id": "d59812b1-3284-4f60-ac61-dcd0f311281e",
   "metadata": {},
   "source": [
    "### Lineplot for Relu vs Congruency effect per epoch number distance (a figure per number distance)"
   ]
  },
  {
   "cell_type": "code",
   "execution_count": null,
   "id": "26403f60-9edf-4787-9962-178fafa8c873",
   "metadata": {
    "tags": []
   },
   "outputs": [],
   "source": [
    "# Import necessary libraries\n",
    "import matplotlib.pyplot as plt\n",
    "\n",
    "for nd in np.arange(2,19,2):\n",
    "\n",
    "    # Generate line plot\n",
    "    df_sub = df[(df['num_units']==200) & (df['num_dist']==nd)]\n",
    "    ax = sns.lineplot(data=df_sub, x='relu',y='cong_effect',hue='epoch',err_style='bars', palette='viridis')\n",
    "\n",
    "    # Set x-ticks\n",
    "    ax.set_xticks(range(3,6))\n",
    "\n",
    "    # Draw a red dotted horizontal line at y=0\n",
    "    ax.axhline(0, color='red', linestyle='--')\n",
    "\n",
    "    # Set y-label\n",
    "    ax.set_ylabel('Congruency Effect')\n",
    "\n",
    "    # Move legend outside the figure\n",
    "    box = ax.get_position()\n",
    "    ax.set_position([box.x0, box.y0, box.width * 0.85, box.height]) # shrink figure by 15%\n",
    "    legend = ax.legend(loc='center right', bbox_to_anchor=(1.25, 0.5), ncol=1) \n",
    "\n",
    "    # Set the legend title\n",
    "    legend.set_title('epoch')\n",
    "    ax.set_title(f'number distance:{nd}')\n",
    "    plt.tight_layout()\n",
    "    plt.savefig(f'Lineplot for Relu vs Congruency effect per epoch number distance {num_dist}.pdf')\n",
    "    plt.show()"
   ]
  },
  {
   "cell_type": "markdown",
   "id": "44d383e6-bf7e-4558-895c-d342cd475a1d",
   "metadata": {
    "tags": []
   },
   "source": [
    "### Lineplot for Relu vs Congruency effect per epoch number distance (a subplots)"
   ]
  },
  {
   "cell_type": "code",
   "execution_count": null,
   "id": "9ce1f5ad-d2a7-499b-a74f-20710f038cb6",
   "metadata": {
    "tags": []
   },
   "outputs": [],
   "source": [
    "# Import necessary libraries\n",
    "import matplotlib.pyplot as plt\n",
    "\n",
    "# Define the size and layout of the subplots\n",
    "num_dist_values = np.arange(2,7,2)\n",
    "num_dist_len = len(num_dist_values)\n",
    "num_cols = 3\n",
    "num_rows = int(np.ceil(num_dist_len / num_cols))\n",
    "\n",
    "# Create the figure and axes for the subplots\n",
    "fig, axs = plt.subplots(num_rows, num_cols, figsize=(15, 5))\n",
    "\n",
    "# Flatten the axes for easy iteration\n",
    "axs = axs.flatten()\n",
    "\n",
    "# Get global y-axis limits\n",
    "global_y_min = df['cong_effect'].min()\n",
    "global_y_max = df['cong_effect'].max()\n",
    "\n",
    "lines_labels = []\n",
    "\n",
    "for i, nd in enumerate(num_dist_values):\n",
    "    # Generate line plot\n",
    "    df_sub = df[(df['num_units']==200) & (df['num_dist']==nd)]\n",
    "    ax = sns.lineplot(data=df_sub, x='relu', y='cong_effect', hue='epoch', err_style='bars', palette='viridis', ax=axs[i])\n",
    "\n",
    "    # Set y-axis limits\n",
    "    axs[i].set_ylim(global_y_min, global_y_max)\n",
    "\n",
    "    # Set x-ticks\n",
    "    axs[i].set_xticks(range(2,6))\n",
    "\n",
    "    # Draw a red dotted horizontal line at y=0\n",
    "    axs[i].axhline(0, color='red', linestyle='--')\n",
    "\n",
    "    # Set y-label\n",
    "    axs[i].set_xlabel('ReLu')\n",
    "    axs[i].set_ylabel('Congruency Effect')\n",
    "\n",
    "    # Set subplot title\n",
    "    axs[i].set_title(f'number distance: {nd}')\n",
    "\n",
    "    # Get the Line2D objects from the Axes object\n",
    "    lines, labels = ax.get_legend_handles_labels()\n",
    "    lines_labels.append((lines, labels))\n",
    "\n",
    "    # Remove the legend of each subplot\n",
    "    ax.get_legend().remove()\n",
    "\n",
    "# Remove extra subplots\n",
    "if num_dist_len % num_cols != 0:\n",
    "    for ax in axs[num_dist_len:]:\n",
    "        fig.delaxes(ax)\n",
    "\n",
    "# Adjust layout to avoid overlapping\n",
    "plt.tight_layout()\n",
    "\n",
    "# Create a new legend for the figure using the handles and labels we collected\n",
    "lines, labels = lines_labels[0]  # All subplots have the same legend, so use the first one\n",
    "fig.legend(lines, labels, title='epoch', loc='lower center', ncol=len(lines), bbox_to_anchor=(0.5, -0.1))\n",
    "plt.tight_layout()\n",
    "# Save the figure\n",
    "plt.savefig('Lineplot for Relu vs Congruency effect per epoch for different number distances.pdf',bbox_inches='tight')\n",
    "\n",
    "# Show the figure\n",
    "plt.show()"
   ]
  },
  {
   "cell_type": "markdown",
   "id": "e5dcfd41-65dc-417a-af8a-5a5d291d0b66",
   "metadata": {},
   "source": [
    "## Analysis of how different types of monotonic units (LNLS and LNSS) affect learning"
   ]
  },
  {
   "cell_type": "code",
   "execution_count": null,
   "id": "344dd583-c127-44c6-8fbe-788625d9ec4c",
   "metadata": {
    "tags": []
   },
   "outputs": [],
   "source": [
    "# Define the ranges\n",
    "nets = range(1, 3)\n",
    "relus = range(4, 5)\n",
    "num_units_values = range(200, 201, 200)\n",
    "epochs = range(90, 91, 10)\n",
    "num_dists = range(2, 19, 2)\n",
    "LNSS_prop = np.arange(0,1.1,0.1)\n",
    "\n",
    "\n",
    "# Generate all combinations\n",
    "combinations = product(nets, relus, num_units_values, epochs, LNSS_prop, num_dists)\n",
    "\n",
    "# Convert to a DataFrame\n",
    "df = pd.DataFrame(combinations, columns=['net', 'relu', 'num_units', 'epoch', 'LNSS_prop', 'num_dist'])\n",
    "\n",
    "# Add the 'cong_effect' column\n",
    "df['cong_effect'] = np.nan\n",
    "\n",
    "for index, row in df.iterrows():\n",
    "    net = int(row['net'])\n",
    "    relu = int(row['relu'])\n",
    "    num_units = int(row['num_units'])\n",
    "    epoch = int(row['epoch'])\n",
    "    num_dist = int(row['num_dist'])\n",
    "    LNSS_prop = round(row['LNSS_prop'], 1)\n",
    "    LNLS_prop = round(1-LNSS_prop, 1)\n",
    "    pred_csv = f'csv/svm_results/SVM_prediction_of_He_untrained_net{net}_relu{relu}_epoch{epoch}_{int(100*LNSS_prop)}_percent_LNSS_and_{int(100*LNLS_prop)}_percent_LNLS_units_exp{exp}_July2023.csv'\n",
    "    \n",
    "    test_csv = f'csv/svm_test_set{exp}.csv'\n",
    "    pred_csv = f'csv/svm_results/SVM_prediction_of_He_untrained_net{net}_relu{relu}_epoch{epoch}_{int(100*LNSS_prop)}_percent_LNSS_and_{int(100*LNLS_prop)}_percent_LNLS_units_exp{exp}_July2023.csv'\n",
    "\n",
    "    test = pd.read_csv(test_csv).drop('Unnamed: 0', axis=1)\n",
    "    df_num_sz_dist = get_num_sz_dist(test)\n",
    "    pred = pd.read_csv(pred_csv)['y_pred'].to_numpy()\n",
    "    ans = svm.get_y(pd.read_csv(test_csv).drop('Unnamed: 0', axis=1))  # Assumes that get_y is defined elsewhere\n",
    "\n",
    "    # Check for equality element-wise:\n",
    "    equal_elements = np.equal(pred, ans)\n",
    "    df_num_sz_dist['correctly_predicted'] = equal_elements\n",
    "\n",
    "    df_numdist = df_num_sz_dist[np.abs(df_num_sz_dist['num_dist']) == num_dist]\n",
    "    df_numdist_cong = df_numdist[df_numdist['congruency']==True]\n",
    "    accuracy_cong = np.sum(df_numdist_cong['correctly_predicted'])/len(df_numdist_cong)\n",
    "    df_numdist_incong = df_numdist[df_numdist['congruency']==False]\n",
    "    accuracy_incong = np.sum(df_numdist_incong['correctly_predicted'])/len(df_numdist_incong)\n",
    "    cong_effect = accuracy_cong - accuracy_incong\n",
    "\n",
    "    # Fill df at the appropriate location\n",
    "    df.at[index, 'cong_effect'] = cong_effect"
   ]
  },
  {
   "cell_type": "code",
   "execution_count": null,
   "id": "10864602-ec97-4ecf-96bf-272a2d27f0d1",
   "metadata": {
    "tags": []
   },
   "outputs": [],
   "source": [
    "import matplotlib.pyplot as plt\n",
    "\n",
    "ax = sns.lineplot(data=df, x='LNSS_prop', y='cong_effect', hue='num_dist', palette='tab10')\n",
    "ax.set_xlabel('Proportion of LNSS units', fontsize=14)\n",
    "ax.set_xticks(np.arange(0,1.1,0.2))\n",
    "ax.set_ylabel('Congruency effect', fontsize=14)\n",
    "ax.set_title('Congruency effect by proportion of LNSS units', fontsize=16)\n",
    "plt.axvline(0.5, color='red', linestyle='dotted')  # Adds a vertical dotted line at x=0.5\n",
    "plt.savefig('Congruency effect by proportion of LNSS units.pdf')\n",
    "plt.show()"
   ]
  },
  {
   "cell_type": "code",
   "execution_count": null,
   "id": "54054449-843d-44c2-a517-db7773590f56",
   "metadata": {
    "tags": []
   },
   "outputs": [],
   "source": [
    "df_pdist = pd.read_csv('pdist.csv', index_col=0)"
   ]
  },
  {
   "cell_type": "code",
   "execution_count": null,
   "id": "5701de84-6bcc-45c9-9d01-e0344e460504",
   "metadata": {
    "tags": []
   },
   "outputs": [],
   "source": [
    "# Compute num_dist for each row\n",
    "df_pdist['num_dist'] = abs(df_pdist['num1'] - df_pdist['num2'])\n",
    "\n",
    "# Define congruency\n",
    "df_pdist['is_congruent'] = ((df_pdist['num1'] < df_pdist['num2']) & (df_pdist['sz1'] < df_pdist['sz2'])) | ((df_pdist['num1'] > df_pdist['num2']) & (df_pdist['sz1'] > df_pdist['sz2']))\n",
    "\n",
    "# Empty DataFrame to store the result\n",
    "df_new = pd.DataFrame(columns=['num_dist', 'pdist_congruency_effect'])\n",
    "\n",
    "# Loop over each unique num_dist\n",
    "for num_dist in df_pdist['num_dist'].unique():\n",
    "    df_same_num_dist = df_pdist[df_pdist['num_dist'] == num_dist]\n",
    "\n",
    "    # Mean pdist for congruent and incongruent conditions\n",
    "    mean_pdist_congruent = df_same_num_dist[df_same_num_dist['is_congruent']]['pdist'].mean()\n",
    "    mean_pdist_incongruent = df_same_num_dist[~df_same_num_dist['is_congruent']]['pdist'].mean()\n",
    "\n",
    "    # Compute pdist_congruency_effect\n",
    "    pdist_congruency_effect = mean_pdist_congruent - mean_pdist_incongruent\n",
    "\n",
    "    # Append to the result DataFrame\n",
    "    df_new = pd.concat([df_new, pd.DataFrame([{'num_dist': num_dist, 'pdist_congruency_effect': pdist_congruency_effect}])], ignore_index=True)\n",
    "\n"
   ]
  },
  {
   "cell_type": "markdown",
   "id": "08fc3262-906c-4948-83fd-965ea681eba3",
   "metadata": {},
   "source": [
    "## Euclidean distance in MDS vs accuracy"
   ]
  },
  {
   "cell_type": "code",
   "execution_count": null,
   "id": "bc090e07-a86f-409b-aea8-805eb5e28262",
   "metadata": {
    "tags": []
   },
   "outputs": [],
   "source": [
    "import pandas as pd\n",
    "from scipy.spatial.distance import pdist, squareform\n",
    "from sklearn.manifold import MDS\n",
    "\n",
    "# Initialize an empty list to store the results\n",
    "df_pdist_list = []\n",
    "\n",
    "# Iterate through relu, epoch, and net\n",
    "for relu in range(4,5):\n",
    "    for epoch in range(90,91,90):\n",
    "        for net in range(1,2):\n",
    "            print(f'net{net} relu{relu} epoch{epoch}')\n",
    "            # Store the cosine similarity results for each epoch in a dictionary\n",
    "            cs_dict = stats.cos_similarity(relu=relu, epoch=epoch, nets=range(net, net+1))\n",
    "            \n",
    "            # Perform MDS\n",
    "            mds = MDS(n_components=2, dissimilarity='precomputed', random_state=42)\n",
    "            mds_results = mds.fit_transform(1 - cs_dict)\n",
    "            \n",
    "            # Calculate pairwise distances and convert to square form\n",
    "            dist_matrix = squareform(pdist(mds_results))\n",
    "\n",
    "            # Initialize lists to hold the data\n",
    "            num1_list, num2_list, sz1_list, sz2_list, congruency_list, pdist_list = [], [], [], [], [], []\n",
    "\n",
    "            # Iterate over pairs of points (upper triangular matrix indices)\n",
    "            for i in range(dist_matrix.shape[0]):\n",
    "                for j in range(i+1, dist_matrix.shape[1]):\n",
    "                    # Calculate the corresponding num1, num2, sz1, and sz2 values\n",
    "                    num1 = 2 + (i // 7) * 2\n",
    "                    num2 = 2 + (j // 7) * 2\n",
    "                    sz1 = 7 + (i % 7) \n",
    "                    sz2 = 7 + (j % 7)\n",
    "                    \n",
    "                    # Determine congruency\n",
    "                    if num1 == num2:\n",
    "                        congruency = np.nan\n",
    "                    elif (num1 > num2 and sz1 > sz2) or (num1 < num2 and sz1 < sz2):\n",
    "                        congruency = True\n",
    "                    else:\n",
    "                        congruency = False\n",
    "                    \n",
    "                    # Store the indices, congruency and the distance in the lists\n",
    "                    num1_list.append(num1)\n",
    "                    num2_list.append(num2)\n",
    "                    sz1_list.append(sz1)\n",
    "                    sz2_list.append(sz2)\n",
    "                    congruency_list.append(congruency)\n",
    "                    pdist_list.append(dist_matrix[i, j])\n",
    "\n",
    "            # Create the DataFrame\n",
    "            df_pdist = pd.DataFrame({\n",
    "                'num1': num1_list,\n",
    "                'num2': num2_list,\n",
    "                'sz1': sz1_list,\n",
    "                'sz2': sz2_list,\n",
    "                'relu': relu,\n",
    "                'epoch': epoch,\n",
    "                'net': net,\n",
    "                'congruency': congruency_list,\n",
    "                'pdist': pdist_list,\n",
    "            })\n",
    "            \n",
    "            # Append the DataFrame to the list\n",
    "            df_pdist_list.append(df_pdist)\n",
    "\n",
    "# Concatenate all DataFrames\n",
    "df_final = pd.concat(df_pdist_list, ignore_index=True)\n",
    "\n",
    "print(df_final)"
   ]
  },
  {
   "cell_type": "code",
   "execution_count": null,
   "id": "a600e496-4431-418e-91fe-2e7aea5b106b",
   "metadata": {
    "tags": []
   },
   "outputs": [],
   "source": [
    "num_units=200\n",
    "# Initialize an empty list to store the long format DataFrames\n",
    "long_df_list = []\n",
    "\n",
    "for relu in range(4,5):\n",
    "    for epoch in np.arange(90,91,10):\n",
    "        exp_results = []\n",
    "        for exp in range(10):\n",
    "            test_csv = f'csv/svm_test_set{exp}.csv'\n",
    "            pred_csv = f'csv/svm_results/SVM prediction of He untrained net{net} relu{relu} epoch{epoch} {num_units} nonzero activity units exp{exp} June2023.csv'\n",
    "            exp_results.append(svm.get_svm_matrix(test_csv, pred_csv))\n",
    "\n",
    "            # Convert list of dataframes to 3D numpy array\n",
    "            data_3d = np.array([df.to_numpy() for df in exp_results])\n",
    "\n",
    "            # Compute mean along the first axis (the one representing different dataframes)\n",
    "            with np.errstate(invalid='ignore'):\n",
    "                avg_svm_matrix = np.nanmean(data_3d, axis=0)\n",
    "\n",
    "            # Convert back to DataFrame (if desired)\n",
    "            avg_svm_matrix_df = pd.DataFrame(avg_svm_matrix, index=exp_results[0].index, columns=exp_results[0].columns)\n",
    "\n",
    "            # Melt the DataFrame to long format and add the corresponding relu, epoch and experiment number\n",
    "            df_long = avg_svm_matrix_df.reset_index().melt(id_vars='index', var_name='column', value_name='value')\n",
    "\n",
    "            # Change 'index' and 'column' to 'num1' and 'num2' and map the number from 0 - 9 to 2 to 20 with step size of 2\n",
    "            df_long.rename(columns={'index': 'num1', 'column': 'num2'}, inplace=True)\n",
    "            df_long['num1'] = df_long['num1'].astype(int) * 2 + 2\n",
    "            df_long['num2'] = df_long['num2'].astype(int) * 2 + 2\n",
    "\n",
    "            # Determine if it is congruent or not (upper triangle = True, lower triangle = False)\n",
    "            df_long['congruent'] = df_long['num1'] < df_long['num2']\n",
    "\n",
    "            # Add the relu, epoch and experiment number\n",
    "            df_long['relu'] = relu\n",
    "            df_long['epoch'] = epoch\n",
    "            df_long['exp'] = exp\n",
    "\n",
    "            # Reorder the columns\n",
    "            df_long = df_long[['num1', 'num2', 'congruent', 'relu', 'epoch', 'exp', 'value']]\n",
    "\n",
    "            # Append the long format DataFrame to the list\n",
    "            long_df_list.append(df_long)\n",
    "\n",
    "# Concatenate all the long format DataFrames\n",
    "df_final2 = pd.concat(long_df_list, ignore_index=True)\n",
    "\n",
    "print(df_final2)"
   ]
  },
  {
   "cell_type": "code",
   "execution_count": null,
   "id": "d81443ef-8edb-4e02-bfe5-b4f383b69861",
   "metadata": {
    "tags": []
   },
   "outputs": [],
   "source": [
    "# Reset the index of the DataFrame so that the indices become a column\n",
    "df_reset = df.reset_index()\n",
    "\n",
    "# Melt the DataFrame to long format\n",
    "df_long = df_reset.melt(id_vars='index', var_name='column', value_name='value')\n",
    "\n",
    "# Rename the columns to more meaningful names\n",
    "df_long = df_long.rename(columns={'index': 'axis1', 'column': 'axis2'})"
   ]
  },
  {
   "cell_type": "code",
   "execution_count": null,
   "id": "cd0da53e-04b5-4f11-9248-738d710ce83f",
   "metadata": {
    "tags": []
   },
   "outputs": [],
   "source": [
    "# Group by num1, num2, congruent, relu and epoch, and compute the average of 'value' within each group\n",
    "df_final2_avg = df_final2.groupby(['num1', 'num2', 'congruent', 'relu', 'epoch'])['value'].mean().reset_index()\n",
    "\n",
    "print(df_final2_avg)\n"
   ]
  },
  {
   "cell_type": "code",
   "execution_count": null,
   "id": "ff4d3da0-c817-4363-8e57-a1a518fe5dc9",
   "metadata": {
    "tags": []
   },
   "outputs": [],
   "source": [
    "# First, let's group df_final by 'num1', 'num2', and 'congruency' and compute the average of 'pdist'\n",
    "df_final_avg_pdist = df_final.groupby(['num1', 'num2', 'congruency'])['pdist'].mean().reset_index()\n",
    "\n",
    "# Now, let's group df_final2_avg by 'num1', 'num2', and 'congruent' and compute the average of 'value'\n",
    "df_final2_avg_value = df_final2_avg.groupby(['num1', 'num2', 'congruent'])['value'].mean().reset_index()\n",
    "\n",
    "# Before we merge, we need to make sure that 'congruent' in df_final2_avg_value is named 'congruency' to match df_final_avg_pdist\n",
    "df_final2_avg_value.rename(columns={'congruent': 'congruency'}, inplace=True)\n",
    "\n",
    "# Now we can merge df_final2_avg_value and df_final_avg_pdist\n",
    "df_merged = pd.merge(df_final2_avg_value, df_final_avg_pdist, on=['num1', 'num2', 'congruency'], how='left')\n",
    "\n",
    "print(df_merged)\n",
    "\n"
   ]
  },
  {
   "cell_type": "code",
   "execution_count": null,
   "id": "d7cc0c57-15ed-4cee-bb0d-b77f86e45f92",
   "metadata": {
    "tags": []
   },
   "outputs": [],
   "source": [
    "test_csv = f'csv/svm_test_set{exp}.csv'\n",
    "pred_csv = f'csv/svm_results/SVM prediction of He untrained net{net} relu{relu} epoch{epoch} {num_units} nonzero activity units exp{exp} June2023.csv'\n",
    "test_prob = pd.read_csv(test_csv, index_col=0)\n",
    "test_pred = pd.read_csv(pred_csv, index_col=0)"
   ]
  },
  {
   "cell_type": "code",
   "execution_count": null,
   "id": "0da21c94-b521-4a1b-949c-9604bb961154",
   "metadata": {
    "tags": []
   },
   "outputs": [],
   "source": [
    "# create a column \"answer\" based on the condition\n",
    "test_prob['answer'] = test_prob.apply(lambda row: 1 if row['num1'] > row['num2'] else -1, axis=1)\n",
    "\n",
    "# iterate over each row in df_final\n",
    "for i, row in df_final.iterrows():\n",
    "    # find the matching rows in test_prob\n",
    "    matching_rows = test_prob[(test_prob['num1'] == row['num1']) & (test_prob['num2'] == row['num2']) & \n",
    "                              (test_prob['sz1'] == row['sz1']) & (test_prob['sz2'] == row['sz2'])]\n",
    "\n",
    "    # get the indices of the matching rows\n",
    "    indices = matching_rows.index.tolist()\n",
    "\n",
    "    # use these indices to slice out of test_pred\n",
    "    preds = test_pred.loc[indices]\n",
    "\n",
    "    # count the number of correct predictions\n",
    "    correct_predictions = (preds['0'] == matching_rows['answer']).sum()\n",
    "\n",
    "    # calculate the accuracy\n",
    "    accuracy = correct_predictions / len(matching_rows) if len(matching_rows) > 0 else np.nan\n",
    "\n",
    "    # add the accuracy to the corresponding row in df_final\n",
    "    df_final.loc[i, 'accuracy'] = accuracy\n",
    "    \n",
    "df_final['num_dist'] = (df_final['num1'] - df_final['num2']).abs()\n",
    "\n",
    "\n",
    "print(df_final)\n"
   ]
  },
  {
   "cell_type": "code",
   "execution_count": null,
   "id": "620e3b51-ec04-4682-9d2a-4cac189fd1ed",
   "metadata": {
    "tags": []
   },
   "outputs": [],
   "source": [
    "sns.lineplot(data = df_final[df_final['num_dist']==2], x='pdist', y='accuracy')"
   ]
  },
  {
   "cell_type": "code",
   "execution_count": null,
   "id": "ccbd1e1e-50d3-48f1-a95d-ed1d8b4945fc",
   "metadata": {},
   "outputs": [],
   "source": []
  }
 ],
 "metadata": {
  "kernelspec": {
   "display_name": "Python 3 (ipykernel)",
   "language": "python",
   "name": "python3"
  },
  "language_info": {
   "codemirror_mode": {
    "name": "ipython",
    "version": 3
   },
   "file_extension": ".py",
   "mimetype": "text/x-python",
   "name": "python",
   "nbconvert_exporter": "python",
   "pygments_lexer": "ipython3",
   "version": "3.8.12"
  }
 },
 "nbformat": 4,
 "nbformat_minor": 5
}
