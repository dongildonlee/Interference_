{
 "cells": [
  {
   "cell_type": "code",
   "execution_count": 1,
   "id": "ae0bbb32-18be-40d0-be32-15b7c5026cf5",
   "metadata": {
    "tags": []
   },
   "outputs": [],
   "source": [
    "import os\n",
    "import sys\n",
    "import numpy as np\n",
    "import pandas as pd\n",
    "import pickle\n",
    "import random\n",
    "import time\n",
    "from joblib import Parallel, delayed\n",
    "sys.path.append('../')\n",
    "\n",
    "from packages import actv_analysis, svm\n",
    "import seaborn as sns"
   ]
  },
  {
   "cell_type": "code",
   "execution_count": 2,
   "id": "2ad82d08-46b3-41c6-a77c-9981a360f310",
   "metadata": {
    "tags": []
   },
   "outputs": [
    {
     "ename": "NameError",
     "evalue": "name '__file__' is not defined",
     "output_type": "error",
     "traceback": [
      "\u001b[0;31m---------------------------------------------------------------------------\u001b[0m",
      "\u001b[0;31mNameError\u001b[0m                                 Traceback (most recent call last)",
      "Cell \u001b[0;32mIn[2], line 6\u001b[0m\n\u001b[1;32m      4\u001b[0m \u001b[38;5;66;03m# Go two directories up\u001b[39;00m\n\u001b[1;32m      5\u001b[0m up_two_dir \u001b[38;5;241m=\u001b[39m os\u001b[38;5;241m.\u001b[39mpath\u001b[38;5;241m.\u001b[39mdirname(current_dir)\n\u001b[0;32m----> 6\u001b[0m twoup \u001b[38;5;241m=\u001b[39m os\u001b[38;5;241m.\u001b[39mpath\u001b[38;5;241m.\u001b[39mdirname(os\u001b[38;5;241m.\u001b[39mpath\u001b[38;5;241m.\u001b[39mdirname(os\u001b[38;5;241m.\u001b[39mpath\u001b[38;5;241m.\u001b[39mrealpath(\u001b[38;5;18;43m__file__\u001b[39;49m)))\n\u001b[1;32m      8\u001b[0m \u001b[38;5;28mprint\u001b[39m(up_two_dir)\n",
      "\u001b[0;31mNameError\u001b[0m: name '__file__' is not defined"
     ]
    }
   ],
   "source": [
    "# Get the current directory\n",
    "current_dir = os.getcwd()\n",
    "\n",
    "# Go two directories up\n",
    "up_two_dir = os.path.dirname(current_dir)\n",
    "twoup = os.path.dirname(os.path.dirname(os.path.realpath(__file__)))\n",
    "\n",
    "print(up_two_dir)"
   ]
  },
  {
   "cell_type": "code",
   "execution_count": 61,
   "id": "33896136-8f48-4b03-a496-f89e3330a192",
   "metadata": {
    "tags": []
   },
   "outputs": [],
   "source": [
    "def get_random_units(units, num_units, percentage_true=1, **quadrants):\n",
    "    fit = pd.DataFrame(np.array([[unit.coeff1, unit.coeff2, unit.r_sqrd] for unit in units]), \n",
    "                      columns=['coeff1', 'coeff2', 'rsqrd'])\n",
    "\n",
    "    # Define quadrant conditions\n",
    "    conditions = {\n",
    "        'Q1': (fit['coeff1'] > 0) & (fit['coeff2'] > 0) & (fit['rsqrd'] > 0.1),\n",
    "        'Q2': (fit['coeff1'] < 0) & (fit['coeff2'] > 0) & (fit['rsqrd'] > 0.1),\n",
    "        'Q3': (fit['coeff1'] < 0) & (fit['coeff2'] < 0) & (fit['rsqrd'] > 0.1),\n",
    "        'Q4': (fit['coeff1'] > 0) & (fit['coeff2'] < 0) & (fit['rsqrd'] > 0.1),\n",
    "    }\n",
    "\n",
    "    # Filter indices based on specified quadrants\n",
    "    selected_indices_true = [index for quad, cond in conditions.items() if quadrants.get(quad, False) for index in fit[cond].index]\n",
    "    selected_indices_false = [index for quad, cond in conditions.items() if not quadrants.get(quad, False) for index in fit[cond].index]\n",
    "\n",
    "    # Determine number of units to sample from each group\n",
    "    num_true = int(num_units * percentage_true)\n",
    "    num_false = num_units - num_true\n",
    "    \n",
    "    # Check if there are enough units to sample from\n",
    "    if num_true > len(selected_indices_true):\n",
    "        print(f\"Not enough true units to sample from. Required: {num_true}, Available: {len(selected_indices_true)}\")\n",
    "        return None\n",
    "\n",
    "    if num_false > len(selected_indices_false):\n",
    "        print(f\"Not enough false units to sample from. Required: {num_false}, Available: {len(selected_indices_false)}\")\n",
    "        return None\n",
    "\n",
    "    # Randomly sample indices\n",
    "    random_indices_true = np.random.choice(selected_indices_true, num_true, replace=False) if num_true > 0 else []\n",
    "    random_indices_false = np.random.choice(selected_indices_false, num_false, replace=False) if num_false > 0 else []\n",
    "\n",
    "    # Combine and return indices\n",
    "    random_indices = np.concatenate([random_indices_true, random_indices_false])\n",
    "    return random_indices"
   ]
  },
  {
   "cell_type": "code",
   "execution_count": null,
   "id": "3e2cfc18-7f8f-41ce-8b09-0011d8a682c1",
   "metadata": {
    "tags": []
   },
   "outputs": [
    {
     "name": "stdout",
     "output_type": "stream",
     "text": [
      "Loading ../../pkl/4to20/network1_Relu4_epoch90_4to20.pkl..\n",
      "Loading actv ..\n",
      "--- 98.74063324928284 seconds ---\n",
      "Took 28.392235040664673 seconds to run.\n",
      "Took 23.44704008102417 seconds to run.\n",
      "Took 23.6876380443573 seconds to run.\n",
      "Took 24.25349998474121 seconds to run.\n",
      "Took 26.00849413871765 seconds to run.\n",
      "Took 27.08458709716797 seconds to run.\n",
      "Took 23.957942008972168 seconds to run.\n",
      "Took 24.854204893112183 seconds to run.\n",
      "Took 27.654016971588135 seconds to run.\n",
      "Took 26.257867097854614 seconds to run.\n",
      "Took 25.373761892318726 seconds to run.\n",
      "Loading ../../pkl/4to20/network2_Relu4_epoch90_4to20.pkl..\n",
      "Loading actv ..\n",
      "--- 105.27097082138062 seconds ---\n",
      "Took 25.062368154525757 seconds to run.\n",
      "Took 23.622416019439697 seconds to run.\n",
      "Took 25.710893154144287 seconds to run.\n",
      "Took 23.67160201072693 seconds to run.\n",
      "Took 23.2490291595459 seconds to run.\n",
      "Took 23.99746584892273 seconds to run.\n",
      "Took 22.99226188659668 seconds to run.\n",
      "Took 23.038208961486816 seconds to run.\n",
      "Took 25.69395399093628 seconds to run.\n",
      "Took 23.97563910484314 seconds to run.\n",
      "Took 24.12804102897644 seconds to run.\n",
      "Loading ../../pkl/4to20/network1_Relu4_epoch0_4to20.pkl..\n",
      "Loading actv ..\n",
      "--- 115.58846282958984 seconds ---\n"
     ]
    }
   ],
   "source": [
    "# Parameters\n",
    "relus = list(range(4, 5))\n",
    "epochs = np.arange(0, 91, 10)\n",
    "num_units = 200\n",
    "layer_numunits = {'relu1':290400, 'relu2':186624, 'relu3':64896, 'relu4':64896, 'relu5':43264}\n",
    "\n",
    "dir_path = os.path.dirname(os.path.realpath('..'))\n",
    "save_to_folder = f\"{dir_path}/dataframes/SVM_predictions\"\n",
    "\n",
    "exps = range(10)\n",
    "percentage_true_values = np.arange(0, 1.1, 0.1)\n",
    "\n",
    "for relu in relus:\n",
    "    for epoch in [90,0]:\n",
    "        for net in range(1, 3):\n",
    "            \n",
    "            pkl_filename = f'../../pkl/4to20/network{net}_Relu{relu}_epoch{epoch}_4to20.pkl'\n",
    "            print(f'Loading {pkl_filename}..')\n",
    "            with open(pkl_filename, 'rb') as f:\n",
    "                units = pickle.load(f)\n",
    "                    \n",
    "            print(f'Loading actv ..')\n",
    "            actv_net = actv_analysis.get_actv_net(net=net, relu=relu, epoch=epoch)\n",
    "            actv = actv_net.reshape(layer_numunits[f'relu{relu}'], 10, 10, 500)\n",
    "                    \n",
    "            for percentage_true in percentage_true_values:\n",
    "\n",
    "                random_units = get_random_units(units, num_units=num_units, percentage_true=percentage_true, Q1=True, Q3=True).astype(int)\n",
    "\n",
    "                start_time = time.time()\n",
    "                y_preds = Parallel(n_jobs=-1)(delayed(svm.SVM_fit)(units=random_units, actv=actv, exp=exp) for exp in exps)\n",
    "                end_time = time.time()\n",
    "                print(f\"Took {end_time - start_time} seconds to run.\")\n",
    "\n",
    "                for exp in exps:\n",
    "                    filename = f'../../csv/SVM_prediction_He_untrained_net{net}_relu{relu}_epoch{epoch}_{num_units}_units_Q1_or_Q3_{percentage_true*100:.0f}percent_01rsqrd_exp{exp}_Oct2023.csv'\n",
    "                    pd.Series(y_preds[exp]).to_csv(filename, index=True)\n",
    "                    #print(f'Saved results to {filename}')"
   ]
  },
  {
   "cell_type": "code",
   "execution_count": 43,
   "id": "ba4947e1-df5e-480b-a536-b48ce5228332",
   "metadata": {
    "tags": []
   },
   "outputs": [
    {
     "data": {
      "text/plain": [
       "array([30050,  4454,  3729, 44131, 16836, 10054, 61330, 29994, 61329,\n",
       "        9457,  3738, 29948,  3803, 10105, 52957, 23992, 24960,  3734,\n",
       "       30675,  3828, 30007, 27766,  2812, 14106,  4432,  2846,  2726,\n",
       "       30053, 61326,  2766, 14095, 44172, 16771, 64163, 31330, 25168,\n",
       "        3766, 14067, 14045, 14047, 31379, 16849, 16739,  3834,  3818,\n",
       "       64149, 16734, 23870, 14072, 12885, 61313, 61328, 13559, 41365,\n",
       "        3730, 12977,  4467,  2775,  9462,  4475,  2768,  2715, 44263,\n",
       "       29959, 26339, 44119, 16797, 56300,  3798, 31317, 31395, 10091,\n",
       "       12978,  2755, 58301,  2781, 28873, 61205, 12982,  3832, 36037,\n",
       "       20295, 31415, 16811, 21940, 31393, 52965, 21920,  3740, 37322,\n",
       "       58294, 16865,  2859,  2798, 10035, 23896, 23922, 21830,  3752,\n",
       "        3855,  4449, 56339, 14122, 14060, 14062,  3742, 52956,  2801,\n",
       "       44130,  3781, 30784, 16746, 29983, 16810, 12989, 37335, 53581,\n",
       "       16855, 36050, 16789,  4502, 61296, 29970, 12995, 28847, 29987,\n",
       "        2858, 23949, 14046, 14145, 31314, 30862,  3780, 61284, 16776,\n",
       "       16747, 31354,  2820,  3792,  3735, 29975, 44120, 12937, 10040,\n",
       "       16818, 14048, 21938,  2728, 16826, 14111, 23936,  2750, 31327,\n",
       "       58304, 31408, 58302, 24802, 14160,  3776,  4396,  3764,  3853,\n",
       "       24921, 14146, 30033, 14083,  3870, 23846, 12962, 56359, 44185,\n",
       "       14056,  9982, 20303, 37296, 21835, 14110,  2772,  4436,  3872,\n",
       "       23865, 30733, 12994, 12925, 16857, 58298,  3768,  3748, 21937,\n",
       "       23848,  2819, 23993,  3727,  3754, 61244,  3763, 64135, 61218,\n",
       "       44695, 51377])"
      ]
     },
     "execution_count": 43,
     "metadata": {},
     "output_type": "execute_result"
    }
   ],
   "source": [
    "random_units.astype(int)"
   ]
  },
  {
   "cell_type": "code",
   "execution_count": 54,
   "id": "db3f4db8-ce4b-4e4c-be9e-6a4e8de00d86",
   "metadata": {
    "tags": []
   },
   "outputs": [],
   "source": [
    "net=1; relu=4; epoch=90\n",
    "num_units=200\n",
    "percentage_true=0.7\n",
    "df_acc = pd.DataFrame(columns=['net','relu','epoch','percentage','exp','cong_acc','incong_acc'])\n",
    "\n",
    "for net in range(1,11):\n",
    "    for epoch in [0,90]:\n",
    "        for percentage_true in np.arange(0,1.1,0.1):\n",
    "            for exp in range(0,10):\n",
    "    \n",
    "                test_csv = f'../../csv/svm_test_set{exp}_4to20.csv'\n",
    "                pred_csv = f'../../csv/SVM_prediction_He_untrained_net{net}_relu{relu}_epoch{epoch}_{num_units}_units_Q1_or_Q3_{percentage_true*100:.0f}percent_exp{exp}_Oct2023.csv'\n",
    "                test_exp = pd.read_csv(test_csv, index_col=0)\n",
    "                num_dists=np.abs(test_exp['num1']-test_exp['num2'])*2\n",
    "                correct_answers = svm.get_y(test_exp).to_numpy()\n",
    "                svm_answers = pd.read_csv(pred_csv)['0'].to_numpy()\n",
    "                is_equal = np.equal(correct_answers, svm_answers)\n",
    "\n",
    "                cong = test_exp.index[((test_exp['num1']<test_exp['num2'])&(test_exp['sz1']<test_exp['sz2']))|((test_exp['num1']>test_exp['num2'])&(test_exp['sz1']>test_exp['sz2']))]\n",
    "                incong = np.setdiff1d(range(len(test_exp)), cong)\n",
    "                incong_acc = np.sum(is_equal[incong])/len(is_equal[incong])\n",
    "                cong_acc = np.sum(is_equal[cong])/len(is_equal[cong])\n",
    "                info = [net,relu,epoch,percentage_true,exp,cong_acc,incong_acc]\n",
    "                # Append info to df_acc\n",
    "                df_acc = pd.concat([df_acc, pd.DataFrame([info], columns=df_acc.columns)], ignore_index=True)\n",
    "                \n",
    "df_acc['complement_percentage'] = 1 - df_acc['percentage']\n",
    "\n",
    "# Save df_acc to a CSV file if needed\n",
    "df_acc.to_csv('Quadrants_svm_results.csv', index=False)"
   ]
  },
  {
   "cell_type": "code",
   "execution_count": 57,
   "id": "c6df75ec-48ef-4e57-8651-c49fdb2cbe96",
   "metadata": {
    "tags": []
   },
   "outputs": [
    {
     "data": {
      "text/html": [
       "<div>\n",
       "<style scoped>\n",
       "    .dataframe tbody tr th:only-of-type {\n",
       "        vertical-align: middle;\n",
       "    }\n",
       "\n",
       "    .dataframe tbody tr th {\n",
       "        vertical-align: top;\n",
       "    }\n",
       "\n",
       "    .dataframe thead th {\n",
       "        text-align: right;\n",
       "    }\n",
       "</style>\n",
       "<table border=\"1\" class=\"dataframe\">\n",
       "  <thead>\n",
       "    <tr style=\"text-align: right;\">\n",
       "      <th></th>\n",
       "      <th>net</th>\n",
       "      <th>relu</th>\n",
       "      <th>epoch</th>\n",
       "      <th>percentage</th>\n",
       "      <th>exp</th>\n",
       "      <th>cong_acc</th>\n",
       "      <th>incong_acc</th>\n",
       "      <th>complement_percentage</th>\n",
       "    </tr>\n",
       "  </thead>\n",
       "  <tbody>\n",
       "    <tr>\n",
       "      <th>0</th>\n",
       "      <td>1</td>\n",
       "      <td>4</td>\n",
       "      <td>0</td>\n",
       "      <td>0.0</td>\n",
       "      <td>0</td>\n",
       "      <td>0.967758</td>\n",
       "      <td>0.938740</td>\n",
       "      <td>1.0</td>\n",
       "    </tr>\n",
       "    <tr>\n",
       "      <th>1</th>\n",
       "      <td>1</td>\n",
       "      <td>4</td>\n",
       "      <td>0</td>\n",
       "      <td>0.0</td>\n",
       "      <td>1</td>\n",
       "      <td>0.970238</td>\n",
       "      <td>0.940600</td>\n",
       "      <td>1.0</td>\n",
       "    </tr>\n",
       "    <tr>\n",
       "      <th>2</th>\n",
       "      <td>1</td>\n",
       "      <td>4</td>\n",
       "      <td>0</td>\n",
       "      <td>0.0</td>\n",
       "      <td>2</td>\n",
       "      <td>0.970569</td>\n",
       "      <td>0.938616</td>\n",
       "      <td>1.0</td>\n",
       "    </tr>\n",
       "    <tr>\n",
       "      <th>3</th>\n",
       "      <td>1</td>\n",
       "      <td>4</td>\n",
       "      <td>0</td>\n",
       "      <td>0.0</td>\n",
       "      <td>3</td>\n",
       "      <td>0.968089</td>\n",
       "      <td>0.938864</td>\n",
       "      <td>1.0</td>\n",
       "    </tr>\n",
       "    <tr>\n",
       "      <th>4</th>\n",
       "      <td>1</td>\n",
       "      <td>4</td>\n",
       "      <td>0</td>\n",
       "      <td>0.0</td>\n",
       "      <td>4</td>\n",
       "      <td>0.969907</td>\n",
       "      <td>0.943204</td>\n",
       "      <td>1.0</td>\n",
       "    </tr>\n",
       "    <tr>\n",
       "      <th>...</th>\n",
       "      <td>...</td>\n",
       "      <td>...</td>\n",
       "      <td>...</td>\n",
       "      <td>...</td>\n",
       "      <td>...</td>\n",
       "      <td>...</td>\n",
       "      <td>...</td>\n",
       "      <td>...</td>\n",
       "    </tr>\n",
       "    <tr>\n",
       "      <th>2195</th>\n",
       "      <td>10</td>\n",
       "      <td>4</td>\n",
       "      <td>90</td>\n",
       "      <td>1.0</td>\n",
       "      <td>5</td>\n",
       "      <td>0.972222</td>\n",
       "      <td>0.956349</td>\n",
       "      <td>0.0</td>\n",
       "    </tr>\n",
       "    <tr>\n",
       "      <th>2196</th>\n",
       "      <td>10</td>\n",
       "      <td>4</td>\n",
       "      <td>90</td>\n",
       "      <td>1.0</td>\n",
       "      <td>6</td>\n",
       "      <td>0.971892</td>\n",
       "      <td>0.959697</td>\n",
       "      <td>0.0</td>\n",
       "    </tr>\n",
       "    <tr>\n",
       "      <th>2197</th>\n",
       "      <td>10</td>\n",
       "      <td>4</td>\n",
       "      <td>90</td>\n",
       "      <td>1.0</td>\n",
       "      <td>7</td>\n",
       "      <td>0.973049</td>\n",
       "      <td>0.962798</td>\n",
       "      <td>0.0</td>\n",
       "    </tr>\n",
       "    <tr>\n",
       "      <th>2198</th>\n",
       "      <td>10</td>\n",
       "      <td>4</td>\n",
       "      <td>90</td>\n",
       "      <td>1.0</td>\n",
       "      <td>8</td>\n",
       "      <td>0.972388</td>\n",
       "      <td>0.960441</td>\n",
       "      <td>0.0</td>\n",
       "    </tr>\n",
       "    <tr>\n",
       "      <th>2199</th>\n",
       "      <td>10</td>\n",
       "      <td>4</td>\n",
       "      <td>90</td>\n",
       "      <td>1.0</td>\n",
       "      <td>9</td>\n",
       "      <td>0.975033</td>\n",
       "      <td>0.958953</td>\n",
       "      <td>0.0</td>\n",
       "    </tr>\n",
       "  </tbody>\n",
       "</table>\n",
       "<p>2200 rows × 8 columns</p>\n",
       "</div>"
      ],
      "text/plain": [
       "     net relu epoch  percentage exp  cong_acc  incong_acc  \\\n",
       "0      1    4     0         0.0   0  0.967758    0.938740   \n",
       "1      1    4     0         0.0   1  0.970238    0.940600   \n",
       "2      1    4     0         0.0   2  0.970569    0.938616   \n",
       "3      1    4     0         0.0   3  0.968089    0.938864   \n",
       "4      1    4     0         0.0   4  0.969907    0.943204   \n",
       "...   ..  ...   ...         ...  ..       ...         ...   \n",
       "2195  10    4    90         1.0   5  0.972222    0.956349   \n",
       "2196  10    4    90         1.0   6  0.971892    0.959697   \n",
       "2197  10    4    90         1.0   7  0.973049    0.962798   \n",
       "2198  10    4    90         1.0   8  0.972388    0.960441   \n",
       "2199  10    4    90         1.0   9  0.975033    0.958953   \n",
       "\n",
       "      complement_percentage  \n",
       "0                       1.0  \n",
       "1                       1.0  \n",
       "2                       1.0  \n",
       "3                       1.0  \n",
       "4                       1.0  \n",
       "...                     ...  \n",
       "2195                    0.0  \n",
       "2196                    0.0  \n",
       "2197                    0.0  \n",
       "2198                    0.0  \n",
       "2199                    0.0  \n",
       "\n",
       "[2200 rows x 8 columns]"
      ]
     },
     "execution_count": 57,
     "metadata": {},
     "output_type": "execute_result"
    }
   ],
   "source": [
    "df_acc"
   ]
  },
  {
   "cell_type": "code",
   "execution_count": 58,
   "id": "dddf74eb-6cfc-48f5-8ce7-96e8279098ab",
   "metadata": {
    "tags": []
   },
   "outputs": [],
   "source": [
    "df_avg = df_acc.groupby(['net', 'relu', 'epoch', 'percentage', 'complement_percentage'])[['cong_acc', 'incong_acc']].mean().reset_index()"
   ]
  },
  {
   "cell_type": "code",
   "execution_count": 60,
   "id": "6b54a85c-5c74-4b78-8fff-d66873397328",
   "metadata": {
    "tags": []
   },
   "outputs": [
    {
     "data": {
      "image/png": "[encoded data removed]",
      "text/plain": [
       "<Figure size 1000x600 with 1 Axes>"
      ]
     },
     "metadata": {},
     "output_type": "display_data"
    }
   ],
   "source": [
    "import seaborn as sns\n",
    "import matplotlib.pyplot as plt\n",
    "\n",
    "# Filter the DataFrame to include only rows where epoch is 0\n",
    "df_epoch0 = df_avg[df_avg['epoch'] == 90]\n",
    "\n",
    "# Set the aesthetic style of the plots\n",
    "sns.set_style(\"whitegrid\")\n",
    "\n",
    "# Initialize the matplotlib figure\n",
    "plt.figure(figsize=(10, 6))\n",
    "\n",
    "# Create the line plot for incong_acc\n",
    "sns.lineplot(x='complement_percentage', y='incong_acc', data=df_epoch0, label='Incongruent Accuracy')\n",
    "\n",
    "# Create the line plot for cong_acc\n",
    "sns.lineplot(x='complement_percentage', y='cong_acc', data=df_epoch0, label='Congruent Accuracy')\n",
    "\n",
    "# Customize the plot\n",
    "plt.title('Accuracy vs. Percentage for Epoch 0')\n",
    "plt.xlabel('Percentage of True Quadrants')\n",
    "plt.ylabel('Accuracy')\n",
    "plt.legend()\n",
    "plt.show()\n"
   ]
  },
  {
   "cell_type": "code",
   "execution_count": 5,
   "id": "3dc9d54e-63da-49b2-b27a-bc90f7749d04",
   "metadata": {
    "tags": []
   },
   "outputs": [
    {
     "ename": "NameError",
     "evalue": "name 'random_units' is not defined",
     "output_type": "error",
     "traceback": [
      "\u001b[0;31m---------------------------------------------------------------------------\u001b[0m",
      "\u001b[0;31mNameError\u001b[0m                                 Traceback (most recent call last)",
      "Cell \u001b[0;32mIn[5], line 1\u001b[0m\n\u001b[0;32m----> 1\u001b[0m \u001b[43mrandom_units\u001b[49m\n",
      "\u001b[0;31mNameError\u001b[0m: name 'random_units' is not defined"
     ]
    }
   ],
   "source": [
    "random_units"
   ]
  },
  {
   "cell_type": "code",
   "execution_count": 35,
   "id": "eb83e1cc-bcb8-4c15-b67c-33a6ca21b01e",
   "metadata": {
    "tags": []
   },
   "outputs": [],
   "source": [
    "# Assume units, num_units, and percentage_true are already defined\n",
    "# Define your quadrants conditions here\n",
    "quadrants = {'Q1': False, 'Q2': True, 'Q3': False, 'Q4': True}\n",
    "\n",
    "fit = pd.DataFrame(np.array([[units[i].coeff1, units[i].coeff2, units[i].r_sqrd] \n",
    "                              for i in range(len(units))]), columns=['coeff1','coeff2','rsqrd'])\n",
    "\n",
    "# Define quadrant conditions\n",
    "conditions = {\n",
    "    'Q1': (fit['coeff1'] > 0) & (fit['coeff2'] > 0) & (fit['rsqrd'] > 0.9),\n",
    "    'Q2': (fit['coeff1'] < 0) & (fit['coeff2'] > 0) & (fit['rsqrd'] > 0.9),\n",
    "    'Q3': (fit['coeff1'] < 0) & (fit['coeff2'] < 0) & (fit['rsqrd'] > 0.9),\n",
    "    'Q4': (fit['coeff1'] > 0) & (fit['coeff2'] < 0) & (fit['rsqrd'] > 0.9),\n",
    "}\n",
    "\n",
    "# Filter indices based on specified quadrants\n",
    "selected_indices_true = [index for quad, cond in conditions.items() if quadrants.get(quad, False) for index in fit[cond].index]\n",
    "selected_indices_false = [index for quad, cond in conditions.items() if not quadrants.get(quad, False) for index in fit[cond].index]\n",
    "\n",
    "# Determine number of units to sample from each group\n",
    "num_true = int(num_units * percentage_true)\n",
    "num_false = num_units - num_true\n",
    "\n",
    "# Check if there are enough units to sample from\n",
    "if num_true > len(selected_indices_true):\n",
    "    print(f\"Not enough true units to sample from. Required: {num_true}, Available: {len(selected_indices_true)}\")\n",
    "\n",
    "if num_false > len(selected_indices_false):\n",
    "    print(f\"Not enough false units to sample from. Required: {num_false}, Available: {len(selected_indices_false)}\")\n",
    "\n",
    "# Randomly sample indices\n",
    "random_indices_true = np.random.choice(selected_indices_true, num_true, replace=False) if num_true > 0 else []\n",
    "random_indices_false = np.random.choice(selected_indices_false, num_false, replace=False) if num_false > 0 else []\n",
    "\n",
    "# Combine indices\n",
    "random_indices = np.concatenate([random_indices_true, random_indices_false])"
   ]
  },
  {
   "cell_type": "code",
   "execution_count": 37,
   "id": "13d934a7-35e8-4405-9909-6ad30d3c9f4e",
   "metadata": {
    "tags": []
   },
   "outputs": [
    {
     "data": {
      "text/plain": [
       "1813"
      ]
     },
     "execution_count": 37,
     "metadata": {},
     "output_type": "execute_result"
    }
   ],
   "source": [
    "len(selected_indices_false)"
   ]
  },
  {
   "cell_type": "code",
   "execution_count": null,
   "id": "82ffe775-d1b2-48f4-a307-8556c03891b4",
   "metadata": {},
   "outputs": [],
   "source": []
  }
 ],
 "metadata": {
  "kernelspec": {
   "display_name": "Python 3 (ipykernel)",
   "language": "python",
   "name": "python3"
  },
  "language_info": {
   "codemirror_mode": {
    "name": "ipython",
    "version": 3
   },
   "file_extension": ".py",
   "mimetype": "text/x-python",
   "name": "python",
   "nbconvert_exporter": "python",
   "pygments_lexer": "ipython3",
   "version": "3.8.12"
  }
 },
 "nbformat": 4,
 "nbformat_minor": 5
}
