{
 "cells": [
  {
   "cell_type": "code",
   "execution_count": 3,
   "id": "ae0bbb32-18be-40d0-be32-15b7c5026cf5",
   "metadata": {
    "tags": []
   },
   "outputs": [],
   "source": [
    "import os\n",
    "import sys\n",
    "import numpy as np\n",
    "import pandas as pd\n",
    "import pickle\n",
    "import random\n",
    "import time\n",
    "from joblib import Parallel, delayed\n",
    "sys.path.append('../')\n",
    "\n",
    "from packages import actv_analysis, svm\n",
    "import seaborn as sns"
   ]
  },
  {
   "cell_type": "code",
   "execution_count": 2,
   "id": "2ad82d08-46b3-41c6-a77c-9981a360f310",
   "metadata": {
    "tags": []
   },
   "outputs": [
    {
     "ename": "NameError",
     "evalue": "name '__file__' is not defined",
     "output_type": "error",
     "traceback": [
      "\u001b[0;31m---------------------------------------------------------------------------\u001b[0m",
      "\u001b[0;31mNameError\u001b[0m                                 Traceback (most recent call last)",
      "Cell \u001b[0;32mIn[2], line 6\u001b[0m\n\u001b[1;32m      4\u001b[0m \u001b[38;5;66;03m# Go two directories up\u001b[39;00m\n\u001b[1;32m      5\u001b[0m up_two_dir \u001b[38;5;241m=\u001b[39m os\u001b[38;5;241m.\u001b[39mpath\u001b[38;5;241m.\u001b[39mdirname(current_dir)\n\u001b[0;32m----> 6\u001b[0m twoup \u001b[38;5;241m=\u001b[39m os\u001b[38;5;241m.\u001b[39mpath\u001b[38;5;241m.\u001b[39mdirname(os\u001b[38;5;241m.\u001b[39mpath\u001b[38;5;241m.\u001b[39mdirname(os\u001b[38;5;241m.\u001b[39mpath\u001b[38;5;241m.\u001b[39mrealpath(\u001b[38;5;18;43m__file__\u001b[39;49m)))\n\u001b[1;32m      8\u001b[0m \u001b[38;5;28mprint\u001b[39m(up_two_dir)\n",
      "\u001b[0;31mNameError\u001b[0m: name '__file__' is not defined"
     ]
    }
   ],
   "source": [
    "# Get the current directory\n",
    "current_dir = os.getcwd()\n",
    "\n",
    "# Go two directories up\n",
    "up_two_dir = os.path.dirname(current_dir)\n",
    "twoup = os.path.dirname(os.path.dirname(os.path.realpath(__file__)))\n",
    "\n",
    "print(up_two_dir)"
   ]
  },
  {
   "cell_type": "code",
   "execution_count": 10,
   "id": "33896136-8f48-4b03-a496-f89e3330a192",
   "metadata": {
    "tags": []
   },
   "outputs": [],
   "source": [
    "def get_random_units(units, num_units, sort_by, percentage_true=1, **quadrants):\n",
    "    \n",
    "    if sort_by == 'fit':\n",
    "        fit = pd.DataFrame(np.array([[unit.coeff1, unit.coeff2, unit.r_sqrd] for unit in units]), \n",
    "                      columns=['coeff1', 'coeff2', 'rsqrd'])\n",
    "        # Define quadrant conditions\n",
    "        conditions = {\n",
    "            'Q1': (fit['coeff1'] > 0) & (fit['coeff2'] > 0) & (fit['rsqrd'] > 0.1),\n",
    "            'Q2': (fit['coeff1'] < 0) & (fit['coeff2'] > 0) & (fit['rsqrd'] > 0.1),\n",
    "            'Q3': (fit['coeff1'] < 0) & (fit['coeff2'] < 0) & (fit['rsqrd'] > 0.1),\n",
    "            'Q4': (fit['coeff1'] > 0) & (fit['coeff2'] < 0) & (fit['rsqrd'] > 0.1),\n",
    "        }\n",
    "    if sort_by == 'ktau':\n",
    "        fit = pd.DataFrame(np.array([[unit.kendall_stats['averaged_across_sizes']['tau'],\n",
    "                                  unit.kendall_stats['averaged_across_numbers']['tau']] for unit in units]),\n",
    "                       columns=['ktau_num', 'ktau_size'])\n",
    "        \n",
    "        conditions = {\n",
    "            'Q1': (fit['ktau_num'] > 0) & (fit['ktau_size'] > 0),\n",
    "            'Q2': (fit['ktau_num'] < 0) & (fit['ktau_size'] > 0),\n",
    "            'Q3': (fit['ktau_num'] < 0) & (fit['ktau_size'] < 0),\n",
    "            'Q4': (fit['ktau_num'] > 0) & (fit['ktau_size'] < 0),\n",
    "        }\n",
    "\n",
    "    # Filter indices based on specified quadrants\n",
    "    selected_indices_true = [index for quad, cond in conditions.items() if quadrants.get(quad, False) for index in fit[cond].index]\n",
    "    selected_indices_false = [index for quad, cond in conditions.items() if not quadrants.get(quad, False) for index in fit[cond].index]\n",
    "\n",
    "    # Determine number of units to sample from each group\n",
    "    num_true = int(num_units * percentage_true)\n",
    "    num_false = num_units - num_true\n",
    "    \n",
    "    # Check if there are enough units to sample from\n",
    "    if num_true > len(selected_indices_true):\n",
    "        print(f\"Not enough true units to sample from. Required: {num_true}, Available: {len(selected_indices_true)}\")\n",
    "        return None\n",
    "\n",
    "    if num_false > len(selected_indices_false):\n",
    "        print(f\"Not enough false units to sample from. Required: {num_false}, Available: {len(selected_indices_false)}\")\n",
    "        return None\n",
    "\n",
    "    # Randomly sample indices\n",
    "    random_indices_true = np.random.choice(selected_indices_true, num_true, replace=False) if num_true > 0 else []\n",
    "    random_indices_false = np.random.choice(selected_indices_false, num_false, replace=False) if num_false > 0 else []\n",
    "\n",
    "    # Combine and return indices\n",
    "    random_indices = np.concatenate([random_indices_true, random_indices_false])\n",
    "    return random_indices"
   ]
  },
  {
   "cell_type": "code",
   "execution_count": 22,
   "id": "3e2cfc18-7f8f-41ce-8b09-0011d8a682c1",
   "metadata": {
    "tags": []
   },
   "outputs": [
    {
     "name": "stdout",
     "output_type": "stream",
     "text": [
      "Loading ../../pkl/4to20/network8_Relu4_epoch90_4to20.pkl..\n",
      "Loading actv ..\n",
      "--- 97.67441082000732 seconds ---\n",
      "Took 26.193187713623047 seconds to run.\n",
      "Took 23.975268125534058 seconds to run.\n",
      "Took 22.936753034591675 seconds to run.\n",
      "Took 23.225800037384033 seconds to run.\n",
      "Took 23.887094020843506 seconds to run.\n",
      "Took 23.69901394844055 seconds to run.\n",
      "Took 23.892518758773804 seconds to run.\n",
      "Took 24.531195163726807 seconds to run.\n",
      "Took 23.17245888710022 seconds to run.\n",
      "Took 23.377886056900024 seconds to run.\n",
      "Took 23.597764015197754 seconds to run.\n",
      "Loading ../../pkl/4to20/network9_Relu4_epoch90_4to20.pkl..\n",
      "Loading actv ..\n",
      "--- 95.84253096580505 seconds ---\n",
      "Took 26.512481212615967 seconds to run.\n",
      "Took 24.873929977416992 seconds to run.\n",
      "Took 24.320308923721313 seconds to run.\n",
      "Took 23.70267105102539 seconds to run.\n",
      "Took 23.505356073379517 seconds to run.\n",
      "Took 23.570516109466553 seconds to run.\n",
      "Took 23.918851852416992 seconds to run.\n",
      "Took 23.953600883483887 seconds to run.\n",
      "Took 24.41763186454773 seconds to run.\n",
      "Took 24.165744066238403 seconds to run.\n",
      "Took 24.292471885681152 seconds to run.\n",
      "Loading ../../pkl/4to20/network10_Relu4_epoch90_4to20.pkl..\n",
      "Loading actv ..\n",
      "--- 97.19665098190308 seconds ---\n",
      "Took 26.552788972854614 seconds to run.\n",
      "Took 24.536489963531494 seconds to run.\n",
      "Took 24.94174814224243 seconds to run.\n",
      "Took 24.743042945861816 seconds to run.\n",
      "Took 23.84154200553894 seconds to run.\n",
      "Took 24.18425226211548 seconds to run.\n",
      "Took 23.10605525970459 seconds to run.\n",
      "Took 23.41387701034546 seconds to run.\n",
      "Took 23.553307056427002 seconds to run.\n",
      "Took 24.401811361312866 seconds to run.\n",
      "Took 26.674681901931763 seconds to run.\n",
      "Loading ../../pkl/4to20/network8_Relu4_epoch0_4to20.pkl..\n",
      "Loading actv ..\n",
      "--- 108.79406404495239 seconds ---\n",
      "Took 34.31314182281494 seconds to run.\n",
      "Took 27.416079998016357 seconds to run.\n",
      "Took 27.109999895095825 seconds to run.\n",
      "Took 26.93588089942932 seconds to run.\n",
      "Took 28.99166488647461 seconds to run.\n",
      "Took 27.528292655944824 seconds to run.\n",
      "Took 26.09153389930725 seconds to run.\n",
      "Took 26.369927167892456 seconds to run.\n",
      "Took 28.275073051452637 seconds to run.\n",
      "Took 27.918370008468628 seconds to run.\n",
      "Took 27.8941650390625 seconds to run.\n",
      "Loading ../../pkl/4to20/network9_Relu4_epoch0_4to20.pkl..\n",
      "Loading actv ..\n",
      "--- 108.55481505393982 seconds ---\n",
      "Took 32.762091875076294 seconds to run.\n",
      "Took 26.37845492362976 seconds to run.\n",
      "Took 27.95384907722473 seconds to run.\n",
      "Took 26.555323839187622 seconds to run.\n",
      "Took 26.681708812713623 seconds to run.\n",
      "Took 27.958142280578613 seconds to run.\n",
      "Took 26.891624927520752 seconds to run.\n",
      "Took 26.635228872299194 seconds to run.\n",
      "Took 26.73908305168152 seconds to run.\n",
      "Took 28.7986798286438 seconds to run.\n",
      "Took 26.465942859649658 seconds to run.\n",
      "Loading ../../pkl/4to20/network10_Relu4_epoch0_4to20.pkl..\n",
      "Loading actv ..\n",
      "--- 111.62666416168213 seconds ---\n",
      "Took 32.65109586715698 seconds to run.\n",
      "Took 28.83189868927002 seconds to run.\n",
      "Took 26.433470964431763 seconds to run.\n",
      "Took 27.964282035827637 seconds to run.\n",
      "Took 25.353811979293823 seconds to run.\n",
      "Took 27.31401014328003 seconds to run.\n",
      "Took 26.139989137649536 seconds to run.\n",
      "Took 26.647943258285522 seconds to run.\n",
      "Took 27.60637903213501 seconds to run.\n",
      "Took 26.273374319076538 seconds to run.\n",
      "Took 27.75611686706543 seconds to run.\n"
     ]
    }
   ],
   "source": [
    "# Parameters\n",
    "relus = list(range(4, 5))\n",
    "epochs = np.arange(0, 91, 10)\n",
    "num_units = 200\n",
    "layer_numunits = {'relu1':290400, 'relu2':186624, 'relu3':64896, 'relu4':64896, 'relu5':43264}\n",
    "\n",
    "dir_path = os.path.dirname(os.path.realpath('..'))\n",
    "save_to_folder = f\"{dir_path}/dataframes/SVM_predictions\"\n",
    "\n",
    "exps = range(10)\n",
    "percentage_true_values = np.arange(0, 1.1, 0.1)\n",
    "\n",
    "for relu in relus:\n",
    "    for epoch in [90,0]:\n",
    "        for net in range(8, 11):\n",
    "            \n",
    "            pkl_filename = f'../../pkl/4to20/network{net}_Relu{relu}_epoch{epoch}_4to20.pkl'\n",
    "            print(f'Loading {pkl_filename}..')\n",
    "            with open(pkl_filename, 'rb') as f:\n",
    "                units = pickle.load(f)\n",
    "                    \n",
    "            print(f'Loading actv ..')\n",
    "            actv_net = actv_analysis.get_actv_net(net=net, relu=relu, epoch=epoch)\n",
    "            actv = actv_net.reshape(layer_numunits[f'relu{relu}'], 10, 10, 500)\n",
    "                    \n",
    "            for percentage_true in percentage_true_values:\n",
    "\n",
    "                random_units = get_random_units(units, num_units=num_units, sort_by='ktau', percentage_true=percentage_true, Q1=True, Q3=True).astype(int)\n",
    "\n",
    "                start_time = time.time()\n",
    "                y_preds = Parallel(n_jobs=-1)(delayed(svm.SVM_fit)(units=random_units, actv=actv, exp=exp) for exp in exps)\n",
    "                end_time = time.time()\n",
    "                print(f\"Took {end_time - start_time} seconds to run.\")\n",
    "\n",
    "                for exp in exps:\n",
    "                    filename = f'../../csv/SVM_prediction_He_untrained_net{net}_relu{relu}_epoch{epoch}_{num_units}_units_Q1_or_Q3_{percentage_true*100:.0f}percent_sortbyktau_exp{exp}_Oct2023.csv'\n",
    "                    pd.Series(y_preds[exp]).to_csv(filename, index=True)\n",
    "                    #print(f'Saved results to {filename}')"
   ]
  },
  {
   "cell_type": "code",
   "execution_count": 19,
   "id": "db3f4db8-ce4b-4e4c-be9e-6a4e8de00d86",
   "metadata": {
    "tags": []
   },
   "outputs": [],
   "source": [
    "net=1; relu=4; epoch=90\n",
    "num_units=200\n",
    "percentage_true=0.7\n",
    "df_acc = pd.DataFrame(columns=['net','relu','epoch','percentage','exp','cong_acc','incong_acc'])\n",
    "\n",
    "for net in range(1,8):\n",
    "    for epoch in [0,90]:\n",
    "        for percentage_true in np.arange(0,1.1,0.1):\n",
    "            for exp in range(0,10):\n",
    "    \n",
    "                test_csv = f'../../csv/svm_test_set{exp}_4to20.csv'\n",
    "                pred_csv = f'../../csv/SVM_prediction_He_untrained_net{net}_relu{relu}_epoch{epoch}_{num_units}_units_Q1_or_Q3_{percentage_true*100:.0f}percent_sortbyktau_exp{exp}_Oct2023.csv'\n",
    "                test_exp = pd.read_csv(test_csv, index_col=0)\n",
    "                num_dists=np.abs(test_exp['num1']-test_exp['num2'])*2\n",
    "                correct_answers = svm.get_y(test_exp).to_numpy()\n",
    "                svm_answers = pd.read_csv(pred_csv)['0'].to_numpy()\n",
    "                is_equal = np.equal(correct_answers, svm_answers)\n",
    "\n",
    "                cong = test_exp.index[((test_exp['num1']<test_exp['num2'])&(test_exp['sz1']<test_exp['sz2']))|((test_exp['num1']>test_exp['num2'])&(test_exp['sz1']>test_exp['sz2']))]\n",
    "                incong = np.setdiff1d(range(len(test_exp)), cong)\n",
    "                incong_acc = np.sum(is_equal[incong])/len(is_equal[incong])\n",
    "                cong_acc = np.sum(is_equal[cong])/len(is_equal[cong])\n",
    "                info = [net,relu,epoch,percentage_true,exp,cong_acc,incong_acc]\n",
    "                # Append info to df_acc\n",
    "                df_acc = pd.concat([df_acc, pd.DataFrame([info], columns=df_acc.columns)], ignore_index=True)\n",
    "                \n",
    "df_acc['complement_percentage'] = 1 - df_acc['percentage']\n",
    "\n",
    "# Save df_acc to a CSV file if needed\n",
    "df_acc.to_csv('Quadrants_svm_results.csv', index=False)"
   ]
  },
  {
   "cell_type": "code",
   "execution_count": null,
   "id": "b09fb529-8349-4cc4-8a45-8f167deb149b",
   "metadata": {},
   "outputs": [],
   "source": [
    "net=1; relu=4; epoch=10\n",
    "\n",
    "pkl_filename = f'../../pkl/4to20/network{net}_Relu{relu}_epoch{epoch}_4to20.pkl'\n",
    "print(f'Loading {pkl_filename}..')\n",
    "with open(pkl_filename, 'rb') as f:\n",
    "    units = pickle.load(f)"
   ]
  },
  {
   "cell_type": "code",
   "execution_count": 20,
   "id": "dddf74eb-6cfc-48f5-8ce7-96e8279098ab",
   "metadata": {
    "tags": []
   },
   "outputs": [],
   "source": [
    "df_avg = df_acc.groupby(['net', 'relu', 'epoch', 'percentage', 'complement_percentage'])[['cong_acc', 'incong_acc']].mean().reset_index()"
   ]
  },
  {
   "cell_type": "code",
   "execution_count": 21,
   "id": "6b54a85c-5c74-4b78-8fff-d66873397328",
   "metadata": {
    "tags": []
   },
   "outputs": [
    {
     "data": {
      "image/png": "[encoded data removed]",
      "text/plain": [
       "<Figure size 1000x600 with 1 Axes>"
      ]
     },
     "metadata": {},
     "output_type": "display_data"
    }
   ],
   "source": [
    "import seaborn as sns\n",
    "import matplotlib.pyplot as plt\n",
    "\n",
    "# Filter the DataFrame to include only rows where epoch is 0\n",
    "df_epoch0 = df_avg[df_avg['epoch'] == 0]\n",
    "\n",
    "# Set the aesthetic style of the plots\n",
    "sns.set_style(\"whitegrid\")\n",
    "\n",
    "# Initialize the matplotlib figure\n",
    "plt.figure(figsize=(10, 6))\n",
    "\n",
    "# Create the line plot for incong_acc\n",
    "sns.lineplot(x='complement_percentage', y='incong_acc', data=df_epoch0, label='Incongruent Accuracy')\n",
    "\n",
    "# Create the line plot for cong_acc\n",
    "sns.lineplot(x='complement_percentage', y='cong_acc', data=df_epoch0, label='Congruent Accuracy')\n",
    "\n",
    "# Customize the plot\n",
    "plt.title('Accuracy vs. Percentage for Epoch 0')\n",
    "plt.xlabel('Percentage of True Quadrants')\n",
    "plt.ylabel('Accuracy')\n",
    "plt.legend()\n",
    "plt.show()"
   ]
  },
  {
   "cell_type": "code",
   "execution_count": 35,
   "id": "eb83e1cc-bcb8-4c15-b67c-33a6ca21b01e",
   "metadata": {
    "tags": []
   },
   "outputs": [],
   "source": [
    "# Assume units, num_units, and percentage_true are already defined\n",
    "# Define your quadrants conditions here\n",
    "quadrants = {'Q1': False, 'Q2': True, 'Q3': False, 'Q4': True}\n",
    "\n",
    "fit = pd.DataFrame(np.array([[units[i].coeff1, units[i].coeff2, units[i].r_sqrd] \n",
    "                              for i in range(len(units))]), columns=['coeff1','coeff2','rsqrd'])\n",
    "\n",
    "# Define quadrant conditions\n",
    "conditions = {\n",
    "    'Q1': (fit['coeff1'] > 0) & (fit['coeff2'] > 0) & (fit['rsqrd'] > 0.9),\n",
    "    'Q2': (fit['coeff1'] < 0) & (fit['coeff2'] > 0) & (fit['rsqrd'] > 0.9),\n",
    "    'Q3': (fit['coeff1'] < 0) & (fit['coeff2'] < 0) & (fit['rsqrd'] > 0.9),\n",
    "    'Q4': (fit['coeff1'] > 0) & (fit['coeff2'] < 0) & (fit['rsqrd'] > 0.9),\n",
    "}\n",
    "\n",
    "# Filter indices based on specified quadrants\n",
    "selected_indices_true = [index for quad, cond in conditions.items() if quadrants.get(quad, False) for index in fit[cond].index]\n",
    "selected_indices_false = [index for quad, cond in conditions.items() if not quadrants.get(quad, False) for index in fit[cond].index]\n",
    "\n",
    "# Determine number of units to sample from each group\n",
    "num_true = int(num_units * percentage_true)\n",
    "num_false = num_units - num_true\n",
    "\n",
    "# Check if there are enough units to sample from\n",
    "if num_true > len(selected_indices_true):\n",
    "    print(f\"Not enough true units to sample from. Required: {num_true}, Available: {len(selected_indices_true)}\")\n",
    "\n",
    "if num_false > len(selected_indices_false):\n",
    "    print(f\"Not enough false units to sample from. Required: {num_false}, Available: {len(selected_indices_false)}\")\n",
    "\n",
    "# Randomly sample indices\n",
    "random_indices_true = np.random.choice(selected_indices_true, num_true, replace=False) if num_true > 0 else []\n",
    "random_indices_false = np.random.choice(selected_indices_false, num_false, replace=False) if num_false > 0 else []\n",
    "\n",
    "# Combine indices\n",
    "random_indices = np.concatenate([random_indices_true, random_indices_false])"
   ]
  },
  {
   "cell_type": "code",
   "execution_count": 26,
   "id": "82ffe775-d1b2-48f4-a307-8556c03891b4",
   "metadata": {},
   "outputs": [
    {
     "name": "stdout",
     "output_type": "stream",
     "text": [
      "Loading ../../pkl/4to20/network1_Relu4_epoch90_4to20.pkl..\n"
     ]
    }
   ],
   "source": [
    "net=1; relu=4; epoch=90\n",
    "\n",
    "pkl_filename = f'../../pkl/4to20/network{net}_Relu{relu}_epoch{epoch}_4to20.pkl'\n",
    "print(f'Loading {pkl_filename}..')\n",
    "with open(pkl_filename, 'rb') as f:\n",
    "    units = pickle.load(f)"
   ]
  },
  {
   "cell_type": "code",
   "execution_count": 43,
   "id": "68eb8aa7-e0db-45b0-a0d7-9f99344665c4",
   "metadata": {
    "tags": []
   },
   "outputs": [],
   "source": [
    "fit = pd.DataFrame([[units[i].coeff1, units[i].coeff2, units[i].r_sqrd] for i in range(len(units))])\n",
    "Q2 = fit[(fit.iloc[:,0]<0)&(fit.iloc[:,1]>0)&(fit.iloc[:,2]>0.9)].index"
   ]
  },
  {
   "cell_type": "code",
   "execution_count": 42,
   "id": "fbdf2e09-66ac-41f4-aa3b-d1d74c8786fd",
   "metadata": {
    "tags": []
   },
   "outputs": [
    {
     "data": {
      "text/plain": [
       "Int64Index([ 2707,  2708,  2709,  2710,  2711,  2712,  2713,  2714,  2715,\n",
       "             2716,\n",
       "            ...\n",
       "            64135, 64136, 64137, 64146, 64149, 64150, 64162, 64163, 64172,\n",
       "            64363],\n",
       "           dtype='int64', length=283)"
      ]
     },
     "execution_count": 42,
     "metadata": {},
     "output_type": "execute_result"
    }
   ],
   "source": [
    "Q4"
   ]
  },
  {
   "cell_type": "code",
   "execution_count": 47,
   "id": "8815bcd0-4b14-496e-a16e-ca9ca3bd8cce",
   "metadata": {
    "tags": []
   },
   "outputs": [
    {
     "data": {
      "text/plain": [
       "array([False, False, False, False, False, False, False, False, False,\n",
       "       False, False, False, False, False, False, False, False, False,\n",
       "       False, False, False, False, False, False, False, False, False,\n",
       "       False, False, False, False, False, False, False, False, False,\n",
       "       False, False, False, False, False, False, False, False, False,\n",
       "       False, False, False, False, False, False, False, False, False,\n",
       "       False, False, False, False, False, False, False, False, False,\n",
       "       False, False, False, False, False, False, False, False, False,\n",
       "       False, False, False, False, False, False, False, False, False,\n",
       "       False, False, False, False, False, False, False, False, False,\n",
       "       False, False, False, False, False, False, False, False, False,\n",
       "       False, False, False, False, False, False, False, False, False,\n",
       "       False, False, False, False, False, False, False, False, False,\n",
       "       False, False, False, False, False, False, False, False, False,\n",
       "       False, False, False, False, False, False, False, False, False,\n",
       "       False, False, False, False, False, False, False, False, False,\n",
       "       False, False, False, False, False, False, False, False, False,\n",
       "       False, False, False, False, False, False, False, False, False,\n",
       "       False, False, False, False, False, False, False, False, False,\n",
       "       False, False, False, False, False, False, False, False, False,\n",
       "       False, False, False, False, False, False, False, False, False,\n",
       "       False, False, False, False, False, False, False, False, False,\n",
       "       False, False, False, False, False, False, False, False, False,\n",
       "       False, False, False, False, False, False, False, False, False,\n",
       "       False, False, False, False, False, False, False, False, False,\n",
       "       False, False, False, False, False, False, False, False, False,\n",
       "       False, False, False, False, False, False, False, False, False,\n",
       "       False, False, False, False, False, False, False, False, False,\n",
       "       False, False, False, False, False, False, False, False, False,\n",
       "       False, False, False, False, False, False, False, False, False,\n",
       "       False, False, False, False, False, False, False, False, False,\n",
       "       False, False, False, False])"
      ]
     },
     "execution_count": 47,
     "metadata": {},
     "output_type": "execute_result"
    }
   ],
   "source": [
    "Q4==3798"
   ]
  },
  {
   "cell_type": "code",
   "execution_count": null,
   "id": "bb8407fa-fbdc-4803-bd40-b9c2f0d28923",
   "metadata": {},
   "outputs": [],
   "source": []
  }
 ],
 "metadata": {
  "kernelspec": {
   "display_name": "Python 3 (ipykernel)",
   "language": "python",
   "name": "python3"
  },
  "language_info": {
   "codemirror_mode": {
    "name": "ipython",
    "version": 3
   },
   "file_extension": ".py",
   "mimetype": "text/x-python",
   "name": "python",
   "nbconvert_exporter": "python",
   "pygments_lexer": "ipython3",
   "version": "3.8.12"
  }
 },
 "nbformat": 4,
 "nbformat_minor": 5
}
