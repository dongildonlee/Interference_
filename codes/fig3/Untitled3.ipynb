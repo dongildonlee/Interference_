{
 "cells": [
  {
   "cell_type": "code",
   "execution_count": 5,
   "id": "90bd4594-b57c-41cc-a14c-e2beffb43117",
   "metadata": {
    "tags": []
   },
   "outputs": [],
   "source": [
    "import numpy as np\n",
    "import pandas as pd\n",
    "import time\n",
    "import sys\n",
    "import os\n",
    "import h5py\n",
    "from joblib import Parallel, delayed\n",
    "sys.path.append('../')\n",
    "from packages import actv_analysis, svm, load_csv, stats, objects, test_codes\n",
    "import pickle\n",
    "import re\n",
    "import glob\n",
    "import random\n",
    "import seaborn as sns\n",
    "import matplotlib.pyplot as plt\n",
    "import scipy.stats\n",
    "from sklearn.preprocessing import MinMaxScaler"
   ]
  },
  {
   "cell_type": "markdown",
   "id": "61132d23-d300-4c3c-8cd5-286847348792",
   "metadata": {},
   "source": [
    "# Congruent matrix"
   ]
  },
  {
   "cell_type": "code",
   "execution_count": 25,
   "id": "509cb729-c332-4ad9-b50c-c94ec68c0ba7",
   "metadata": {
    "tags": []
   },
   "outputs": [],
   "source": [
    "def congruent_matrix(constant):\n",
    "    # Define the ranges\n",
    "    numbers = np.arange(2, 22, 2)  # 2, 4, 6, ..., 20\n",
    "    sizes = np.arange(3, 14, 1)    # 3, 4, 5, ..., 13\n",
    "\n",
    "    # Calculate the upper bound of the constant\n",
    "    normalized_size_difference = 1 / (sizes.max() - sizes.min())\n",
    "    upper_bound_of_constant = normalized_size_difference / 2\n",
    "    \n",
    "    # Check if the provided constant exceeds the upper bound\n",
    "    if constant >= upper_bound_of_constant:\n",
    "        return \"Error: The provided constant exceeds the upper bound. It should be less than {:.5f}\".format(upper_bound_of_constant)\n",
    "\n",
    "    # Create the matrix\n",
    "    matrix = np.zeros((10, 11))  # The size is set to 10x11 to match the length of numbers and sizes\n",
    "\n",
    "    # Populate the matrix\n",
    "    for i, number in enumerate(numbers):\n",
    "        for j, size in enumerate(sizes):\n",
    "            normalized_number = (number - numbers.min()) / (numbers.max() - numbers.min())\n",
    "            normalized_size = (size - sizes.min()) / (sizes.max() - sizes.min())\n",
    "            matrix[i, j] = (normalized_number + normalized_size) / 2\n",
    "\n",
    "    # Add the constant to all cells except (0,0) and (9,10)\n",
    "    matrix[1:, :] += constant  # Add to all rows except the first\n",
    "    matrix[:, 1:] += constant  # Add to all columns except the first\n",
    "    matrix[-1, :-1] -= constant  # Subtract from the last row except the last column\n",
    "    matrix[:-1, -1] -= constant  # Subtract from the last column except the last row\n",
    "\n",
    "    return matrix"
   ]
  },
  {
   "cell_type": "code",
   "execution_count": 30,
   "id": "b972ee7f-b5e2-4aed-9fb7-9aa6fcc5ab39",
   "metadata": {
    "tags": []
   },
   "outputs": [],
   "source": [
    "congmatrix = congruent_matrix(0.04)"
   ]
  },
  {
   "cell_type": "code",
   "execution_count": 31,
   "id": "32c7241d-7d5d-4564-843f-9b3a1f44b257",
   "metadata": {
    "tags": []
   },
   "outputs": [
    {
     "data": {
      "text/plain": [
       "<Axes: >"
      ]
     },
     "execution_count": 31,
     "metadata": {},
     "output_type": "execute_result"
    },
    {
     "data": {
      "image/png": "[encoded data removed]",
      "text/plain": [
       "<Figure size 640x480 with 2 Axes>"
      ]
     },
     "metadata": {},
     "output_type": "display_data"
    }
   ],
   "source": [
    "sns.heatmap(congmatrix)"
   ]
  },
  {
   "cell_type": "code",
   "execution_count": null,
   "id": "3fe71b80-5851-4259-b56e-83e3a51892fd",
   "metadata": {},
   "outputs": [],
   "source": []
  }
 ],
 "metadata": {
  "kernelspec": {
   "display_name": "Python 3 (ipykernel)",
   "language": "python",
   "name": "python3"
  },
  "language_info": {
   "codemirror_mode": {
    "name": "ipython",
    "version": 3
   },
   "file_extension": ".py",
   "mimetype": "text/x-python",
   "name": "python",
   "nbconvert_exporter": "python",
   "pygments_lexer": "ipython3",
   "version": "3.8.12"
  }
 },
 "nbformat": 4,
 "nbformat_minor": 5
}
