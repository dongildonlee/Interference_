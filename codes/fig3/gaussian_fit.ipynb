{
 "cells": [
  {
   "cell_type": "code",
   "execution_count": 1,
   "id": "9be78fa4-6344-4d67-8778-f6311b78a731",
   "metadata": {
    "tags": []
   },
   "outputs": [],
   "source": [
    "import numpy as np\n",
    "import pandas as pd\n",
    "import time\n",
    "import sys\n",
    "import os\n",
    "import h5py\n",
    "from joblib import Parallel, delayed\n",
    "sys.path.append('../')\n",
    "from packages import actv_analysis, svm, load_csv, stats, objects, test_codes\n",
    "import pickle\n",
    "import re\n",
    "import glob\n",
    "import random\n",
    "import seaborn as sns\n",
    "import matplotlib.pyplot as plt\n",
    "import scipy.stats\n",
    "from sklearn.preprocessing import MinMaxScaler"
   ]
  },
  {
   "cell_type": "code",
   "execution_count": null,
   "id": "319df66a-2551-460c-bc46-5d244525f5e7",
   "metadata": {},
   "outputs": [],
   "source": [
    "relus = list(range(4, 5))\n",
    "epochs = np.arange(0, 91, 10)\n",
    "num_units = 200\n",
    "layer_numunits = {'relu1':290400, 'relu2':186624, 'relu3':64896, 'relu4':64896, 'relu5':43264}\n",
    "\n",
    "for relu in relus:\n",
    "    for epoch in [90,0]:\n",
    "        for net in range(8, 11):\n",
    "            \n",
    "            pkl_filename = f'../../pkl/4to20/network{net}_Relu{relu}_epoch{epoch}_4to20.pkl'\n",
    "            print(f'Loading {pkl_filename}..')\n",
    "            with open(pkl_filename, 'rb') as f:\n",
    "                units = pickle.load(f)\n",
    "                    \n",
    "            print(f'Loading actv ..')\n",
    "            actv_net = actv_analysis.get_actv_net(net=net, relu=relu, epoch=epoch)\n",
    "            actv = actv_net.reshape(layer_numunits[f'relu{relu}'], 10, 10, 500)"
   ]
  }
 ],
 "metadata": {
  "kernelspec": {
   "display_name": "Python 3 (ipykernel)",
   "language": "python",
   "name": "python3"
  },
  "language_info": {
   "codemirror_mode": {
    "name": "ipython",
    "version": 3
   },
   "file_extension": ".py",
   "mimetype": "text/x-python",
   "name": "python",
   "nbconvert_exporter": "python",
   "pygments_lexer": "ipython3",
   "version": "3.11.4"
  }
 },
 "nbformat": 4,
 "nbformat_minor": 5
}
