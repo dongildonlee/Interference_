{
 "cells": [
  {
   "cell_type": "code",
   "execution_count": null,
   "id": "7f85da1d-27f4-48a7-bcd8-1458109747dd",
   "metadata": {
    "tags": []
   },
   "outputs": [],
   "source": [
    "print(\"HelloWorld\", quote=FALSE)"
   ]
  },
  {
   "cell_type": "code",
   "execution_count": null,
   "id": "b67fe82e-db1e-4b38-9469-0b353d0965e9",
   "metadata": {},
   "outputs": [],
   "source": []
  }
 ],
 "metadata": {
  "kernelspec": {
   "display_name": "R",
   "language": "R",
   "name": "ir"
  },
  "language_info": {
   "name": ""
  }
 },
 "nbformat": 4,
 "nbformat_minor": 5
}
