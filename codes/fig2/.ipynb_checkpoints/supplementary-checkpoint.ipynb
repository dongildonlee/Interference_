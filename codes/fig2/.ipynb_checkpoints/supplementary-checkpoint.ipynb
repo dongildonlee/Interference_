{
 "cells": [
  {
   "cell_type": "code",
   "execution_count": 1,
   "id": "7dd7db67-cc75-4d24-b777-f27aca0b2557",
   "metadata": {
    "tags": []
   },
   "outputs": [],
   "source": [
    "import numpy as np\n",
    "import pandas as pd\n",
    "import time\n",
    "import sys\n",
    "import os\n",
    "import h5py\n",
    "from joblib import Parallel, delayed\n",
    "sys.path.append('../')\n",
    "from packages import actv_analysis, svm, load_csv, stats, objects, test_codes\n",
    "import pickle\n",
    "import re\n",
    "import glob\n",
    "import random\n",
    "import seaborn as sns\n",
    "import matplotlib.pyplot as plt\n",
    "import scipy.stats\n",
    "from sklearn.preprocessing import MinMaxScaler"
   ]
  },
  {
   "cell_type": "code",
   "execution_count": 2,
   "id": "8585d81c-021f-44fc-81c8-b79550c378ad",
   "metadata": {
    "tags": []
   },
   "outputs": [],
   "source": [
    "df_cularea = pd.read_csv('../number_size_cumulativearea.csv', index_col=0)"
   ]
  },
  {
   "cell_type": "code",
   "execution_count": 5,
   "id": "58d9a530-ebbf-400a-94b0-34ce7f06c44f",
   "metadata": {
    "tags": []
   },
   "outputs": [],
   "source": [
    "def regression_model(self, avg_actv_nxs, var='both'):\n",
    "    # Read df_cularea\n",
    "    df_cularea = pd.read_csv('../number_size_cumulativearea.csv', index_col=0)\n",
    "\n",
    "    # Log-transform numbers\n",
    "    log_numbers = np.log10(df_cularea.index.values)\n",
    "    log_numbers = np.repeat(log_numbers, df_cularea.shape[1]).reshape(-1, 1)\n",
    "\n",
    "    # Log-transform cumulative area values\n",
    "    log_cularea = np.log10(df_cularea.values).reshape(-1, 1)\n",
    "\n",
    "    # Min-Max scaling after log transformation\n",
    "    scaler = MinMaxScaler()\n",
    "    log_numbers_scaled = scaler.fit_transform(log_numbers)\n",
    "    log_cularea_scaled = scaler.fit_transform(log_cularea)\n",
    "\n",
    "    # Select the variables based on the input parameter\n",
    "    if var == 'number':\n",
    "        X = log_numbers_scaled\n",
    "    elif var == 'area':\n",
    "        X = log_cularea_scaled\n",
    "    elif var == 'both':\n",
    "        # Concatenate to form design matrix X\n",
    "        X = np.hstack([log_numbers_scaled, log_cularea_scaled])\n",
    "    else:\n",
    "        raise ValueError(\"Invalid variable selected. Choose 'number', 'area', or 'both'.\")\n",
    "\n",
    "    X = sm.add_constant(X)  # Add constant for the intercept\n",
    "\n",
    "    # Flatten the 3D matrix to 2D for avg_actv_nxs\n",
    "    n_samples, nx, ny = avg_actv_nxs.shape\n",
    "    \n",
    "    # Extract the normalized values for the specific object using self.id\n",
    "    y = avg_actv_nxs[self.id].reshape(-1, 1)\n",
    "\n",
    "    # Perform regression\n",
    "    model = sm.OLS(y, X).fit()\n",
    "\n",
    "    # Save the coefficients and R-squared as attributes based on the chosen variable(s)\n",
    "    if var == 'number':\n",
    "        self.coeff_number = model.params[1]  # Assuming that after the constant, the first coefficient corresponds to 'number'\n",
    "        self.r_sqrd_number = model.rsquared\n",
    "    elif var == 'area':\n",
    "        self.coeff_area = model.params[1]  # Assuming that after the constant, the first coefficient corresponds to 'area'\n",
    "        self.r_sqrd_area = model.rsquared\n",
    "    elif var == 'both':\n",
    "        self.coeff1 = model.params[1]  # Coefficient for 'number'\n",
    "        self.coeff2 = model.params[2]  # Coefficient for 'area'\n",
    "        self.r_sqrd = model.rsquared\n"
   ]
  },
  {
   "cell_type": "code",
   "execution_count": null,
   "id": "7d6460f4-9b2e-46f3-affc-bac2dc5665e3",
   "metadata": {
    "tags": []
   },
   "outputs": [],
   "source": [
    "from joblib import Parallel, delayed\n",
    "\n",
    "def process_net_epoch(net, epoch):\n",
    "    print(f\"Processing for net: {net}, epoch: {epoch}\")\n",
    "\n",
    "    # Define the pkl_filename using the current net and epoch\n",
    "    pkl_filename = f'../../pkl/4to20/network{net}_Relu{relu}_epoch{epoch}_4to20.pkl'\n",
    "    \n",
    "    # Load units from the pickle file\n",
    "    with open(pkl_filename, 'rb') as f:\n",
    "        units = pickle.load(f)\n",
    "    \n",
    "    # Perform analysis\n",
    "    actv_net = actv_analysis.get_actv_net(net=net, relu=4, epoch=epoch)\n",
    "    avg_actv_net = np.mean(actv_net, axis=2)\n",
    "    avg_actv_net_nxs = avg_actv_net.reshape(actv_net.shape[0],10,10)\n",
    "\n",
    "    # Flatten the 3D matrix and normalize\n",
    "    n_samples, nx, ny = avg_actv_net_nxs.shape\n",
    "    flattened_avg_actv_nxs = avg_actv_net_nxs.reshape((n_samples, nx*ny))\n",
    "    scaler_y = MinMaxScaler()\n",
    "    flattened_avg_actv_nxs_normalized = scaler_y.fit_transform(flattened_avg_actv_nxs)\n",
    "    avg_actv_nxs_normalized = flattened_avg_actv_nxs_normalized.reshape((n_samples, nx, ny))\n",
    "\n",
    "    for i in range(avg_actv_net_nxs.shape[0]):\n",
    "        # Assuming regression_model method returns R-squared value\n",
    "        r_squared_value = units[i].regression_model(avg_actv_nxs_normalized, var='number')\n",
    "\n",
    "    # Save the updated units back to the pickle file\n",
    "    with open(pkl_filename, 'wb') as f:\n",
    "        pickle.dump(units, f)\n",
    "\n",
    "# Define the range for net and epoch\n",
    "relu = 4\n",
    "net_range = range(2, 11)  # from 1 to 10\n",
    "epoch_range = range(0, 91, 90)  # from 0 to 90 with increments of 10\n",
    "\n",
    "# Using Parallel with all available cores\n",
    "Parallel(n_jobs=-1)(delayed(process_net_epoch)(net, epoch) for net in net_range for epoch in epoch_range)"
   ]
  },
  {
   "cell_type": "code",
   "execution_count": null,
   "id": "76617803-a81f-4a42-ad16-19ef21e650b0",
   "metadata": {},
   "outputs": [],
   "source": []
  }
 ],
 "metadata": {
  "kernelspec": {
   "display_name": "Python 3 (ipykernel)",
   "language": "python",
   "name": "python3"
  },
  "language_info": {
   "codemirror_mode": {
    "name": "ipython",
    "version": 3
   },
   "file_extension": ".py",
   "mimetype": "text/x-python",
   "name": "python",
   "nbconvert_exporter": "python",
   "pygments_lexer": "ipython3",
   "version": "3.8.12"
  }
 },
 "nbformat": 4,
 "nbformat_minor": 5
}
