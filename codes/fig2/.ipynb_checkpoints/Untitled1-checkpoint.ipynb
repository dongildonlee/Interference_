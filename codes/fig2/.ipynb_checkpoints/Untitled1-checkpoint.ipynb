{
 "cells": [
  {
   "cell_type": "code",
   "execution_count": null,
   "id": "79f05130-89a3-4fbf-a0b3-71dad956ede7",
   "metadata": {
    "tags": []
   },
   "outputs": [],
   "source": [
    "import numpy as np\n",
    "import pandas as pd\n",
    "import time\n",
    "import sys\n",
    "import os\n",
    "import h5py\n",
    "from joblib import Parallel, delayed\n",
    "sys.path.append('../')\n",
    "from packages import actv_analysis, svm, load_csv, stats, objects, test_codes\n",
    "import pickle\n",
    "import re\n",
    "import glob\n",
    "import random\n",
    "import seaborn as sns\n",
    "import matplotlib.pyplot as plt\n",
    "import scipy.stats\n",
    "from sklearn.preprocessing import MinMaxScaler"
   ]
  },
  {
   "cell_type": "code",
   "execution_count": null,
   "id": "3fe77e01-7372-402f-b538-8c2efd95aa73",
   "metadata": {
    "tags": []
   },
   "outputs": [],
   "source": [
    "# Get the current directory\n",
    "current_dir = os.getcwd()\n",
    "\n",
    "# Go two directories up\n",
    "up_two_dir = os.path.dirname(current_dir)\n",
    "\n",
    "print(up_two_dir)"
   ]
  },
  {
   "cell_type": "code",
   "execution_count": null,
   "id": "5b5894d4-defa-4660-a1b7-e76b5e8696ed",
   "metadata": {
    "tags": []
   },
   "outputs": [],
   "source": [
    "net=1; relu=4; epoch=0\n",
    "pkl_filename = f'{up_two_dir}/fig1/pkl/4to20/network{net}_Relu{relu}_epoch{epoch}_4to20.pkl'\n",
    "with open(pkl_filename, 'rb') as f:\n",
    "    units = pickle.load(f)"
   ]
  },
  {
   "cell_type": "code",
   "execution_count": null,
   "id": "608ea8c4-c1b7-45ea-8a7b-9d8f80f089b2",
   "metadata": {
    "tags": []
   },
   "outputs": [],
   "source": [
    "actv_net = actv_analysis.get_actv_net(net=net, relu=4, epoch=0)"
   ]
  },
  {
   "cell_type": "code",
   "execution_count": null,
   "id": "2d4d51c1-03d9-4c77-aeec-35f218ab9800",
   "metadata": {
    "tags": []
   },
   "outputs": [],
   "source": [
    "units_nonzero = [units[i].id for i in range(len(units)) if units[i].no_response_subset is not True]\n",
    "units_sample = random.sample(units_nonzero, 200)"
   ]
  },
  {
   "cell_type": "code",
   "execution_count": null,
   "id": "c3eebf63-7c1b-4622-9a4a-bffebf59da85",
   "metadata": {
    "tags": []
   },
   "outputs": [],
   "source": [
    "avg_actv_net = np.mean(actv_net, axis=2)"
   ]
  },
  {
   "cell_type": "code",
   "execution_count": null,
   "id": "79906368-f10b-4bdd-bfee-e0513ee98b66",
   "metadata": {
    "tags": []
   },
   "outputs": [],
   "source": [
    "avg_actv_net_nxs = avg_actv_net.reshape(actv_net.shape[0],10,10)[units_sample,1:,3:]"
   ]
  },
  {
   "cell_type": "code",
   "execution_count": null,
   "id": "1245cffd-f8b2-414f-a64d-34b89d305f7a",
   "metadata": {
    "tags": []
   },
   "outputs": [],
   "source": [
    "aoi = np.mean(avg_actv_net_nxs,axis=0)"
   ]
  },
  {
   "cell_type": "code",
   "execution_count": null,
   "id": "665e7ee6-28ed-416c-82bf-103547e39f32",
   "metadata": {
    "tags": []
   },
   "outputs": [],
   "source": [
    "from sklearn.preprocessing import MinMaxScaler\n",
    "\n",
    "scaler = MinMaxScaler()\n",
    "\n",
    "# Assuming aoi is a 2D numpy array\n",
    "aoi_normalized = scaler.fit_transform(aoi)\n",
    "\n",
    "for i in range(7):\n",
    "    sns.lineplot(x=range(aoi_normalized.shape[0]), y=aoi_normalized[:,i])\n",
    "\n",
    "plt.show()"
   ]
  },
  {
   "cell_type": "code",
   "execution_count": null,
   "id": "7f4877c9-c00e-46a9-8026-44d34ef636ba",
   "metadata": {
    "tags": []
   },
   "outputs": [],
   "source": [
    "spearman_r.shape"
   ]
  },
  {
   "cell_type": "code",
   "execution_count": null,
   "id": "bc9e43f3-57e0-4557-bd6a-a8306aee61ac",
   "metadata": {},
   "outputs": [],
   "source": [
    "from sklearn.preprocessing import MinMaxScaler\n",
    "import numpy as np\n",
    "from scipy import stats\n",
    "import random\n",
    "import pickle\n",
    "import seaborn as sns\n",
    "import matplotlib.pyplot as plt\n",
    "\n",
    "nets = np.arange(1,2)\n",
    "epoch = 0\n",
    "relu = 4\n",
    "\n",
    "aois = []\n",
    "spearman_results = []  # new list to store Spearman R results\n",
    "\n",
    "for net in nets:\n",
    "    pkl_filename = f'{up_two_dir}/fig1/pkl/4to20/network{net}_Relu{relu}_epoch{epoch}_4to20.pkl'\n",
    "    with open(pkl_filename, 'rb') as f:\n",
    "        units = pickle.load(f)\n",
    "    units_nonzero = [units[i].id for i in range(len(units)) if units[i].no_response_subset is not True]\n",
    "    #units_sample = random.sample(units_nonzero, 2000)\n",
    "\n",
    "    actv_net = actv_analysis.get_actv_net(net=net, relu=4, epoch=0)\n",
    "    avg_actv_net = np.mean(actv_net, axis=2)\n",
    "    avg_actv_net_nxs = avg_actv_net.reshape(actv_net.shape[0],10,10)[units_nonzero,1:,3:]\n",
    "    aoi = np.mean(avg_actv_net_nxs,axis=0)\n",
    "    aois.append(aoi)\n",
    "\n",
    "    # Calculate Spearman R for this net\n",
    "    spearman_r = np.zeros((avg_actv_net_nxs.shape[0], avg_actv_net_nxs.shape[2]))\n",
    "    for i in range(avg_actv_net_nxs.shape[0]):\n",
    "        for j in range(avg_actv_net_nxs.shape[2]):\n",
    "            spearman_r[i, j] = stats.spearmanr(np.arange(avg_actv_net_nxs.shape[1]), avg_actv_net_nxs[i, :, j])[0]\n",
    "    # Append the results to the list\n",
    "    spearman_results.append(spearman_r)\n",
    "\n",
    "aois = np.array(aois)\n",
    "spearman_results = np.array(spearman_results)  # Convert the results list to an array\n",
    "\n",
    "# Reshape aois for MinMaxScaler\n",
    "aois_reshaped = aois.reshape(-1, 1)\n",
    "\n",
    "# Initialize a MinMaxScaler\n",
    "scaler = MinMaxScaler()\n",
    "\n",
    "# Fit and transform aois with the scaler\n",
    "aois_normalized = scaler.fit_transform(aois_reshaped)\n",
    "\n",
    "# Reshape aois back to its original shape\n",
    "aois_normalized = aois_normalized.reshape(aois.shape)\n",
    "\n",
    "# Calculate the mean and the confidence interval\n",
    "mean_aoi = np.mean(aois_normalized, axis=0)\n",
    "\n",
    "# Calculate the mean Spearman R for each item in the third dimension\n",
    "mean_spearman_r = np.mean(spearman_results, axis=0)\n",
    "\n",
    "# Calculate the overall mean Spearman R\n",
    "overall_mean_spearman_r = np.nanmean(mean_spearman_r)\n",
    "\n",
    "# Plotting\n",
    "fig, axs = plt.subplots(2, figsize=(10, 12))\n",
    "\n",
    "# Plot mean AOI\n",
    "axs[0].set_title('Mean AOI')\n",
    "cmap = plt.get_cmap('rocket')\n",
    "for i in range(aois_normalized.shape[2]):\n",
    "    # Get a color from the colormap\n",
    "    color = cmap(i/aois_normalized.shape[2])\n",
    "    axs[0].plot(np.arange(aois_normalized.shape[1]), mean_aoi[:, i], color=color)\n",
    "\n",
    "# Plot mean Spearman R as a single bar\n",
    "axs[1].set_title('Mean Spearman R')\n",
    "axs[1].bar(1, overall_mean_spearman_r)  # A single bar centered at x = 1\n",
    "axs[1].set_xlim(0, 2)  # Optional: adjust x limits to better frame the bar\n",
    "\n",
    "plt.tight_layout()\n",
    "plt.show()"
   ]
  },
  {
   "cell_type": "code",
   "execution_count": null,
   "id": "fd297250-854c-4e39-8f90-00a898bef1f5",
   "metadata": {},
   "outputs": [],
   "source": [
    "from sklearn.preprocessing import MinMaxScaler\n",
    "\n",
    "nets = np.arange(1,11)\n",
    "epoch = 0\n",
    "relu = 4\n",
    "\n",
    "aois = []\n",
    "\n",
    "for net in nets:\n",
    "    pkl_filename = f'{up_two_dir}/fig1/pkl/4to20/network{net}_Relu{relu}_epoch{epoch}_4to20.pkl'\n",
    "    with open(pkl_filename, 'rb') as f:\n",
    "        units = pickle.load(f)\n",
    "    units_nonzero = [units[i].id for i in range(len(units)) if units[i].no_response_subset is not True]\n",
    "    units_sample = random.sample(units_nonzero, 2000)\n",
    "\n",
    "    actv_net = actv_analysis.get_actv_net(net=net, relu=4, epoch=0)\n",
    "    avg_actv_net = np.mean(actv_net, axis=2)\n",
    "    avg_actv_net_nxs = avg_actv_net.reshape(actv_net.shape[0],10,10)[units_nonzero,1:,3:]\n",
    "    aoi = np.mean(avg_actv_net_nxs,axis=0)\n",
    "    aois.append(aoi)\n",
    "\n",
    "aois = np.array(aois)\n",
    "\n",
    "# Reshape aois for MinMaxScaler\n",
    "aois_reshaped = aois.reshape(-1, 1)\n",
    "\n",
    "# Initialize a MinMaxScaler\n",
    "scaler = MinMaxScaler()\n",
    "\n",
    "# Fit and transform aois with the scaler\n",
    "aois_normalized = scaler.fit_transform(aois_reshaped)\n",
    "\n",
    "# Reshape aois back to its original shape\n",
    "aois_normalized = aois_normalized.reshape(aois.shape)\n",
    "\n",
    "# Calculate the mean and the confidence interval\n",
    "mean_aoi = np.mean(aois_normalized, axis=0)\n",
    "\n",
    "# Plotting\n",
    "plt.figure(figsize=(10, 6))\n",
    "\n",
    "# Define the colormap\n",
    "cmap = plt.get_cmap('rocket')\n",
    "\n",
    "for i in range(aois_normalized.shape[1]):\n",
    "    # Get a color from the colormap\n",
    "    color = cmap(i/aois_normalized.shape[1])\n",
    "\n",
    "    sns.lineplot(x=np.arange(aois_normalized.shape[2]), y=mean_aoi[i, :], color=color)\n",
    "\n",
    "plt.savefig(f'lineplot_tuning_curve_relu{relu}_epoch{epoch}_size_xaxis.pdf')\n",
    "plt.show()"
   ]
  },
  {
   "cell_type": "code",
   "execution_count": null,
   "id": "89848d2f-b88b-4cff-a157-99862bf17367",
   "metadata": {
    "tags": []
   },
   "outputs": [],
   "source": [
    "net=1\n",
    "relu=4\n",
    "epoch=0\n",
    "\n",
    "#net=1; relu=4; epoch=0\n",
    "pkl_filename = f'{up_two_dir}/fig1/pkl/4to20/network{net}_Relu{relu}_epoch{epoch}_4to20.pkl'\n",
    "with open(pkl_filename, 'rb') as f:\n",
    "    units = pickle.load(f)\n",
    "    \n",
    "# Create a dictionary with your data\n",
    "data = {\n",
    "    'spearman_number': [units[i].spearmanr_number for i in range(len(units))],\n",
    "    'spearman_size': [units[i].spearmanr_size for i in range(len(units))],\n",
    "}\n",
    "\n",
    "# Convert the dictionary to a DataFrame\n",
    "df0 = pd.DataFrame(data).dropna()\n",
    "\n",
    "\n",
    "net=1\n",
    "relu=4\n",
    "epoch=90\n",
    "\n",
    "#net=1; relu=4; epoch=0\n",
    "pkl_filename = f'{up_two_dir}/fig1/pkl/4to20/network{net}_Relu{relu}_epoch{epoch}_4to20.pkl'\n",
    "with open(pkl_filename, 'rb') as f:\n",
    "    units = pickle.load(f)\n",
    "    \n",
    "# Create a dictionary with your data\n",
    "data = {\n",
    "    'spearman_number': [units[i].spearmanr_number for i in range(len(units))],\n",
    "    'spearman_size': [units[i].spearmanr_size for i in range(len(units))],\n",
    "}\n",
    "\n",
    "# Convert the dictionary to a DataFrame\n",
    "df90 = pd.DataFrame(data).dropna()"
   ]
  },
  {
   "cell_type": "code",
   "execution_count": null,
   "id": "750cdb81-d10a-460d-95b6-d073cbbc3c26",
   "metadata": {
    "tags": []
   },
   "outputs": [],
   "source": [
    "def compute_cumulative_proportion(df, spearman_number_value):\n",
    "    # Filter dataframe\n",
    "    df_filtered = df[df['spearman_number'] == spearman_number_value]\n",
    "\n",
    "    # Sort by spearman_size\n",
    "    df_sorted = df_filtered.sort_values(by='spearman_size')\n",
    "\n",
    "    # Compute cumulative proportion\n",
    "    cumulative_counts = df_sorted['spearman_size'].value_counts().sort_index().cumsum()\n",
    "    df_cumulative = pd.DataFrame({\n",
    "        'spearman_size': cumulative_counts.index,\n",
    "        'cumulative_proportion': cumulative_counts.values / len(df_filtered)\n",
    "    })\n",
    "    \n",
    "    return df_cumulative\n",
    "\n",
    "# Compute cumulative proportions for both dataframes for spearman_number = -1\n",
    "df0_cumulative_minus1 = compute_cumulative_proportion(df0, -1)\n",
    "df90_cumulative_minus1 = compute_cumulative_proportion(df90, -1)\n",
    "\n",
    "# Compute cumulative proportions for both dataframes for spearman_number = 1\n",
    "df0_cumulative_plus1 = compute_cumulative_proportion(df0, 1)\n",
    "df90_cumulative_plus1 = compute_cumulative_proportion(df90, 1)\n",
    "\n",
    "# Plotting\n",
    "plt.figure(figsize=(10,6))\n",
    "\n",
    "# Plots for spearman_number = -1\n",
    "plt.plot(df0_cumulative_minus1['spearman_size'], df0_cumulative_minus1['cumulative_proportion'], linestyle='-', label='df0 (-1)')\n",
    "plt.plot(df90_cumulative_minus1['spearman_size'], df90_cumulative_minus1['cumulative_proportion'], linestyle='-', label='df90 (-1)')\n",
    "\n",
    "# Plots for spearman_number = 1\n",
    "plt.plot(df0_cumulative_plus1['spearman_size'], df0_cumulative_plus1['cumulative_proportion'], linestyle='--', label='df0 (1)')\n",
    "plt.plot(df90_cumulative_plus1['spearman_size'], df90_cumulative_plus1['cumulative_proportion'], linestyle='--', label='df90 (1)')\n",
    "\n",
    "plt.xlabel('Spearman Size')\n",
    "plt.ylabel('Cumulative Proportion')\n",
    "plt.title('Cumulative Proportion of Spearman Size')\n",
    "plt.legend()\n",
    "plt.show()\n"
   ]
  },
  {
   "cell_type": "code",
   "execution_count": null,
   "id": "e62a13ef-3841-4112-8de7-376382ff4b3c",
   "metadata": {
    "tags": []
   },
   "outputs": [],
   "source": [
    "def compute_cumulative_proportion_number_axis(df, spearman_size_value):\n",
    "    # Filter dataframe\n",
    "    df_filtered = df[df['spearman_size'] == spearman_size_value]\n",
    "\n",
    "    # Sort by spearman_number\n",
    "    df_sorted = df_filtered.sort_values(by='spearman_number')\n",
    "\n",
    "    # Compute cumulative proportion\n",
    "    cumulative_counts = df_sorted['spearman_number'].value_counts().sort_index().cumsum()\n",
    "    df_cumulative = pd.DataFrame({\n",
    "        'spearman_number': cumulative_counts.index,\n",
    "        'cumulative_proportion': cumulative_counts.values / len(df_filtered)\n",
    "    })\n",
    "    \n",
    "    return df_cumulative\n",
    "\n",
    "# Compute cumulative proportions for both dataframes for spearman_size = 0\n",
    "df0_cumulative_0 = compute_cumulative_proportion_number_axis(df0, -1)\n",
    "df90_cumulative_0 = compute_cumulative_proportion_number_axis(df90, -1)\n",
    "\n",
    "# Compute cumulative proportions for both dataframes for spearman_size = 1\n",
    "df0_cumulative_1 = compute_cumulative_proportion_number_axis(df0, 1)\n",
    "df90_cumulative_1 = compute_cumulative_proportion_number_axis(df90, 1)\n",
    "\n",
    "# Plotting\n",
    "plt.figure(figsize=(10,6))\n",
    "\n",
    "# Plots for spearman_size = 0\n",
    "plt.plot(df0_cumulative_0['spearman_number'], df0_cumulative_0['cumulative_proportion'], linestyle='-', label='df0 (0)')\n",
    "plt.plot(df90_cumulative_0['spearman_number'], df90_cumulative_0['cumulative_proportion'], linestyle='-', label='df90 (0)')\n",
    "\n",
    "# Plots for spearman_size = 1\n",
    "plt.plot(df0_cumulative_1['spearman_number'], df0_cumulative_1['cumulative_proportion'], linestyle='--', label='df0 (1)')\n",
    "plt.plot(df90_cumulative_1['spearman_number'], df90_cumulative_1['cumulative_proportion'], linestyle='--', label='df90 (1)')\n",
    "\n",
    "plt.xlabel('Spearman Number')\n",
    "plt.ylabel('Cumulative Proportion')\n",
    "plt.title('Cumulative Proportion of Spearman Number')\n",
    "plt.legend()\n",
    "plt.show()"
   ]
  },
  {
   "cell_type": "code",
   "execution_count": null,
   "id": "1810194a-2f8b-47dd-bd25-c00068297b43",
   "metadata": {
    "tags": []
   },
   "outputs": [],
   "source": [
    "df_cularea = pd.read_csv('number_size_cumulativearea.csv', index_col=0)"
   ]
  },
  {
   "cell_type": "code",
   "execution_count": null,
   "id": "c4f0891c-f0d2-4235-879f-625b0593eaa4",
   "metadata": {
    "tags": []
   },
   "outputs": [],
   "source": [
    "actv_net = actv_analysis.get_actv_net(net=net, relu=4, epoch=90)\n",
    "\n",
    "avg_actv_net = np.mean(actv_net, axis=2)\n",
    "avg_actv_net_nxs = avg_actv_net.reshape(actv_net.shape[0],10,10)"
   ]
  },
  {
   "cell_type": "markdown",
   "id": "d696f420-a298-4634-9861-0f2fe4b86f9d",
   "metadata": {},
   "source": [
    "## REGRESSION: log-transformed numbers and cumulative areas"
   ]
  },
  {
   "cell_type": "code",
   "execution_count": null,
   "id": "fba178fb-caa0-4c69-9264-c561dcde35ea",
   "metadata": {
    "tags": []
   },
   "outputs": [],
   "source": [
    "from joblib import Parallel, delayed\n",
    "\n",
    "def process_net_epoch(net, epoch):\n",
    "    print(f\"Processing for net: {net}, epoch: {epoch}\")\n",
    "\n",
    "    # Define the pkl_filename using the current net and epoch\n",
    "    pkl_filename = f'{up_two_dir}/fig1/pkl/4to20/network{net}_Relu{relu}_epoch{epoch}_4to20.pkl'\n",
    "    \n",
    "    # Load units from the pickle file\n",
    "    with open(pkl_filename, 'rb') as f:\n",
    "        units = pickle.load(f)\n",
    "    \n",
    "    # Perform analysis\n",
    "    actv_net = actv_analysis.get_actv_net(net=net, relu=4, epoch=epoch)\n",
    "    avg_actv_net = np.mean(actv_net, axis=2)\n",
    "    avg_actv_net_nxs = avg_actv_net.reshape(actv_net.shape[0],10,10)\n",
    "\n",
    "    # Flatten the 3D matrix and normalize\n",
    "    n_samples, nx, ny = avg_actv_net_nxs.shape\n",
    "    flattened_avg_actv_nxs = avg_actv_net_nxs.reshape((n_samples, nx*ny))\n",
    "    scaler_y = MinMaxScaler()\n",
    "    flattened_avg_actv_nxs_normalized = scaler_y.fit_transform(flattened_avg_actv_nxs)\n",
    "    avg_actv_nxs_normalized = flattened_avg_actv_nxs_normalized.reshape((n_samples, nx, ny))\n",
    "\n",
    "    for i in range(avg_actv_net_nxs.shape[0]):\n",
    "        # Assuming regression_model method returns R-squared value\n",
    "        r_squared_value = units[i].regression_model(avg_actv_nxs_normalized)\n",
    "        units[i].reg_explained_var = r_squared_value\n",
    "\n",
    "    # Save the updated units back to the pickle file\n",
    "    with open(pkl_filename, 'wb') as f:\n",
    "        pickle.dump(units, f)\n",
    "\n",
    "# Define the range for net and epoch\n",
    "relu = 4\n",
    "net_range = range(1, 11)  # from 1 to 10\n",
    "epoch_range = range(0, 91, 90)  # from 0 to 90 with increments of 10\n",
    "\n",
    "# Using Parallel with all available cores\n",
    "Parallel(n_jobs=-1)(delayed(process_net_epoch)(net, epoch) for net in net_range for epoch in epoch_range)"
   ]
  },
  {
   "cell_type": "markdown",
   "id": "c7ecfa1e-88a4-4f62-8584-edfed819f631",
   "metadata": {},
   "source": [
    "### Organize regression coefficients"
   ]
  },
  {
   "cell_type": "code",
   "execution_count": null,
   "id": "7449f007-b6b9-45f3-8cca-5ec0e8d9b639",
   "metadata": {
    "tags": []
   },
   "outputs": [],
   "source": [
    "relus = [4]  # You can add other ReLU values if needed.\n",
    "nets = range(1, 11)\n",
    "epochs = [0, 90]\n",
    "all_dataframes = []\n",
    "\n",
    "for net in nets:\n",
    "    for relu in relus:\n",
    "        for epoch in epochs:\n",
    "            pkl_filename = f'{up_two_dir}/fig1/pkl/4to20/network{net}_Relu{relu}_epoch{epoch}_4to20.pkl'\n",
    "            \n",
    "            # Load units from the pickle file\n",
    "            with open(pkl_filename, 'rb') as f:\n",
    "                units = pickle.load(f)\n",
    "            \n",
    "            # Extract coeff1 and coeff2 from each object into separate lists\n",
    "            coeff1_values = [unit.coeff1 for unit in units]\n",
    "            coeff2_values = [unit.coeff2 for unit in units]\n",
    "            r_sqrd = [unit.reg_explained_var for unit in units]\n",
    "\n",
    "            # Create a DataFrame\n",
    "            df = pd.DataFrame({\n",
    "                'coeff1': coeff1_values,\n",
    "                'coeff2': coeff2_values,\n",
    "                'r_sqrd': r_sqrd\n",
    "                'net': net,\n",
    "                'relu': relu,\n",
    "                'epoch': epoch\n",
    "            })\n",
    "            \n",
    "            # Append the dataframe to the list\n",
    "            all_dataframes.append(df)\n",
    "\n",
    "# Concatenate all dataframes\n",
    "df_coeff = pd.concat(all_dataframes, ignore_index=True)"
   ]
  },
  {
   "cell_type": "markdown",
   "id": "cf5e7138-c405-46f5-bddb-431223f3b650",
   "metadata": {},
   "source": [
    "### Plot coefficients scatterplot"
   ]
  },
  {
   "cell_type": "code",
   "execution_count": null,
   "id": "d650dd10-363c-4a1a-aadb-39d3a9285f8e",
   "metadata": {
    "tags": []
   },
   "outputs": [],
   "source": [
    "import seaborn as sns\n",
    "import matplotlib.pyplot as plt\n",
    "\n",
    "# Create a jointplot with scatter\n",
    "plot = sns.jointplot(x='coeff1', y='coeff2', data=df0, kind='scatter', color='blue', s=10, edgecolor='w', alpha=0.6, marginal_kws=dict(bins=20, fill=True))\n",
    "\n",
    "# Add horizontal and vertical red dotted lines along x=0 and y=0\n",
    "plot.ax_joint.axhline(0, color='red', linestyle='--')\n",
    "plot.ax_joint.axvline(0, color='red', linestyle='--')\n",
    "\n",
    "# Set the x and y axis limits\n",
    "plot.ax_joint.set_xlim([-1, 1])\n",
    "plot.ax_joint.set_ylim([-1, 1])\n",
    "\n",
    "# Show the plot\n",
    "plt.savefig('reg_scatterplot_net1_relu4_epoch0.pdf')\n",
    "plt.show()\n",
    "\n",
    "# Create a jointplot with scatter\n",
    "plot = sns.jointplot(x='coeff1', y='coeff2', data=df90, kind='scatter', color='red', s=10, edgecolor='w', alpha=0.6, marginal_kws=dict(bins=50, fill=True))\n",
    "\n",
    "# Add horizontal and vertical red dotted lines along x=0 and y=0\n",
    "plot.ax_joint.axhline(0, color='red', linestyle='--')\n",
    "plot.ax_joint.axvline(0, color='red', linestyle='--')\n",
    "\n",
    "# Set the x and y axis limits\n",
    "plot.ax_joint.set_xlim([-1, 1])\n",
    "plot.ax_joint.set_ylim([-1, 1])\n",
    "\n",
    "# Show the plot\n",
    "plt.savefig('reg_scatterplot_net1_relu4_epoch90.pdf')\n",
    "plt.show()"
   ]
  },
  {
   "cell_type": "markdown",
   "id": "db408013-5521-447d-b96e-c3830dd03953",
   "metadata": {},
   "source": [
    "### Plot barplot for quadrants"
   ]
  },
  {
   "cell_type": "code",
   "execution_count": null,
   "id": "0f20f014-3875-43f5-9695-21c38f35a694",
   "metadata": {
    "tags": []
   },
   "outputs": [],
   "source": [
    "# Use your classification function\n",
    "def classify_quadrant(row):\n",
    "    if row['coeff1'] > 0 and row['coeff2'] > 0:\n",
    "        return 'Q1'\n",
    "    elif row['coeff1'] < 0 and row['coeff2'] > 0:\n",
    "        return 'Q2'\n",
    "    elif row['coeff1'] < 0 and row['coeff2'] < 0:\n",
    "        return 'Q3'\n",
    "    else:\n",
    "        return 'Q4'\n",
    "\n",
    "# Apply the classify_quadrant function to the final_dataframe\n",
    "final_dataframe['quadrant'] = final_dataframe.apply(classify_quadrant, axis=1)\n",
    "\n",
    "# Calculate the mean proportion of each quadrant by epoch and net\n",
    "proportions = final_dataframe.groupby(['net', 'epoch'])['quadrant'].value_counts(normalize=True).unstack()\n",
    "\n",
    "# Calculate the standard deviation for error bars\n",
    "errors = final_dataframe.groupby(['net', 'epoch'])['quadrant'].value_counts(normalize=True).unstack().std(level='epoch')\n",
    "\n",
    "# Reset index for plotting\n",
    "proportions = proportions.reset_index().melt(id_vars=['net', 'epoch'], value_vars=['Q1', 'Q2', 'Q3', 'Q4'], var_name='quadrant', value_name='proportion')\n",
    "\n",
    "# Plot\n",
    "plt.figure(figsize=(10, 6))\n",
    "sns.barplot(x='quadrant', y='proportion', hue='epoch', data=proportions, order=['Q1', 'Q2', 'Q3', 'Q4'], ci='sd', capsize=0.2, errwidth=1)\n",
    "\n",
    "plt.title(\"Distribution of Data Points Across Quadrants\")\n",
    "plt.ylabel(\"Proportion\")\n",
    "plt.xlabel(\"Quadrant\")\n",
    "plt.legend(title='Epoch')\n",
    "plt.ylim(0, .6)  # Since it's a proportion, set y-axis limit between 0 and 1\n",
    "\n",
    "plt.savefig('epoch0_vs_epoch90_reg_scatter_quadrants.pdf')\n",
    "plt.show()"
   ]
  },
  {
   "cell_type": "code",
   "execution_count": null,
   "id": "c33cb5cb-677d-44bd-a081-918cbe99e87f",
   "metadata": {
    "tags": []
   },
   "outputs": [],
   "source": [
    "from scipy.stats import kendalltau\n",
    "\n",
    "# Values for x-axis (numbers from 4 to 20 with an increment of 2)\n",
    "numbers = list(range(4, 21, 2))\n",
    "scaler = MinMaxScaler()\n",
    "avg_actv_net_nxs = np.mean(actv_net, axis=2).reshape(actv_net.shape[0],10,10)[:,1:,3:]\n",
    "\n",
    "# Loop over desired net and epoch values\n",
    "for net in range(1, 11):  # For net values from 1 to 10\n",
    "    for epoch in [0, 90]:  # For the specified epochs\n",
    "        # Define the pkl_filename using the current net and epoch\n",
    "        pkl_filename = f'{up_two_dir}/fig1/pkl/4to20/network{net}_Relu{relu}_epoch{epoch}_4to20.pkl'\n",
    "\n",
    "        # Load units from the pickle file\n",
    "        with open(pkl_filename, 'rb') as f:\n",
    "            units = pickle.load(f)\n",
    "\n",
    "        # Process each matrix in avg_actv_net_nxs_Q4\n",
    "        for index in range(len(units)):  # Assuming df90_Q4 is available and consistent across different net and epoch\n",
    "            # Extract the matrix for the current index\n",
    "            matrix = avg_actv_net_nxs[index]\n",
    "\n",
    "            # Apply Min-Max normalization to the matrix\n",
    "            matrix_normalized = scaler.fit_transform(matrix.reshape(-1, 1)).reshape(matrix.shape)\n",
    "\n",
    "            # Convert the normalized matrix to a dataframe\n",
    "            df = pd.DataFrame(matrix_normalized, columns=['size_' + str(i) for i in range(1, 8)])\n",
    "            df['numbers'] = numbers\n",
    "\n",
    "            # Compute Kendall's tau and update the unit object\n",
    "            for size in df.columns[:-1]:  # exclude the 'numbers' column\n",
    "                tau, p_value = kendalltau(numbers, df[size])\n",
    "\n",
    "                # Update the unit object\n",
    "                setattr(units[index], size + '_tau', tau)\n",
    "                setattr(units[index], size + '_p_value', p_value)\n",
    "\n",
    "        # Save the updated units back to the pickle file\n",
    "        with open(pkl_filename, 'wb') as f:\n",
    "            pickle.dump(units, f)\n"
   ]
  },
  {
   "cell_type": "code",
   "execution_count": null,
   "id": "bc96f0c2-62da-42be-830e-0380f7813491",
   "metadata": {
    "tags": []
   },
   "outputs": [],
   "source": [
    "avg_actv_net = np.mean(actv_net,axis=2)\n",
    "\n",
    "df0_Q1 = df0[(df0['coeff1']>0)&(df0['coeff2']>0)].index\n",
    "df0_Q2 = df0[(df0['coeff1']<0)&(df0['coeff2']>0)].index\n",
    "df0_Q3 = df0[(df0['coeff1']<0)&(df0['coeff2']<0)].index\n",
    "df0_Q4 = df0[(df0['coeff1']>0)&(df0['coeff2']<0)].index\n",
    "\n",
    "df90_Q1 = df90[(df90['coeff1']>0)&(df90['coeff2']>0)].index\n",
    "df90_Q2 = df90[(df90['coeff1']<0)&(df90['coeff2']>0)].index\n",
    "df90_Q3 = df90[(df90['coeff1']<0)&(df90['coeff2']<0)].index\n",
    "df90_Q4 = df90[(df90['coeff1']>0)&(df90['coeff2']<0)].index\n",
    "\n",
    "df90_sp = df90[(df90['coeff1']>0)&(df90['coeff2']<0)&(df90['coeff2']>-0.1)].index"
   ]
  },
  {
   "cell_type": "code",
   "execution_count": null,
   "id": "8a7a79cd-79fe-43e7-a1a7-22eafa186eea",
   "metadata": {
    "tags": []
   },
   "outputs": [],
   "source": [
    "avg_actv_net_nxs = np.mean(avg_actv_net.reshape(actv_net.shape[0],10,10)[df90_Q4,1:,3:], axis=0)"
   ]
  },
  {
   "cell_type": "code",
   "execution_count": null,
   "id": "2c7a5684-f844-4527-a427-444ed4970433",
   "metadata": {
    "tags": []
   },
   "outputs": [],
   "source": [
    "import numpy as np\n",
    "import pandas as pd\n",
    "import seaborn as sns\n",
    "import matplotlib.pyplot as plt\n",
    "\n",
    "# Convert the matrix to a dataframe\n",
    "df = pd.DataFrame(avg_actv_net_nxs)\n",
    "\n",
    "# Reset columns to sizes and index to numbers\n",
    "sizes = ['size_' + str(i) for i in range(1, 8)]\n",
    "numbers = list(range(1, 10))\n",
    "df.columns = sizes\n",
    "df['numbers'] = numbers\n",
    "\n",
    "# Melt the dataframe to a long format\n",
    "df_melted = df.melt(id_vars=['numbers'], value_vars=sizes, var_name='size', value_name='value')\n",
    "\n",
    "# Normalize the 'value' column\n",
    "scaler = MinMaxScaler()\n",
    "df_melted['value'] = scaler.fit_transform(df_melted[['value']])\n",
    "\n",
    "# Plotting\n",
    "plt.figure(figsize=(6, 6))  # Making the figure square\n",
    "\n",
    "# Using 'rocket' colormap\n",
    "colors = sns.color_palette(\"rocket\", n_colors=len(sizes))\n",
    "sns.lineplot(data=df_melted, x='numbers', y='value', hue='size', palette=colors, legend=False)\n",
    "\n",
    "plt.title('Normalized Line Plot of avg_actv_net_nxs')\n",
    "plt.xlabel('Numbers')\n",
    "plt.ylabel('Normalized Value')\n",
    "\n",
    "plt.xlim(1, len(numbers))  # Set x limits based on number range\n",
    "plt.ylim(0, 1)  # Since we normalized, y range will be between 0 and 1\n",
    "\n",
    "plt.tight_layout()  # Adjust plot layout for better appearance\n",
    "plt.savefig('epoch90_4th_quadrant_tuning_curve.pdf')\n",
    "plt.show()"
   ]
  },
  {
   "cell_type": "markdown",
   "id": "6f43f96a-583e-41fb-bf5b-2305f18327bf",
   "metadata": {},
   "source": [
    "## Plotting individual units"
   ]
  },
  {
   "cell_type": "code",
   "execution_count": null,
   "id": "6ab62796-62b6-494d-a3b0-c4b9e4da4c88",
   "metadata": {
    "tags": []
   },
   "outputs": [],
   "source": [
    "import pandas as pd\n",
    "import seaborn as sns\n",
    "import matplotlib.pyplot as plt\n",
    "from sklearn.preprocessing import MinMaxScaler\n",
    "\n",
    "# Values for x-axis (numbers from 4 to 20 with an increment of 2)\n",
    "numbers = list(range(4, 21, 2))\n",
    "scaler = MinMaxScaler()\n",
    "avg_actv_net_nxs = np.mean(actv_net, axis=2).reshape(actv_net.shape[0],10,10)[:,1:,3:]\n",
    "\n",
    "# Iterate over each matrix in avg_actv_net_nxs_Q4\n",
    "for index in df90_Q4:\n",
    "    \n",
    "    # Extract the matrix for the current index\n",
    "    matrix = avg_actv_net_nxs[index]\n",
    "    \n",
    "    # Apply Min-Max normalization to the matrix\n",
    "    matrix_normalized = scaler.fit_transform(matrix.reshape(-1, 1)).reshape(matrix.shape)\n",
    "\n",
    "    # Convert the normalized matrix to a dataframe\n",
    "    df = pd.DataFrame(matrix_normalized, columns=['size_' + str(i) for i in range(1, 8)])\n",
    "    df['numbers'] = numbers\n",
    "\n",
    "    # Melt the dataframe to a long format\n",
    "    df_melted = df.melt(id_vars=['numbers'], value_vars=['size_' + str(i) for i in range(1, 8)], var_name='size', value_name='value')\n",
    "\n",
    "    # Plotting\n",
    "    plt.figure(figsize=(8, 8))\n",
    "    \n",
    "    # Using 'rocket' colormap\n",
    "    colors = sns.color_palette(\"rocket\", n_colors=7)\n",
    "    sns.lineplot(data=df_melted, x='numbers', y='value', hue='size', palette=colors, linewidth=2.5)\n",
    "    \n",
    "    # Add annotation for coeff1 and coeff2\n",
    "    coeff1 = df90.loc[index, 'coeff1']\n",
    "    coeff2 = df90.loc[index, 'coeff2']\n",
    "    plt.annotate(f'coeff1: {coeff1:.6f}\\ncoeff2: {coeff2:.6f}', xy=(0.05, 0.9), xycoords='axes fraction', fontsize=10, bbox=dict(facecolor='white', edgecolor='black', boxstyle='round,pad=0.5'))\n",
    "    \n",
    "    plt.title(f'Normalized Line Plot for Index: {index}')\n",
    "    plt.xlabel('Numbers')\n",
    "    plt.ylabel('Normalized Value')\n",
    "    plt.legend().remove()  # Remove legend for clarity\n",
    "\n",
    "    # Save the figure\n",
    "    plt.savefig(f'normalized_line_plot_index_{index}.pdf')\n",
    "    plt.close()  # Close the figure to free up memory"
   ]
  },
  {
   "cell_type": "code",
   "execution_count": null,
   "id": "9868bd72-57c1-4ae3-bd2e-bf5b54437a95",
   "metadata": {
    "tags": []
   },
   "outputs": [],
   "source": [
    "import pandas as pd\n",
    "import seaborn as sns\n",
    "import matplotlib.pyplot as plt\n",
    "\n",
    "# Values for x-axis (numbers from 4 to 20 with an increment of 2)\n",
    "numbers = list(range(4, 21, 2))\n",
    "avg_actv_net_nxs = np.mean(actv_net, axis=2).reshape(actv_net.shape[0], 10, 10)[:, 1:, 3:]\n",
    "\n",
    "# Iterate over each matrix in avg_actv_net_nxs_Q4\n",
    "for index in filtered_df.index:\n",
    "    \n",
    "    # Extract the matrix for the current index\n",
    "    matrix = avg_actv_net_nxs[index]\n",
    "    \n",
    "    # Convert the matrix to a dataframe\n",
    "    df = pd.DataFrame(matrix, columns=['size_' + str(i) for i in range(1, 8)])\n",
    "    df['numbers'] = numbers\n",
    "\n",
    "    # Melt the dataframe to a long format\n",
    "    df_melted = df.melt(id_vars=['numbers'], value_vars=['size_' + str(i) for i in range(1, 8)], var_name='size', value_name='value')\n",
    "\n",
    "    # Plotting\n",
    "    plt.figure(figsize=(8, 8))\n",
    "    \n",
    "    # Using 'rocket' colormap\n",
    "    colors = sns.color_palette(\"rocket\", n_colors=7)\n",
    "    sns.lineplot(data=df_melted, x='numbers', y='value', hue='size', palette=colors, linewidth=2.5)\n",
    "    \n",
    "    # Add annotation for coeff1 and coeff2\n",
    "    coeff1 = df90.loc[index, 'coeff1']\n",
    "    coeff2 = df90.loc[index, 'coeff2']\n",
    "    plt.annotate(f'coeff1: {coeff1:.6f}\\ncoeff2: {coeff2:.6f}', xy=(0.05, 0.9), xycoords='axes fraction', fontsize=10, bbox=dict(facecolor='white', edgecolor='black', boxstyle='round,pad=0.5'))\n",
    "    \n",
    "    plt.title(f'Line Plot for Index: {index}')\n",
    "    plt.xlabel('Numbers')\n",
    "    plt.ylabel('Value')\n",
    "    plt.legend().remove()  # Remove legend for clarity\n",
    "\n",
    "    # Save the figure\n",
    "    plt.savefig(f'line_plot_index_{index}_number_units.pdf')\n",
    "    plt.close()  # Close the figure to free up memory"
   ]
  },
  {
   "cell_type": "code",
   "execution_count": null,
   "id": "0f26d34c-0d48-4e69-afb1-97a1f5e3a895",
   "metadata": {
    "tags": []
   },
   "outputs": [],
   "source": [
    "anova_numbers = [units[i].anova2_numbers for i in df90.index]\n",
    "anova_sizes = [units[i].anova2_sizes for i in df90.index]\n",
    "anova_int = [units[i].anova2_ns_int for i in df90.index]"
   ]
  },
  {
   "cell_type": "code",
   "execution_count": null,
   "id": "c9d9e4ad-35bc-4435-89d2-fd0ad9dbf31c",
   "metadata": {
    "tags": []
   },
   "outputs": [],
   "source": [
    "anova = pd.DataFrame({'numbers':anova_numbers, 'sizes':anova_sizes, 'int':anova_int}, index=df90.index)"
   ]
  },
  {
   "cell_type": "code",
   "execution_count": null,
   "id": "57db20c2-5f2a-45fd-b6c5-8f559f422a98",
   "metadata": {
    "tags": []
   },
   "outputs": [],
   "source": [
    "units[170].anova2_ns_int"
   ]
  },
  {
   "cell_type": "code",
   "execution_count": null,
   "id": "334a44eb-5c95-461c-aa91-ee2132919b5b",
   "metadata": {
    "tags": []
   },
   "outputs": [],
   "source": [
    "filtered_df = anova[(anova['numbers'] < 0.05) & (anova['sizes'] > 0.05) & (anova['int'] > 0.05)]"
   ]
  },
  {
   "cell_type": "code",
   "execution_count": null,
   "id": "c5af4bb5-8942-43a3-bc62-bd4b731b0eee",
   "metadata": {
    "tags": []
   },
   "outputs": [],
   "source": [
    "units[67].spearmanr_number"
   ]
  },
  {
   "cell_type": "code",
   "execution_count": null,
   "id": "47ba810d-c278-4eab-bffb-9571a547c26c",
   "metadata": {},
   "outputs": [],
   "source": []
  }
 ],
 "metadata": {
  "kernelspec": {
   "display_name": "Python 3 (ipykernel)",
   "language": "python",
   "name": "python3"
  },
  "language_info": {
   "codemirror_mode": {
    "name": "ipython",
    "version": 3
   },
   "file_extension": ".py",
   "mimetype": "text/x-python",
   "name": "python",
   "nbconvert_exporter": "python",
   "pygments_lexer": "ipython3",
   "version": "3.8.12"
  }
 },
 "nbformat": 4,
 "nbformat_minor": 5
}
